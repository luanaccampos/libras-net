{
 "cells": [
  {
   "cell_type": "code",
   "execution_count": 44,
   "id": "a415d7af-c08c-4b5c-ac17-14d1c7038fe2",
   "metadata": {},
   "outputs": [],
   "source": [
    "import numpy as np\n",
    "import pandas as pd\n",
    "from sklearn import preprocessing\n",
    "from sklearn.model_selection import train_test_split\n",
    "from sklearn.metrics import classification_report\n",
    "import tensorflow as tf\n",
    "from tensorflow.math import confusion_matrix\n",
    "from matplotlib import pyplot as plt\n",
    "import seaborn as sns\n",
    "from pandarallel import pandarallel\n",
    "import os"
   ]
  },
  {
   "cell_type": "code",
   "execution_count": 2,
   "id": "8e9d1049-0ee7-4664-8ebb-9510f9eb17dc",
   "metadata": {},
   "outputs": [
    {
     "name": "stdout",
     "output_type": "stream",
     "text": [
      "INFO: Pandarallel will run on 4 workers.\n",
      "INFO: Pandarallel will use Memory file system to transfer data between the main process and workers.\n"
     ]
    }
   ],
   "source": [
    "pandarallel.initialize(progress_bar=True, nb_workers=4)"
   ]
  },
  {
   "cell_type": "code",
   "execution_count": 45,
   "id": "baf60cce-6345-48dc-ba4f-ffe2891631a1",
   "metadata": {},
   "outputs": [],
   "source": [
    "os.environ['TF_GPU_ALLOCATOR'] = 'cuda_malloc_async'"
   ]
  },
  {
   "cell_type": "markdown",
   "id": "f51f4a7e-d2f7-47f3-a372-a4aa421d552d",
   "metadata": {},
   "source": [
    "# <span style=\"color:purple\"> LEITURA DATASET </span>"
   ]
  },
  {
   "cell_type": "code",
   "execution_count": 46,
   "id": "3a90b78f-63f0-4f2b-955a-01c56a9eebc2",
   "metadata": {},
   "outputs": [
    {
     "data": {
      "text/html": [
       "<div>\n",
       "<style scoped>\n",
       "    .dataframe tbody tr th:only-of-type {\n",
       "        vertical-align: middle;\n",
       "    }\n",
       "\n",
       "    .dataframe tbody tr th {\n",
       "        vertical-align: top;\n",
       "    }\n",
       "\n",
       "    .dataframe thead th {\n",
       "        text-align: right;\n",
       "    }\n",
       "</style>\n",
       "<table border=\"1\" class=\"dataframe\">\n",
       "  <thead>\n",
       "    <tr style=\"text-align: right;\">\n",
       "      <th></th>\n",
       "      <th>0</th>\n",
       "      <th>1</th>\n",
       "      <th>2</th>\n",
       "      <th>3</th>\n",
       "      <th>4</th>\n",
       "      <th>5</th>\n",
       "      <th>6</th>\n",
       "      <th>7</th>\n",
       "      <th>8</th>\n",
       "      <th>9</th>\n",
       "      <th>...</th>\n",
       "      <th>55</th>\n",
       "      <th>56</th>\n",
       "      <th>57</th>\n",
       "      <th>58</th>\n",
       "      <th>59</th>\n",
       "      <th>60</th>\n",
       "      <th>61</th>\n",
       "      <th>62</th>\n",
       "      <th>classe</th>\n",
       "      <th>signer</th>\n",
       "    </tr>\n",
       "  </thead>\n",
       "  <tbody>\n",
       "    <tr>\n",
       "      <th>0</th>\n",
       "      <td>-0.017099</td>\n",
       "      <td>0.074121</td>\n",
       "      <td>0.029225</td>\n",
       "      <td>0.014051</td>\n",
       "      <td>0.058728</td>\n",
       "      <td>0.009632</td>\n",
       "      <td>0.039656</td>\n",
       "      <td>0.031753</td>\n",
       "      <td>0.009053</td>\n",
       "      <td>0.050213</td>\n",
       "      <td>...</td>\n",
       "      <td>-0.002303</td>\n",
       "      <td>-0.023718</td>\n",
       "      <td>-0.027572</td>\n",
       "      <td>0.010728</td>\n",
       "      <td>-0.039088</td>\n",
       "      <td>-0.027355</td>\n",
       "      <td>0.030383</td>\n",
       "      <td>-0.033267</td>\n",
       "      <td>a</td>\n",
       "      <td>1</td>\n",
       "    </tr>\n",
       "    <tr>\n",
       "      <th>1</th>\n",
       "      <td>-0.018522</td>\n",
       "      <td>0.077600</td>\n",
       "      <td>0.042304</td>\n",
       "      <td>0.014973</td>\n",
       "      <td>0.061625</td>\n",
       "      <td>0.021581</td>\n",
       "      <td>0.038191</td>\n",
       "      <td>0.035574</td>\n",
       "      <td>0.016315</td>\n",
       "      <td>0.050110</td>\n",
       "      <td>...</td>\n",
       "      <td>-0.003511</td>\n",
       "      <td>-0.024794</td>\n",
       "      <td>-0.028738</td>\n",
       "      <td>0.008505</td>\n",
       "      <td>-0.039760</td>\n",
       "      <td>-0.029456</td>\n",
       "      <td>0.025255</td>\n",
       "      <td>-0.032276</td>\n",
       "      <td>a</td>\n",
       "      <td>1</td>\n",
       "    </tr>\n",
       "    <tr>\n",
       "      <th>2</th>\n",
       "      <td>-0.017549</td>\n",
       "      <td>0.076456</td>\n",
       "      <td>0.024980</td>\n",
       "      <td>0.014994</td>\n",
       "      <td>0.061221</td>\n",
       "      <td>0.009028</td>\n",
       "      <td>0.040677</td>\n",
       "      <td>0.035193</td>\n",
       "      <td>0.006823</td>\n",
       "      <td>0.051242</td>\n",
       "      <td>...</td>\n",
       "      <td>-0.005212</td>\n",
       "      <td>-0.026816</td>\n",
       "      <td>-0.029069</td>\n",
       "      <td>0.009509</td>\n",
       "      <td>-0.043568</td>\n",
       "      <td>-0.029739</td>\n",
       "      <td>0.025860</td>\n",
       "      <td>-0.033943</td>\n",
       "      <td>a</td>\n",
       "      <td>1</td>\n",
       "    </tr>\n",
       "    <tr>\n",
       "      <th>3</th>\n",
       "      <td>-0.018035</td>\n",
       "      <td>0.074108</td>\n",
       "      <td>0.026305</td>\n",
       "      <td>0.014335</td>\n",
       "      <td>0.061480</td>\n",
       "      <td>0.009067</td>\n",
       "      <td>0.041155</td>\n",
       "      <td>0.034971</td>\n",
       "      <td>0.007484</td>\n",
       "      <td>0.053065</td>\n",
       "      <td>...</td>\n",
       "      <td>-0.005967</td>\n",
       "      <td>-0.025329</td>\n",
       "      <td>-0.028049</td>\n",
       "      <td>0.008154</td>\n",
       "      <td>-0.042830</td>\n",
       "      <td>-0.029469</td>\n",
       "      <td>0.025276</td>\n",
       "      <td>-0.035842</td>\n",
       "      <td>a</td>\n",
       "      <td>1</td>\n",
       "    </tr>\n",
       "    <tr>\n",
       "      <th>4</th>\n",
       "      <td>-0.019758</td>\n",
       "      <td>0.073813</td>\n",
       "      <td>0.022515</td>\n",
       "      <td>0.013214</td>\n",
       "      <td>0.060358</td>\n",
       "      <td>0.003533</td>\n",
       "      <td>0.040344</td>\n",
       "      <td>0.034076</td>\n",
       "      <td>0.003901</td>\n",
       "      <td>0.050639</td>\n",
       "      <td>...</td>\n",
       "      <td>-0.006707</td>\n",
       "      <td>-0.024691</td>\n",
       "      <td>-0.028827</td>\n",
       "      <td>0.006417</td>\n",
       "      <td>-0.041393</td>\n",
       "      <td>-0.029537</td>\n",
       "      <td>0.025182</td>\n",
       "      <td>-0.036341</td>\n",
       "      <td>a</td>\n",
       "      <td>1</td>\n",
       "    </tr>\n",
       "  </tbody>\n",
       "</table>\n",
       "<p>5 rows × 65 columns</p>\n",
       "</div>"
      ],
      "text/plain": [
       "          0         1         2         3         4         5         6  \\\n",
       "0 -0.017099  0.074121  0.029225  0.014051  0.058728  0.009632  0.039656   \n",
       "1 -0.018522  0.077600  0.042304  0.014973  0.061625  0.021581  0.038191   \n",
       "2 -0.017549  0.076456  0.024980  0.014994  0.061221  0.009028  0.040677   \n",
       "3 -0.018035  0.074108  0.026305  0.014335  0.061480  0.009067  0.041155   \n",
       "4 -0.019758  0.073813  0.022515  0.013214  0.060358  0.003533  0.040344   \n",
       "\n",
       "          7         8         9  ...        55        56        57        58  \\\n",
       "0  0.031753  0.009053  0.050213  ... -0.002303 -0.023718 -0.027572  0.010728   \n",
       "1  0.035574  0.016315  0.050110  ... -0.003511 -0.024794 -0.028738  0.008505   \n",
       "2  0.035193  0.006823  0.051242  ... -0.005212 -0.026816 -0.029069  0.009509   \n",
       "3  0.034971  0.007484  0.053065  ... -0.005967 -0.025329 -0.028049  0.008154   \n",
       "4  0.034076  0.003901  0.050639  ... -0.006707 -0.024691 -0.028827  0.006417   \n",
       "\n",
       "         59        60        61        62  classe  signer  \n",
       "0 -0.039088 -0.027355  0.030383 -0.033267       a       1  \n",
       "1 -0.039760 -0.029456  0.025255 -0.032276       a       1  \n",
       "2 -0.043568 -0.029739  0.025860 -0.033943       a       1  \n",
       "3 -0.042830 -0.029469  0.025276 -0.035842       a       1  \n",
       "4 -0.041393 -0.029537  0.025182 -0.036341       a       1  \n",
       "\n",
       "[5 rows x 65 columns]"
      ]
     },
     "execution_count": 46,
     "metadata": {},
     "output_type": "execute_result"
    }
   ],
   "source": [
    "columns = [i for i in range(0, 63)]\n",
    "columns.extend([\"classe\", \"signer\"])\n",
    "dataset = pd.read_csv('dataset_v1.csv')\n",
    "dataset.columns = columns\n",
    "dataset.head()"
   ]
  },
  {
   "cell_type": "code",
   "execution_count": 3,
   "id": "c29017cf-5cf0-4fee-8064-4d4915435994",
   "metadata": {},
   "outputs": [
    {
     "data": {
      "text/plain": [
       "12580"
      ]
     },
     "execution_count": 3,
     "metadata": {},
     "output_type": "execute_result"
    }
   ],
   "source": [
    "len(dataset.index)"
   ]
  },
  {
   "cell_type": "markdown",
   "id": "29179a5d-ddc4-4869-b92f-c467eaeb8186",
   "metadata": {},
   "source": [
    "# <span style=\"color:purple\"> FEATURE ENGINEERING </span>"
   ]
  },
  {
   "cell_type": "code",
   "execution_count": 53,
   "id": "f03fb93f-af1a-4ad2-9d26-adb8c66bd7eb",
   "metadata": {},
   "outputs": [],
   "source": [
    "def dist(row):\n",
    "    d = []\n",
    "    for i in range(21):\n",
    "        for j in range(i+1, 21):\n",
    "            a = i*3\n",
    "            b = j*3\n",
    "            x1, y1, z1 = row[a:a+3]\n",
    "            x2, y2, z2 = row[b:b+3]\n",
    "            d.append(np.linalg.norm([x1-x2, y1-y2, z1-z2]))\n",
    "    return d"
   ]
  },
  {
   "cell_type": "code",
   "execution_count": 23,
   "id": "fa1f0d94-1d8d-47b9-a97e-0ba3a6974e50",
   "metadata": {},
   "outputs": [
    {
     "data": {
      "application/vnd.jupyter.widget-view+json": {
       "model_id": "7298efeff38f465e9e2f2ebd8da20788",
       "version_major": 2,
       "version_minor": 0
      },
      "text/plain": [
       "VBox(children=(HBox(children=(IntProgress(value=0, description='0.00%', max=3936), Label(value='0 / 3936'))), …"
      ]
     },
     "metadata": {},
     "output_type": "display_data"
    }
   ],
   "source": [
    "new_feats = dataset.parallel_apply(dist, axis=1)"
   ]
  },
  {
   "cell_type": "code",
   "execution_count": 24,
   "id": "2e46a5f5-f6fe-4a40-9d34-0433004c05d8",
   "metadata": {},
   "outputs": [
    {
     "data": {
      "text/plain": [
       "(15744, 210)"
      ]
     },
     "execution_count": 24,
     "metadata": {},
     "output_type": "execute_result"
    }
   ],
   "source": [
    "new_feats = np.array([np.array(x) for x in new_feats])\n",
    "new_feats.shape"
   ]
  },
  {
   "cell_type": "code",
   "execution_count": 25,
   "id": "d8c7d0c0-d6bc-4c54-882a-0e42a3923d45",
   "metadata": {},
   "outputs": [
    {
     "data": {
      "text/html": [
       "<div>\n",
       "<style scoped>\n",
       "    .dataframe tbody tr th:only-of-type {\n",
       "        vertical-align: middle;\n",
       "    }\n",
       "\n",
       "    .dataframe tbody tr th {\n",
       "        vertical-align: top;\n",
       "    }\n",
       "\n",
       "    .dataframe thead th {\n",
       "        text-align: right;\n",
       "    }\n",
       "</style>\n",
       "<table border=\"1\" class=\"dataframe\">\n",
       "  <thead>\n",
       "    <tr style=\"text-align: right;\">\n",
       "      <th></th>\n",
       "      <th>63</th>\n",
       "      <th>64</th>\n",
       "      <th>65</th>\n",
       "      <th>66</th>\n",
       "      <th>67</th>\n",
       "      <th>68</th>\n",
       "      <th>69</th>\n",
       "      <th>70</th>\n",
       "      <th>71</th>\n",
       "      <th>72</th>\n",
       "      <th>...</th>\n",
       "      <th>263</th>\n",
       "      <th>264</th>\n",
       "      <th>265</th>\n",
       "      <th>266</th>\n",
       "      <th>267</th>\n",
       "      <th>268</th>\n",
       "      <th>269</th>\n",
       "      <th>270</th>\n",
       "      <th>271</th>\n",
       "      <th>272</th>\n",
       "    </tr>\n",
       "  </thead>\n",
       "  <tbody>\n",
       "    <tr>\n",
       "      <th>0</th>\n",
       "      <td>0.036049</td>\n",
       "      <td>0.068586</td>\n",
       "      <td>0.100804</td>\n",
       "      <td>0.125762</td>\n",
       "      <td>0.094236</td>\n",
       "      <td>0.108180</td>\n",
       "      <td>0.092875</td>\n",
       "      <td>0.068497</td>\n",
       "      <td>0.092215</td>\n",
       "      <td>0.107381</td>\n",
       "      <td>...</td>\n",
       "      <td>0.036790</td>\n",
       "      <td>0.045677</td>\n",
       "      <td>0.030445</td>\n",
       "      <td>0.016911</td>\n",
       "      <td>0.028101</td>\n",
       "      <td>0.036699</td>\n",
       "      <td>0.032199</td>\n",
       "      <td>0.025837</td>\n",
       "      <td>0.040866</td>\n",
       "      <td>0.024223</td>\n",
       "    </tr>\n",
       "    <tr>\n",
       "      <th>1</th>\n",
       "      <td>0.040339</td>\n",
       "      <td>0.072021</td>\n",
       "      <td>0.105423</td>\n",
       "      <td>0.128574</td>\n",
       "      <td>0.103677</td>\n",
       "      <td>0.117833</td>\n",
       "      <td>0.101243</td>\n",
       "      <td>0.076790</td>\n",
       "      <td>0.100292</td>\n",
       "      <td>0.115127</td>\n",
       "      <td>...</td>\n",
       "      <td>0.039913</td>\n",
       "      <td>0.048455</td>\n",
       "      <td>0.032417</td>\n",
       "      <td>0.018672</td>\n",
       "      <td>0.028711</td>\n",
       "      <td>0.038070</td>\n",
       "      <td>0.034149</td>\n",
       "      <td>0.026512</td>\n",
       "      <td>0.040730</td>\n",
       "      <td>0.022781</td>\n",
       "    </tr>\n",
       "    <tr>\n",
       "      <th>2</th>\n",
       "      <td>0.041364</td>\n",
       "      <td>0.072569</td>\n",
       "      <td>0.106332</td>\n",
       "      <td>0.131009</td>\n",
       "      <td>0.105710</td>\n",
       "      <td>0.117446</td>\n",
       "      <td>0.100200</td>\n",
       "      <td>0.075727</td>\n",
       "      <td>0.102700</td>\n",
       "      <td>0.113537</td>\n",
       "      <td>...</td>\n",
       "      <td>0.039762</td>\n",
       "      <td>0.049583</td>\n",
       "      <td>0.035024</td>\n",
       "      <td>0.021047</td>\n",
       "      <td>0.029188</td>\n",
       "      <td>0.038581</td>\n",
       "      <td>0.033654</td>\n",
       "      <td>0.026166</td>\n",
       "      <td>0.039092</td>\n",
       "      <td>0.021624</td>\n",
       "    </tr>\n",
       "    <tr>\n",
       "      <th>3</th>\n",
       "      <td>0.042300</td>\n",
       "      <td>0.073763</td>\n",
       "      <td>0.107208</td>\n",
       "      <td>0.131787</td>\n",
       "      <td>0.107135</td>\n",
       "      <td>0.119134</td>\n",
       "      <td>0.102785</td>\n",
       "      <td>0.078731</td>\n",
       "      <td>0.104123</td>\n",
       "      <td>0.115749</td>\n",
       "      <td>...</td>\n",
       "      <td>0.040736</td>\n",
       "      <td>0.051343</td>\n",
       "      <td>0.036532</td>\n",
       "      <td>0.021248</td>\n",
       "      <td>0.029489</td>\n",
       "      <td>0.038360</td>\n",
       "      <td>0.033086</td>\n",
       "      <td>0.025766</td>\n",
       "      <td>0.038390</td>\n",
       "      <td>0.021093</td>\n",
       "    </tr>\n",
       "    <tr>\n",
       "      <th>4</th>\n",
       "      <td>0.040867</td>\n",
       "      <td>0.072864</td>\n",
       "      <td>0.105149</td>\n",
       "      <td>0.129026</td>\n",
       "      <td>0.105465</td>\n",
       "      <td>0.115816</td>\n",
       "      <td>0.099173</td>\n",
       "      <td>0.075582</td>\n",
       "      <td>0.102714</td>\n",
       "      <td>0.113762</td>\n",
       "      <td>...</td>\n",
       "      <td>0.039826</td>\n",
       "      <td>0.050607</td>\n",
       "      <td>0.036317</td>\n",
       "      <td>0.020601</td>\n",
       "      <td>0.028745</td>\n",
       "      <td>0.038198</td>\n",
       "      <td>0.032071</td>\n",
       "      <td>0.025811</td>\n",
       "      <td>0.038128</td>\n",
       "      <td>0.021921</td>\n",
       "    </tr>\n",
       "  </tbody>\n",
       "</table>\n",
       "<p>5 rows × 210 columns</p>\n",
       "</div>"
      ],
      "text/plain": [
       "        63        64        65        66        67        68        69   \\\n",
       "0  0.036049  0.068586  0.100804  0.125762  0.094236  0.108180  0.092875   \n",
       "1  0.040339  0.072021  0.105423  0.128574  0.103677  0.117833  0.101243   \n",
       "2  0.041364  0.072569  0.106332  0.131009  0.105710  0.117446  0.100200   \n",
       "3  0.042300  0.073763  0.107208  0.131787  0.107135  0.119134  0.102785   \n",
       "4  0.040867  0.072864  0.105149  0.129026  0.105465  0.115816  0.099173   \n",
       "\n",
       "        70        71        72   ...       263       264       265       266  \\\n",
       "0  0.068497  0.092215  0.107381  ...  0.036790  0.045677  0.030445  0.016911   \n",
       "1  0.076790  0.100292  0.115127  ...  0.039913  0.048455  0.032417  0.018672   \n",
       "2  0.075727  0.102700  0.113537  ...  0.039762  0.049583  0.035024  0.021047   \n",
       "3  0.078731  0.104123  0.115749  ...  0.040736  0.051343  0.036532  0.021248   \n",
       "4  0.075582  0.102714  0.113762  ...  0.039826  0.050607  0.036317  0.020601   \n",
       "\n",
       "        267       268       269       270       271       272  \n",
       "0  0.028101  0.036699  0.032199  0.025837  0.040866  0.024223  \n",
       "1  0.028711  0.038070  0.034149  0.026512  0.040730  0.022781  \n",
       "2  0.029188  0.038581  0.033654  0.026166  0.039092  0.021624  \n",
       "3  0.029489  0.038360  0.033086  0.025766  0.038390  0.021093  \n",
       "4  0.028745  0.038198  0.032071  0.025811  0.038128  0.021921  \n",
       "\n",
       "[5 rows x 210 columns]"
      ]
     },
     "execution_count": 25,
     "metadata": {},
     "output_type": "execute_result"
    }
   ],
   "source": [
    "new_feats = pd.DataFrame(new_feats, columns = [i for i in range(63, 273)])\n",
    "new_feats.head()"
   ]
  },
  {
   "cell_type": "code",
   "execution_count": 82,
   "id": "e53c2199-705c-4fbc-ab08-fc2d22b51b48",
   "metadata": {},
   "outputs": [
    {
     "data": {
      "text/html": [
       "<div>\n",
       "<style scoped>\n",
       "    .dataframe tbody tr th:only-of-type {\n",
       "        vertical-align: middle;\n",
       "    }\n",
       "\n",
       "    .dataframe tbody tr th {\n",
       "        vertical-align: top;\n",
       "    }\n",
       "\n",
       "    .dataframe thead th {\n",
       "        text-align: right;\n",
       "    }\n",
       "</style>\n",
       "<table border=\"1\" class=\"dataframe\">\n",
       "  <thead>\n",
       "    <tr style=\"text-align: right;\">\n",
       "      <th></th>\n",
       "      <th>0</th>\n",
       "      <th>1</th>\n",
       "      <th>2</th>\n",
       "      <th>3</th>\n",
       "      <th>4</th>\n",
       "      <th>5</th>\n",
       "      <th>6</th>\n",
       "      <th>7</th>\n",
       "      <th>8</th>\n",
       "      <th>9</th>\n",
       "      <th>...</th>\n",
       "      <th>263</th>\n",
       "      <th>264</th>\n",
       "      <th>265</th>\n",
       "      <th>266</th>\n",
       "      <th>267</th>\n",
       "      <th>268</th>\n",
       "      <th>269</th>\n",
       "      <th>270</th>\n",
       "      <th>271</th>\n",
       "      <th>272</th>\n",
       "    </tr>\n",
       "  </thead>\n",
       "  <tbody>\n",
       "    <tr>\n",
       "      <th>0</th>\n",
       "      <td>-0.015155</td>\n",
       "      <td>0.083723</td>\n",
       "      <td>-0.019764</td>\n",
       "      <td>0.016621</td>\n",
       "      <td>0.067022</td>\n",
       "      <td>-0.016464</td>\n",
       "      <td>0.037898</td>\n",
       "      <td>0.040288</td>\n",
       "      <td>-0.018105</td>\n",
       "      <td>0.048381</td>\n",
       "      <td>...</td>\n",
       "      <td>0.036790</td>\n",
       "      <td>0.045677</td>\n",
       "      <td>0.030445</td>\n",
       "      <td>0.016911</td>\n",
       "      <td>0.028101</td>\n",
       "      <td>0.036699</td>\n",
       "      <td>0.032199</td>\n",
       "      <td>0.025837</td>\n",
       "      <td>0.040866</td>\n",
       "      <td>0.024223</td>\n",
       "    </tr>\n",
       "    <tr>\n",
       "      <th>1</th>\n",
       "      <td>-0.017470</td>\n",
       "      <td>0.089129</td>\n",
       "      <td>-0.024697</td>\n",
       "      <td>0.017672</td>\n",
       "      <td>0.070180</td>\n",
       "      <td>-0.018930</td>\n",
       "      <td>0.037136</td>\n",
       "      <td>0.042391</td>\n",
       "      <td>-0.020137</td>\n",
       "      <td>0.047958</td>\n",
       "      <td>...</td>\n",
       "      <td>0.039913</td>\n",
       "      <td>0.048455</td>\n",
       "      <td>0.032417</td>\n",
       "      <td>0.018672</td>\n",
       "      <td>0.028711</td>\n",
       "      <td>0.038070</td>\n",
       "      <td>0.034149</td>\n",
       "      <td>0.026512</td>\n",
       "      <td>0.040730</td>\n",
       "      <td>0.022781</td>\n",
       "    </tr>\n",
       "    <tr>\n",
       "      <th>2</th>\n",
       "      <td>-0.018608</td>\n",
       "      <td>0.088464</td>\n",
       "      <td>-0.034686</td>\n",
       "      <td>0.017341</td>\n",
       "      <td>0.069314</td>\n",
       "      <td>-0.027479</td>\n",
       "      <td>0.036115</td>\n",
       "      <td>0.041589</td>\n",
       "      <td>-0.026058</td>\n",
       "      <td>0.046782</td>\n",
       "      <td>...</td>\n",
       "      <td>0.039762</td>\n",
       "      <td>0.049583</td>\n",
       "      <td>0.035024</td>\n",
       "      <td>0.021047</td>\n",
       "      <td>0.029188</td>\n",
       "      <td>0.038581</td>\n",
       "      <td>0.033654</td>\n",
       "      <td>0.026166</td>\n",
       "      <td>0.039092</td>\n",
       "      <td>0.021624</td>\n",
       "    </tr>\n",
       "    <tr>\n",
       "      <th>3</th>\n",
       "      <td>-0.018881</td>\n",
       "      <td>0.089806</td>\n",
       "      <td>-0.033932</td>\n",
       "      <td>0.017604</td>\n",
       "      <td>0.069527</td>\n",
       "      <td>-0.027086</td>\n",
       "      <td>0.036691</td>\n",
       "      <td>0.042036</td>\n",
       "      <td>-0.025525</td>\n",
       "      <td>0.047545</td>\n",
       "      <td>...</td>\n",
       "      <td>0.040736</td>\n",
       "      <td>0.051343</td>\n",
       "      <td>0.036532</td>\n",
       "      <td>0.021248</td>\n",
       "      <td>0.029489</td>\n",
       "      <td>0.038360</td>\n",
       "      <td>0.033086</td>\n",
       "      <td>0.025766</td>\n",
       "      <td>0.038390</td>\n",
       "      <td>0.021093</td>\n",
       "    </tr>\n",
       "    <tr>\n",
       "      <th>4</th>\n",
       "      <td>-0.018110</td>\n",
       "      <td>0.088998</td>\n",
       "      <td>-0.032207</td>\n",
       "      <td>0.016747</td>\n",
       "      <td>0.068922</td>\n",
       "      <td>-0.024993</td>\n",
       "      <td>0.036877</td>\n",
       "      <td>0.042021</td>\n",
       "      <td>-0.023326</td>\n",
       "      <td>0.047667</td>\n",
       "      <td>...</td>\n",
       "      <td>0.039826</td>\n",
       "      <td>0.050607</td>\n",
       "      <td>0.036317</td>\n",
       "      <td>0.020601</td>\n",
       "      <td>0.028745</td>\n",
       "      <td>0.038198</td>\n",
       "      <td>0.032071</td>\n",
       "      <td>0.025811</td>\n",
       "      <td>0.038128</td>\n",
       "      <td>0.021921</td>\n",
       "    </tr>\n",
       "  </tbody>\n",
       "</table>\n",
       "<p>5 rows × 275 columns</p>\n",
       "</div>"
      ],
      "text/plain": [
       "        0         1         2         3         4         5         6    \\\n",
       "0 -0.015155  0.083723 -0.019764  0.016621  0.067022 -0.016464  0.037898   \n",
       "1 -0.017470  0.089129 -0.024697  0.017672  0.070180 -0.018930  0.037136   \n",
       "2 -0.018608  0.088464 -0.034686  0.017341  0.069314 -0.027479  0.036115   \n",
       "3 -0.018881  0.089806 -0.033932  0.017604  0.069527 -0.027086  0.036691   \n",
       "4 -0.018110  0.088998 -0.032207  0.016747  0.068922 -0.024993  0.036877   \n",
       "\n",
       "        7         8         9    ...       263       264       265       266  \\\n",
       "0  0.040288 -0.018105  0.048381  ...  0.036790  0.045677  0.030445  0.016911   \n",
       "1  0.042391 -0.020137  0.047958  ...  0.039913  0.048455  0.032417  0.018672   \n",
       "2  0.041589 -0.026058  0.046782  ...  0.039762  0.049583  0.035024  0.021047   \n",
       "3  0.042036 -0.025525  0.047545  ...  0.040736  0.051343  0.036532  0.021248   \n",
       "4  0.042021 -0.023326  0.047667  ...  0.039826  0.050607  0.036317  0.020601   \n",
       "\n",
       "        267       268       269       270       271       272  \n",
       "0  0.028101  0.036699  0.032199  0.025837  0.040866  0.024223  \n",
       "1  0.028711  0.038070  0.034149  0.026512  0.040730  0.022781  \n",
       "2  0.029188  0.038581  0.033654  0.026166  0.039092  0.021624  \n",
       "3  0.029489  0.038360  0.033086  0.025766  0.038390  0.021093  \n",
       "4  0.028745  0.038198  0.032071  0.025811  0.038128  0.021921  \n",
       "\n",
       "[5 rows x 275 columns]"
      ]
     },
     "execution_count": 82,
     "metadata": {},
     "output_type": "execute_result"
    }
   ],
   "source": [
    "dataset = pd.concat([dataset, new_feats], axis=1)\n",
    "dataset.head()"
   ]
  },
  {
   "cell_type": "code",
   "execution_count": 47,
   "id": "23a4b8f8-07fb-4c8f-b457-c873ba996ac0",
   "metadata": {},
   "outputs": [],
   "source": [
    "signers_train = [3, 4, 5, 6, 7, 8]\n",
    "signers_test = [1, 2]"
   ]
  },
  {
   "cell_type": "code",
   "execution_count": 48,
   "id": "8fe29be7-de8e-4f6e-94c2-93284d735a6c",
   "metadata": {},
   "outputs": [],
   "source": [
    "classes = ['a', 'b', 'c', 'd', 'e', 'f', 'g', 'i', 'l', 'm', 'n', 'o', 'p',\n",
    "        'q', 'r', 's', 't', 'u', 'v', 'w', 'y']"
   ]
  },
  {
   "cell_type": "code",
   "execution_count": 49,
   "id": "04dcb644-4426-47e2-81a4-de2da4e64b56",
   "metadata": {
    "tags": []
   },
   "outputs": [
    {
     "data": {
      "text/plain": [
       "LabelEncoder()"
      ]
     },
     "execution_count": 49,
     "metadata": {},
     "output_type": "execute_result"
    }
   ],
   "source": [
    "le = preprocessing.LabelEncoder()\n",
    "le.fit(classes)"
   ]
  },
  {
   "cell_type": "code",
   "execution_count": 51,
   "id": "ede40552-4f37-4fa2-977a-e7ae13dd09cf",
   "metadata": {},
   "outputs": [],
   "source": [
    "dataset_train = dataset.loc[dataset['signer'].isin(signers_train)]"
   ]
  },
  {
   "cell_type": "code",
   "execution_count": 52,
   "id": "6bf902f4-3327-4de1-823c-9f2aef150fc4",
   "metadata": {},
   "outputs": [],
   "source": [
    "feats = [i for i in range(0, 63)]\n",
    "\n",
    "X_train = np.array(dataset_train[feats])\n",
    "Y_train = np.array(le.transform(dataset_train['classe']))\n",
    "Y_train = tf.keras.utils.to_categorical(Y_train, len(classes))\n",
    "\n",
    "X_train = preprocessing.normalize(X_train)"
   ]
  },
  {
   "cell_type": "code",
   "execution_count": 53,
   "id": "b735f234-4972-4a52-98cc-20aedd800307",
   "metadata": {},
   "outputs": [],
   "source": [
    "X_train, X_val, Y_train, Y_val = train_test_split(X_train, Y_train, test_size=0.2, random_state=42)"
   ]
  },
  {
   "cell_type": "code",
   "execution_count": 54,
   "id": "bbe97192",
   "metadata": {},
   "outputs": [],
   "source": [
    "dataset_test = dataset.loc[dataset['signer'].isin(signers_test)]"
   ]
  },
  {
   "cell_type": "code",
   "execution_count": 55,
   "id": "2a52bc6d",
   "metadata": {},
   "outputs": [],
   "source": [
    "X_test = np.array(dataset_test[feats])\n",
    "Y_test = np.array(le.transform(dataset_test['classe']))\n",
    "Y_test = tf.keras.utils.to_categorical(Y_test, len(classes))\n",
    "\n",
    "X_test = preprocessing.normalize(X_test)"
   ]
  },
  {
   "cell_type": "markdown",
   "id": "2421f437",
   "metadata": {},
   "source": [
    "# <span style=\"color:purple\"> ANÁLISE DO DATASET</span>"
   ]
  },
  {
   "cell_type": "code",
   "execution_count": 13,
   "id": "5eff160c",
   "metadata": {},
   "outputs": [
    {
     "data": {
      "image/png": "[encoded data removed]",
      "text/plain": [
       "<Figure size 640x480 with 1 Axes>"
      ]
     },
     "metadata": {},
     "output_type": "display_data"
    }
   ],
   "source": [
    "data = dataset_train['classe'].value_counts()\n",
    "plt.title('Distribuição Treino')\n",
    "_ = plt.pie(data, labels=data.index, autopct='%.0f%%')"
   ]
  },
  {
   "cell_type": "code",
   "execution_count": 14,
   "id": "bddf044b",
   "metadata": {},
   "outputs": [
    {
     "data": {
      "image/png": "[encoded data removed]",
      "text/plain": [
       "<Figure size 640x480 with 1 Axes>"
      ]
     },
     "metadata": {},
     "output_type": "display_data"
    }
   ],
   "source": [
    "data = dataset_test['classe'].value_counts()\n",
    "plt.title('Distribuição Teste')\n",
    "_ = plt.pie(data, labels=data.index, autopct='%.0f%%')"
   ]
  },
  {
   "cell_type": "markdown",
   "id": "5966ecbb-b6c5-4dc6-9ec3-04bb396a67cb",
   "metadata": {
    "tags": []
   },
   "source": [
    "# <span style=\"color:purple\"> MODELO </span>"
   ]
  },
  {
   "cell_type": "code",
   "execution_count": 66,
   "id": "5ba105fb-45a4-4303-8b36-c4919f12d0cc",
   "metadata": {
    "tags": []
   },
   "outputs": [],
   "source": [
    "model = tf.keras.Sequential(\n",
    "    [\n",
    "        tf.keras.layers.Dense(128, activation='relu', input_shape=(63, 1)),\n",
    "        tf.keras.layers.Dense(64, activation='relu'),\n",
    "        tf.keras.layers.Dropout(0.5),\n",
    "        tf.keras.layers.Flatten(),\n",
    "        tf.keras.layers.Dense(21, activation='softmax'),\n",
    "    ]\n",
    ")\n",
    "\n",
    "model.compile(loss='mean_squared_error', optimizer=\"adam\", metrics=['accuracy'])"
   ]
  },
  {
   "cell_type": "code",
   "execution_count": 67,
   "id": "2e02bf9c-9817-451b-9fbe-4dbb32776ea8",
   "metadata": {},
   "outputs": [
    {
     "name": "stdout",
     "output_type": "stream",
     "text": [
      "Model: \"sequential_9\"\n",
      "_________________________________________________________________\n",
      " Layer (type)                Output Shape              Param #   \n",
      "=================================================================\n",
      " dense_27 (Dense)            (None, 63, 128)           256       \n",
      "                                                                 \n",
      " dense_28 (Dense)            (None, 63, 64)            8256      \n",
      "                                                                 \n",
      " dropout_9 (Dropout)         (None, 63, 64)            0         \n",
      "                                                                 \n",
      " flatten_9 (Flatten)         (None, 4032)              0         \n",
      "                                                                 \n",
      " dense_29 (Dense)            (None, 21)                84693     \n",
      "                                                                 \n",
      "=================================================================\n",
      "Total params: 93,205\n",
      "Trainable params: 93,205\n",
      "Non-trainable params: 0\n",
      "_________________________________________________________________\n"
     ]
    }
   ],
   "source": [
    "model.summary()"
   ]
  },
  {
   "cell_type": "code",
   "execution_count": 68,
   "id": "a6ff7ea3-5e9c-4fae-b363-b30efb79ad01",
   "metadata": {
    "collapsed": true,
    "jupyter": {
     "outputs_hidden": true
    },
    "tags": []
   },
   "outputs": [
    {
     "name": "stdout",
     "output_type": "stream",
     "text": [
      "Epoch 1/100\n",
      "144/144 [==============================] - 1s 5ms/step - loss: 0.0222 - accuracy: 0.6566 - val_loss: 0.0058 - val_accuracy: 0.9267\n",
      "Epoch 2/100\n",
      "144/144 [==============================] - 1s 4ms/step - loss: 0.0055 - accuracy: 0.9285 - val_loss: 0.0043 - val_accuracy: 0.9424\n",
      "Epoch 3/100\n",
      "144/144 [==============================] - 1s 4ms/step - loss: 0.0034 - accuracy: 0.9561 - val_loss: 0.0024 - val_accuracy: 0.9734\n",
      "Epoch 4/100\n",
      "144/144 [==============================] - 1s 4ms/step - loss: 0.0027 - accuracy: 0.9655 - val_loss: 0.0016 - val_accuracy: 0.9773\n",
      "Epoch 5/100\n",
      "144/144 [==============================] - 1s 4ms/step - loss: 0.0024 - accuracy: 0.9692 - val_loss: 0.0016 - val_accuracy: 0.9799\n",
      "Epoch 6/100\n",
      "144/144 [==============================] - 1s 4ms/step - loss: 0.0023 - accuracy: 0.9694 - val_loss: 0.0017 - val_accuracy: 0.9804\n",
      "Epoch 7/100\n",
      "144/144 [==============================] - 1s 4ms/step - loss: 0.0019 - accuracy: 0.9748 - val_loss: 0.0012 - val_accuracy: 0.9838\n",
      "Epoch 8/100\n",
      "144/144 [==============================] - 1s 4ms/step - loss: 0.0021 - accuracy: 0.9718 - val_loss: 0.0020 - val_accuracy: 0.9725\n",
      "Epoch 9/100\n",
      "144/144 [==============================] - 1s 4ms/step - loss: 0.0020 - accuracy: 0.9739 - val_loss: 0.0012 - val_accuracy: 0.9834\n",
      "Epoch 10/100\n",
      "144/144 [==============================] - 1s 4ms/step - loss: 0.0018 - accuracy: 0.9780 - val_loss: 0.0013 - val_accuracy: 0.9834\n",
      "Epoch 11/100\n",
      "144/144 [==============================] - 1s 4ms/step - loss: 0.0019 - accuracy: 0.9748 - val_loss: 0.0011 - val_accuracy: 0.9838\n",
      "Epoch 12/100\n",
      "144/144 [==============================] - 1s 4ms/step - loss: 0.0017 - accuracy: 0.9781 - val_loss: 0.0014 - val_accuracy: 0.9830\n",
      "Epoch 13/100\n",
      "144/144 [==============================] - 1s 4ms/step - loss: 0.0018 - accuracy: 0.9776 - val_loss: 0.0014 - val_accuracy: 0.9834\n",
      "Epoch 14/100\n",
      "144/144 [==============================] - 1s 4ms/step - loss: 0.0016 - accuracy: 0.9799 - val_loss: 0.0011 - val_accuracy: 0.9856\n",
      "Epoch 15/100\n",
      "144/144 [==============================] - 1s 4ms/step - loss: 0.0016 - accuracy: 0.9801 - val_loss: 0.0010 - val_accuracy: 0.9869\n",
      "Epoch 16/100\n",
      "144/144 [==============================] - 1s 4ms/step - loss: 0.0014 - accuracy: 0.9812 - val_loss: 0.0011 - val_accuracy: 0.9873\n",
      "Epoch 17/100\n",
      "144/144 [==============================] - 1s 4ms/step - loss: 0.0017 - accuracy: 0.9788 - val_loss: 0.0011 - val_accuracy: 0.9847\n",
      "Epoch 18/100\n",
      "144/144 [==============================] - 1s 4ms/step - loss: 0.0014 - accuracy: 0.9818 - val_loss: 0.0011 - val_accuracy: 0.9847\n",
      "Epoch 19/100\n",
      "144/144 [==============================] - 1s 4ms/step - loss: 0.0016 - accuracy: 0.9798 - val_loss: 0.0012 - val_accuracy: 0.9852\n",
      "Epoch 20/100\n",
      "144/144 [==============================] - 1s 4ms/step - loss: 0.0014 - accuracy: 0.9829 - val_loss: 0.0010 - val_accuracy: 0.9878\n",
      "Epoch 21/100\n",
      "144/144 [==============================] - 1s 4ms/step - loss: 0.0015 - accuracy: 0.9805 - val_loss: 8.8812e-04 - val_accuracy: 0.9891\n",
      "Epoch 22/100\n",
      "144/144 [==============================] - 1s 4ms/step - loss: 0.0015 - accuracy: 0.9805 - val_loss: 0.0013 - val_accuracy: 0.9838\n",
      "Epoch 23/100\n",
      "144/144 [==============================] - 1s 4ms/step - loss: 0.0015 - accuracy: 0.9812 - val_loss: 0.0013 - val_accuracy: 0.9838\n",
      "Epoch 24/100\n",
      "144/144 [==============================] - 1s 4ms/step - loss: 0.0015 - accuracy: 0.9810 - val_loss: 0.0010 - val_accuracy: 0.9882\n",
      "Epoch 25/100\n",
      "144/144 [==============================] - 1s 4ms/step - loss: 0.0014 - accuracy: 0.9828 - val_loss: 9.5265e-04 - val_accuracy: 0.9887\n",
      "Epoch 26/100\n",
      "144/144 [==============================] - 1s 4ms/step - loss: 0.0015 - accuracy: 0.9811 - val_loss: 9.2939e-04 - val_accuracy: 0.9873\n",
      "Epoch 27/100\n",
      "144/144 [==============================] - 1s 4ms/step - loss: 0.0015 - accuracy: 0.9812 - val_loss: 0.0011 - val_accuracy: 0.9873\n",
      "Epoch 28/100\n",
      "144/144 [==============================] - 1s 4ms/step - loss: 0.0015 - accuracy: 0.9822 - val_loss: 9.9316e-04 - val_accuracy: 0.9869\n",
      "Epoch 29/100\n",
      "144/144 [==============================] - 1s 4ms/step - loss: 0.0013 - accuracy: 0.9831 - val_loss: 9.3176e-04 - val_accuracy: 0.9887\n",
      "Epoch 30/100\n",
      "144/144 [==============================] - 1s 4ms/step - loss: 0.0014 - accuracy: 0.9809 - val_loss: 0.0010 - val_accuracy: 0.9860\n",
      "Epoch 31/100\n",
      "144/144 [==============================] - 1s 4ms/step - loss: 0.0014 - accuracy: 0.9831 - val_loss: 8.9839e-04 - val_accuracy: 0.9895\n",
      "Epoch 32/100\n",
      "144/144 [==============================] - 1s 4ms/step - loss: 0.0014 - accuracy: 0.9831 - val_loss: 8.9271e-04 - val_accuracy: 0.9895\n",
      "Epoch 33/100\n",
      "144/144 [==============================] - 1s 4ms/step - loss: 0.0013 - accuracy: 0.9837 - val_loss: 7.9940e-04 - val_accuracy: 0.9900\n",
      "Epoch 34/100\n",
      "144/144 [==============================] - 1s 4ms/step - loss: 0.0013 - accuracy: 0.9840 - val_loss: 7.7400e-04 - val_accuracy: 0.9913\n",
      "Epoch 35/100\n",
      "144/144 [==============================] - 1s 4ms/step - loss: 0.0013 - accuracy: 0.9835 - val_loss: 9.0670e-04 - val_accuracy: 0.9878\n",
      "Epoch 36/100\n",
      "144/144 [==============================] - 1s 4ms/step - loss: 0.0014 - accuracy: 0.9821 - val_loss: 9.8064e-04 - val_accuracy: 0.9882\n",
      "Epoch 37/100\n",
      "144/144 [==============================] - 1s 4ms/step - loss: 0.0012 - accuracy: 0.9841 - val_loss: 7.0216e-04 - val_accuracy: 0.9913\n",
      "Epoch 38/100\n",
      "144/144 [==============================] - 1s 4ms/step - loss: 0.0013 - accuracy: 0.9831 - val_loss: 7.9892e-04 - val_accuracy: 0.9900\n",
      "Epoch 39/100\n",
      "144/144 [==============================] - 1s 4ms/step - loss: 0.0012 - accuracy: 0.9849 - val_loss: 7.7037e-04 - val_accuracy: 0.9908\n",
      "Epoch 40/100\n",
      "144/144 [==============================] - 1s 4ms/step - loss: 0.0013 - accuracy: 0.9843 - val_loss: 8.7909e-04 - val_accuracy: 0.9887\n",
      "Epoch 41/100\n",
      "144/144 [==============================] - 1s 4ms/step - loss: 0.0012 - accuracy: 0.9848 - val_loss: 0.0011 - val_accuracy: 0.9856\n",
      "Epoch 42/100\n",
      "144/144 [==============================] - 1s 4ms/step - loss: 0.0013 - accuracy: 0.9832 - val_loss: 8.8569e-04 - val_accuracy: 0.9895\n",
      "Epoch 43/100\n",
      "144/144 [==============================] - 1s 4ms/step - loss: 0.0012 - accuracy: 0.9848 - val_loss: 0.0010 - val_accuracy: 0.9882\n",
      "Epoch 44/100\n",
      "144/144 [==============================] - 1s 4ms/step - loss: 0.0011 - accuracy: 0.9857 - val_loss: 0.0013 - val_accuracy: 0.9847\n",
      "Epoch 45/100\n",
      "144/144 [==============================] - 1s 4ms/step - loss: 0.0013 - accuracy: 0.9835 - val_loss: 7.8261e-04 - val_accuracy: 0.9891\n",
      "Epoch 46/100\n",
      "144/144 [==============================] - 1s 4ms/step - loss: 0.0011 - accuracy: 0.9860 - val_loss: 9.0266e-04 - val_accuracy: 0.9891\n",
      "Epoch 47/100\n",
      "144/144 [==============================] - 1s 4ms/step - loss: 0.0011 - accuracy: 0.9858 - val_loss: 7.3021e-04 - val_accuracy: 0.9904\n",
      "Epoch 48/100\n",
      "144/144 [==============================] - 1s 4ms/step - loss: 0.0012 - accuracy: 0.9843 - val_loss: 6.3322e-04 - val_accuracy: 0.9921\n",
      "Epoch 49/100\n",
      "144/144 [==============================] - 1s 4ms/step - loss: 0.0011 - accuracy: 0.9868 - val_loss: 8.2565e-04 - val_accuracy: 0.9904\n",
      "Epoch 50/100\n",
      "144/144 [==============================] - 1s 4ms/step - loss: 0.0011 - accuracy: 0.9856 - val_loss: 8.1204e-04 - val_accuracy: 0.9891\n",
      "Epoch 51/100\n",
      "144/144 [==============================] - 1s 4ms/step - loss: 0.0011 - accuracy: 0.9868 - val_loss: 7.7132e-04 - val_accuracy: 0.9904\n",
      "Epoch 52/100\n",
      "144/144 [==============================] - 1s 4ms/step - loss: 9.6489e-04 - accuracy: 0.9880 - val_loss: 0.0011 - val_accuracy: 0.9856\n",
      "Epoch 53/100\n",
      "144/144 [==============================] - 1s 4ms/step - loss: 0.0011 - accuracy: 0.9856 - val_loss: 8.5662e-04 - val_accuracy: 0.9891\n",
      "Epoch 54/100\n",
      "144/144 [==============================] - 1s 4ms/step - loss: 0.0013 - accuracy: 0.9846 - val_loss: 0.0010 - val_accuracy: 0.9869\n",
      "Epoch 55/100\n",
      "144/144 [==============================] - 1s 4ms/step - loss: 0.0011 - accuracy: 0.9870 - val_loss: 8.1516e-04 - val_accuracy: 0.9895\n",
      "Epoch 56/100\n",
      "144/144 [==============================] - 1s 4ms/step - loss: 0.0013 - accuracy: 0.9841 - val_loss: 7.4681e-04 - val_accuracy: 0.9917\n",
      "Epoch 57/100\n",
      "144/144 [==============================] - 1s 4ms/step - loss: 0.0012 - accuracy: 0.9853 - val_loss: 9.3442e-04 - val_accuracy: 0.9895\n",
      "Epoch 58/100\n",
      "144/144 [==============================] - 1s 4ms/step - loss: 0.0010 - accuracy: 0.9875 - val_loss: 7.0631e-04 - val_accuracy: 0.9917\n",
      "Epoch 59/100\n",
      "144/144 [==============================] - 1s 4ms/step - loss: 0.0011 - accuracy: 0.9866 - val_loss: 6.7130e-04 - val_accuracy: 0.9917\n",
      "Epoch 60/100\n",
      "144/144 [==============================] - 1s 4ms/step - loss: 0.0011 - accuracy: 0.9860 - val_loss: 7.8435e-04 - val_accuracy: 0.9895\n",
      "Epoch 61/100\n",
      "144/144 [==============================] - 1s 4ms/step - loss: 0.0011 - accuracy: 0.9865 - val_loss: 7.1532e-04 - val_accuracy: 0.9917\n",
      "Epoch 62/100\n",
      "144/144 [==============================] - 1s 4ms/step - loss: 0.0011 - accuracy: 0.9863 - val_loss: 7.7447e-04 - val_accuracy: 0.9904\n",
      "Epoch 63/100\n",
      "144/144 [==============================] - 1s 4ms/step - loss: 0.0011 - accuracy: 0.9859 - val_loss: 8.0068e-04 - val_accuracy: 0.9900\n",
      "Epoch 64/100\n",
      "144/144 [==============================] - 1s 5ms/step - loss: 0.0011 - accuracy: 0.9853 - val_loss: 7.5321e-04 - val_accuracy: 0.9917\n",
      "Epoch 65/100\n",
      "144/144 [==============================] - 1s 5ms/step - loss: 9.4592e-04 - accuracy: 0.9887 - val_loss: 7.1320e-04 - val_accuracy: 0.9913\n",
      "Epoch 66/100\n",
      "144/144 [==============================] - 1s 4ms/step - loss: 0.0011 - accuracy: 0.9858 - val_loss: 7.9800e-04 - val_accuracy: 0.9908\n",
      "Epoch 67/100\n",
      "144/144 [==============================] - 1s 4ms/step - loss: 0.0012 - accuracy: 0.9852 - val_loss: 7.5556e-04 - val_accuracy: 0.9908\n",
      "Epoch 68/100\n",
      "144/144 [==============================] - 1s 4ms/step - loss: 0.0011 - accuracy: 0.9861 - val_loss: 7.7271e-04 - val_accuracy: 0.9908\n",
      "Epoch 69/100\n",
      "144/144 [==============================] - 1s 4ms/step - loss: 0.0011 - accuracy: 0.9868 - val_loss: 8.5580e-04 - val_accuracy: 0.9895\n",
      "Epoch 70/100\n",
      "144/144 [==============================] - 1s 4ms/step - loss: 0.0010 - accuracy: 0.9866 - val_loss: 9.0661e-04 - val_accuracy: 0.9891\n",
      "Epoch 71/100\n",
      "144/144 [==============================] - 1s 4ms/step - loss: 0.0011 - accuracy: 0.9860 - val_loss: 7.9435e-04 - val_accuracy: 0.9900\n",
      "Epoch 72/100\n",
      "144/144 [==============================] - 1s 4ms/step - loss: 9.8554e-04 - accuracy: 0.9879 - val_loss: 6.8970e-04 - val_accuracy: 0.9921\n",
      "Epoch 73/100\n",
      "144/144 [==============================] - 1s 4ms/step - loss: 9.3718e-04 - accuracy: 0.9884 - val_loss: 6.8060e-04 - val_accuracy: 0.9921\n",
      "Epoch 74/100\n",
      "144/144 [==============================] - 1s 4ms/step - loss: 8.3184e-04 - accuracy: 0.9899 - val_loss: 6.8404e-04 - val_accuracy: 0.9913\n",
      "Epoch 75/100\n",
      "144/144 [==============================] - 1s 4ms/step - loss: 0.0010 - accuracy: 0.9877 - val_loss: 6.8187e-04 - val_accuracy: 0.9921\n",
      "Epoch 76/100\n",
      "144/144 [==============================] - 1s 4ms/step - loss: 0.0011 - accuracy: 0.9868 - val_loss: 8.1954e-04 - val_accuracy: 0.9900\n",
      "Epoch 77/100\n",
      "144/144 [==============================] - 1s 4ms/step - loss: 9.2229e-04 - accuracy: 0.9889 - val_loss: 6.3259e-04 - val_accuracy: 0.9926\n",
      "Epoch 78/100\n",
      "144/144 [==============================] - 1s 4ms/step - loss: 9.3233e-04 - accuracy: 0.9891 - val_loss: 7.3657e-04 - val_accuracy: 0.9917\n",
      "Epoch 79/100\n",
      "144/144 [==============================] - 1s 4ms/step - loss: 0.0010 - accuracy: 0.9872 - val_loss: 8.6789e-04 - val_accuracy: 0.9887\n",
      "Epoch 80/100\n",
      "144/144 [==============================] - 1s 4ms/step - loss: 0.0011 - accuracy: 0.9876 - val_loss: 7.1580e-04 - val_accuracy: 0.9917\n",
      "Epoch 81/100\n",
      "144/144 [==============================] - 1s 6ms/step - loss: 9.3963e-04 - accuracy: 0.9882 - val_loss: 6.5855e-04 - val_accuracy: 0.9921\n",
      "Epoch 82/100\n",
      "144/144 [==============================] - 1s 9ms/step - loss: 9.1620e-04 - accuracy: 0.9890 - val_loss: 6.8469e-04 - val_accuracy: 0.9917\n",
      "Epoch 83/100\n",
      "144/144 [==============================] - 1s 9ms/step - loss: 9.8825e-04 - accuracy: 0.9876 - val_loss: 8.6746e-04 - val_accuracy: 0.9887\n",
      "Epoch 84/100\n",
      "144/144 [==============================] - 1s 8ms/step - loss: 9.2143e-04 - accuracy: 0.9885 - val_loss: 6.3544e-04 - val_accuracy: 0.9926\n",
      "Epoch 85/100\n",
      "144/144 [==============================] - 1s 10ms/step - loss: 9.6210e-04 - accuracy: 0.9880 - val_loss: 7.5291e-04 - val_accuracy: 0.9908\n",
      "Epoch 86/100\n",
      "144/144 [==============================] - 2s 11ms/step - loss: 0.0010 - accuracy: 0.9866 - val_loss: 6.7266e-04 - val_accuracy: 0.9921\n",
      "Epoch 87/100\n",
      "144/144 [==============================] - 1s 9ms/step - loss: 9.6950e-04 - accuracy: 0.9882 - val_loss: 8.0545e-04 - val_accuracy: 0.9891\n",
      "Epoch 88/100\n",
      "144/144 [==============================] - 1s 6ms/step - loss: 0.0010 - accuracy: 0.9871 - val_loss: 8.1208e-04 - val_accuracy: 0.9904\n",
      "Epoch 89/100\n",
      "144/144 [==============================] - 1s 4ms/step - loss: 9.0398e-04 - accuracy: 0.9887 - val_loss: 7.4686e-04 - val_accuracy: 0.9904\n",
      "Epoch 90/100\n",
      "144/144 [==============================] - 1s 4ms/step - loss: 9.5561e-04 - accuracy: 0.9879 - val_loss: 8.4960e-04 - val_accuracy: 0.9900\n",
      "Epoch 91/100\n",
      "144/144 [==============================] - 1s 4ms/step - loss: 0.0011 - accuracy: 0.9860 - val_loss: 7.1433e-04 - val_accuracy: 0.9913\n",
      "Epoch 92/100\n",
      "144/144 [==============================] - 1s 4ms/step - loss: 0.0010 - accuracy: 0.9869 - val_loss: 6.6352e-04 - val_accuracy: 0.9921\n",
      "Epoch 93/100\n",
      "144/144 [==============================] - 1s 4ms/step - loss: 9.9963e-04 - accuracy: 0.9876 - val_loss: 7.9485e-04 - val_accuracy: 0.9900\n",
      "Epoch 94/100\n",
      "144/144 [==============================] - 1s 4ms/step - loss: 9.2910e-04 - accuracy: 0.9884 - val_loss: 6.7618e-04 - val_accuracy: 0.9921\n",
      "Epoch 95/100\n",
      "144/144 [==============================] - 1s 4ms/step - loss: 9.1698e-04 - accuracy: 0.9888 - val_loss: 7.4153e-04 - val_accuracy: 0.9913\n",
      "Epoch 96/100\n",
      "144/144 [==============================] - 1s 4ms/step - loss: 9.4911e-04 - accuracy: 0.9879 - val_loss: 6.6427e-04 - val_accuracy: 0.9913\n",
      "Epoch 97/100\n",
      "144/144 [==============================] - 1s 4ms/step - loss: 8.5000e-04 - accuracy: 0.9900 - val_loss: 7.0228e-04 - val_accuracy: 0.9913\n",
      "Epoch 98/100\n",
      "144/144 [==============================] - 1s 4ms/step - loss: 0.0010 - accuracy: 0.9870 - val_loss: 6.4912e-04 - val_accuracy: 0.9917\n",
      "Epoch 99/100\n",
      "144/144 [==============================] - 1s 4ms/step - loss: 9.3693e-04 - accuracy: 0.9882 - val_loss: 6.5329e-04 - val_accuracy: 0.9917\n",
      "Epoch 100/100\n",
      "144/144 [==============================] - 1s 4ms/step - loss: 0.0010 - accuracy: 0.9880 - val_loss: 7.6463e-04 - val_accuracy: 0.9904\n"
     ]
    }
   ],
   "source": [
    "history = model.fit(X_train, Y_train, batch_size=64, epochs=100, validation_data=(X_val, Y_val))"
   ]
  },
  {
   "cell_type": "code",
   "execution_count": 69,
   "id": "3a4a3a4a-a84a-4a76-b0aa-3c9ad0b272ae",
   "metadata": {},
   "outputs": [
    {
     "name": "stdout",
     "output_type": "stream",
     "text": [
      "36/36 [==============================] - 0s 3ms/step - loss: 0.0166 - accuracy: 0.8213\n"
     ]
    },
    {
     "data": {
      "text/plain": [
       "[0.016579892486333847, 0.8213333487510681]"
      ]
     },
     "execution_count": 69,
     "metadata": {},
     "output_type": "execute_result"
    }
   ],
   "source": [
    "model.evaluate(X_test, Y_test)"
   ]
  },
  {
   "cell_type": "code",
   "execution_count": 70,
   "id": "7b94fda8-76f0-46b3-bb06-8d19cc5b14e1",
   "metadata": {},
   "outputs": [
    {
     "data": {
      "text/plain": [
       "<AxesSubplot:>"
      ]
     },
     "execution_count": 70,
     "metadata": {},
     "output_type": "execute_result"
    },
    {
     "data": {
      "image/png": "[encoded data removed]",
      "text/plain": [
       "<Figure size 640x480 with 2 Axes>"
      ]
     },
     "metadata": {},
     "output_type": "display_data"
    }
   ],
   "source": [
    "pred = model.predict(X_test)\n",
    "labels = [np.argmax(y) for y in Y_test] \n",
    "predictions = [np.argmax(x) for x in pred]\n",
    "cm = confusion_matrix(labels, predictions)\n",
    "\n",
    "df_cm = pd.DataFrame(np.array(cm), index = classes, columns = classes)\n",
    "sns.heatmap(df_cm, annot=True, fmt=\".0f\")"
   ]
  },
  {
   "cell_type": "markdown",
   "id": "4e98a04c-6827-4529-b80e-7637228203e2",
   "metadata": {
    "tags": []
   },
   "source": [
    "# <span style=\"color:purple\"> ANÁLISE DO TREINO </span>"
   ]
  },
  {
   "cell_type": "code",
   "execution_count": 219,
   "id": "3d8b8a66-9a32-4f89-9454-0d832b53b737",
   "metadata": {},
   "outputs": [
    {
     "data": {
      "text/plain": [
       "[<matplotlib.lines.Line2D at 0x7fe74df31a50>]"
      ]
     },
     "execution_count": 219,
     "metadata": {},
     "output_type": "execute_result"
    },
    {
     "data": {
      "image/png": "[encoded data removed]",
      "text/plain": [
       "<Figure size 640x480 with 1 Axes>"
      ]
     },
     "metadata": {},
     "output_type": "display_data"
    }
   ],
   "source": [
    "acc = history.history['accuracy']\n",
    "val_acc = history.history['val_accuracy']\n",
    "\n",
    "plt.plot(acc)\n",
    "plt.plot(val_acc)"
   ]
  },
  {
   "cell_type": "code",
   "execution_count": 220,
   "id": "47543025-3760-4e83-994b-301e08580f3d",
   "metadata": {},
   "outputs": [
    {
     "data": {
      "text/plain": [
       "[<matplotlib.lines.Line2D at 0x7fe74de36750>]"
      ]
     },
     "execution_count": 220,
     "metadata": {},
     "output_type": "execute_result"
    },
    {
     "data": {
      "image/png": "[encoded data removed]",
      "text/plain": [
       "<Figure size 640x480 with 1 Axes>"
      ]
     },
     "metadata": {},
     "output_type": "display_data"
    }
   ],
   "source": [
    "loss = history.history['loss']\n",
    "val_loss = history.history['loss']\n",
    "\n",
    "plt.plot(loss)\n",
    "plt.plot(val_loss)"
   ]
  },
  {
   "cell_type": "code",
   "execution_count": null,
   "id": "395d3531-8dae-4c0b-93dc-7053424e9a28",
   "metadata": {},
   "outputs": [],
   "source": [
    "def objective(trial):\n",
    "    classifier = create_classifier(trial)\n",
    "\n",
    "    optuna_pruning_hook = optuna.integration.TensorFlowPruningHook(\n",
    "        trial=trial,\n",
    "        estimator=classifier,\n",
    "        metric=\"accuracy\",\n",
    "        run_every_steps=PRUNING_INTERVAL_STEPS,\n",
    "    )\n",
    "\n",
    "    train_spec = tf.estimator.TrainSpec(\n",
    "        input_fn=train_input_fn, max_steps=TRAIN_STEPS, hooks=[optuna_pruning_hook]\n",
    "    )\n",
    "\n",
    "    eval_spec = tf.estimator.EvalSpec(input_fn=eval_input_fn, start_delay_secs=0, throttle_secs=0)\n",
    "\n",
    "    eval_results, _ = tf.estimator.train_and_evaluate(classifier, train_spec, eval_spec)\n",
    "\n",
    "    return float(eval_results[\"accuracy\"])"
   ]
  },
  {
   "cell_type": "markdown",
   "id": "e19fe899",
   "metadata": {},
   "source": [
    "# <span style=\"color:purple\"> CONCLUSÃO </span>"
   ]
  },
  {
   "cell_type": "markdown",
   "id": "18acf6f7",
   "metadata": {},
   "source": [
    "* O modelo confunde as letras F e T\n",
    "\n",
    "* Caso de estudo de *feature engineering* para resolução do problema"
   ]
  }
 ],
 "metadata": {
  "environment": {
   "kernel": "python3",
   "name": "tf2-gpu.2-8.m103",
   "type": "gcloud",
   "uri": "gcr.io/deeplearning-platform-release/tf2-gpu.2-8:m103"
  },
  "kernelspec": {
   "display_name": "Python 3 (ipykernel)",
   "language": "python",
   "name": "python3"
  },
  "language_info": {
   "codemirror_mode": {
    "name": "ipython",
    "version": 3
   },
   "file_extension": ".py",
   "mimetype": "text/x-python",
   "name": "python",
   "nbconvert_exporter": "python",
   "pygments_lexer": "ipython3",
   "version": "3.7.12"
  },
  "vscode": {
   "interpreter": {
    "hash": "d985ae1b640e23321cb9f59033fe153b095119c7731f01ad64cc79fd51684b70"
   }
  }
 },
 "nbformat": 4,
 "nbformat_minor": 5
}
