{
 "cells": [
  {
   "cell_type": "code",
   "execution_count": 1,
   "id": "a415d7af-c08c-4b5c-ac17-14d1c7038fe2",
   "metadata": {},
   "outputs": [],
   "source": [
    "import numpy as np\n",
    "import pandas as pd\n",
    "from sklearn import preprocessing\n",
    "from sklearn.model_selection import train_test_split\n",
    "import tensorflow as tf\n",
    "from tensorflow.math import confusion_matrix\n",
    "from matplotlib import pyplot as plt\n",
    "import seaborn as sns"
   ]
  },
  {
   "cell_type": "markdown",
   "id": "f51f4a7e-d2f7-47f3-a372-a4aa421d552d",
   "metadata": {},
   "source": [
    "# <span style=\"color:purple\"> LEITURA DATASET </span>"
   ]
  },
  {
   "cell_type": "code",
   "execution_count": 2,
   "id": "3a90b78f-63f0-4f2b-955a-01c56a9eebc2",
   "metadata": {},
   "outputs": [
    {
     "data": {
      "text/html": [
       "<div>\n",
       "<style scoped>\n",
       "    .dataframe tbody tr th:only-of-type {\n",
       "        vertical-align: middle;\n",
       "    }\n",
       "\n",
       "    .dataframe tbody tr th {\n",
       "        vertical-align: top;\n",
       "    }\n",
       "\n",
       "    .dataframe thead th {\n",
       "        text-align: right;\n",
       "    }\n",
       "</style>\n",
       "<table border=\"1\" class=\"dataframe\">\n",
       "  <thead>\n",
       "    <tr style=\"text-align: right;\">\n",
       "      <th></th>\n",
       "      <th>0</th>\n",
       "      <th>1</th>\n",
       "      <th>2</th>\n",
       "      <th>3</th>\n",
       "      <th>4</th>\n",
       "      <th>5</th>\n",
       "      <th>6</th>\n",
       "      <th>7</th>\n",
       "      <th>8</th>\n",
       "      <th>9</th>\n",
       "      <th>...</th>\n",
       "      <th>55</th>\n",
       "      <th>56</th>\n",
       "      <th>57</th>\n",
       "      <th>58</th>\n",
       "      <th>59</th>\n",
       "      <th>60</th>\n",
       "      <th>61</th>\n",
       "      <th>62</th>\n",
       "      <th>classe</th>\n",
       "      <th>signer</th>\n",
       "    </tr>\n",
       "  </thead>\n",
       "  <tbody>\n",
       "    <tr>\n",
       "      <th>0</th>\n",
       "      <td>-0.015155</td>\n",
       "      <td>0.083723</td>\n",
       "      <td>-0.019764</td>\n",
       "      <td>0.016621</td>\n",
       "      <td>0.067022</td>\n",
       "      <td>-0.016464</td>\n",
       "      <td>0.037898</td>\n",
       "      <td>0.040288</td>\n",
       "      <td>-0.018105</td>\n",
       "      <td>0.048381</td>\n",
       "      <td>...</td>\n",
       "      <td>-0.013157</td>\n",
       "      <td>-0.029493</td>\n",
       "      <td>-0.019044</td>\n",
       "      <td>0.004893</td>\n",
       "      <td>-0.044368</td>\n",
       "      <td>-0.022143</td>\n",
       "      <td>0.026663</td>\n",
       "      <td>-0.034211</td>\n",
       "      <td>a</td>\n",
       "      <td>0.0</td>\n",
       "    </tr>\n",
       "    <tr>\n",
       "      <th>1</th>\n",
       "      <td>-0.017470</td>\n",
       "      <td>0.089129</td>\n",
       "      <td>-0.024697</td>\n",
       "      <td>0.017672</td>\n",
       "      <td>0.070180</td>\n",
       "      <td>-0.018930</td>\n",
       "      <td>0.037136</td>\n",
       "      <td>0.042391</td>\n",
       "      <td>-0.020137</td>\n",
       "      <td>0.047958</td>\n",
       "      <td>...</td>\n",
       "      <td>-0.013763</td>\n",
       "      <td>-0.033332</td>\n",
       "      <td>-0.020168</td>\n",
       "      <td>0.004791</td>\n",
       "      <td>-0.048958</td>\n",
       "      <td>-0.022997</td>\n",
       "      <td>0.025612</td>\n",
       "      <td>-0.040157</td>\n",
       "      <td>a</td>\n",
       "      <td>0.0</td>\n",
       "    </tr>\n",
       "    <tr>\n",
       "      <th>2</th>\n",
       "      <td>-0.018608</td>\n",
       "      <td>0.088464</td>\n",
       "      <td>-0.034686</td>\n",
       "      <td>0.017341</td>\n",
       "      <td>0.069314</td>\n",
       "      <td>-0.027479</td>\n",
       "      <td>0.036115</td>\n",
       "      <td>0.041589</td>\n",
       "      <td>-0.026058</td>\n",
       "      <td>0.046782</td>\n",
       "      <td>...</td>\n",
       "      <td>-0.015631</td>\n",
       "      <td>-0.034420</td>\n",
       "      <td>-0.021920</td>\n",
       "      <td>0.002710</td>\n",
       "      <td>-0.050564</td>\n",
       "      <td>-0.024800</td>\n",
       "      <td>0.022225</td>\n",
       "      <td>-0.041706</td>\n",
       "      <td>a</td>\n",
       "      <td>0.0</td>\n",
       "    </tr>\n",
       "    <tr>\n",
       "      <th>3</th>\n",
       "      <td>-0.018881</td>\n",
       "      <td>0.089806</td>\n",
       "      <td>-0.033932</td>\n",
       "      <td>0.017604</td>\n",
       "      <td>0.069527</td>\n",
       "      <td>-0.027086</td>\n",
       "      <td>0.036691</td>\n",
       "      <td>0.042036</td>\n",
       "      <td>-0.025525</td>\n",
       "      <td>0.047545</td>\n",
       "      <td>...</td>\n",
       "      <td>-0.016675</td>\n",
       "      <td>-0.034124</td>\n",
       "      <td>-0.021750</td>\n",
       "      <td>0.000277</td>\n",
       "      <td>-0.050739</td>\n",
       "      <td>-0.023401</td>\n",
       "      <td>0.019764</td>\n",
       "      <td>-0.042837</td>\n",
       "      <td>a</td>\n",
       "      <td>0.0</td>\n",
       "    </tr>\n",
       "    <tr>\n",
       "      <th>4</th>\n",
       "      <td>-0.018110</td>\n",
       "      <td>0.088998</td>\n",
       "      <td>-0.032207</td>\n",
       "      <td>0.016747</td>\n",
       "      <td>0.068922</td>\n",
       "      <td>-0.024993</td>\n",
       "      <td>0.036877</td>\n",
       "      <td>0.042021</td>\n",
       "      <td>-0.023326</td>\n",
       "      <td>0.047667</td>\n",
       "      <td>...</td>\n",
       "      <td>-0.015065</td>\n",
       "      <td>-0.034571</td>\n",
       "      <td>-0.020478</td>\n",
       "      <td>0.001885</td>\n",
       "      <td>-0.050963</td>\n",
       "      <td>-0.022766</td>\n",
       "      <td>0.021520</td>\n",
       "      <td>-0.041488</td>\n",
       "      <td>a</td>\n",
       "      <td>0.0</td>\n",
       "    </tr>\n",
       "  </tbody>\n",
       "</table>\n",
       "<p>5 rows × 65 columns</p>\n",
       "</div>"
      ],
      "text/plain": [
       "          0         1         2         3         4         5         6  \\\n",
       "0 -0.015155  0.083723 -0.019764  0.016621  0.067022 -0.016464  0.037898   \n",
       "1 -0.017470  0.089129 -0.024697  0.017672  0.070180 -0.018930  0.037136   \n",
       "2 -0.018608  0.088464 -0.034686  0.017341  0.069314 -0.027479  0.036115   \n",
       "3 -0.018881  0.089806 -0.033932  0.017604  0.069527 -0.027086  0.036691   \n",
       "4 -0.018110  0.088998 -0.032207  0.016747  0.068922 -0.024993  0.036877   \n",
       "\n",
       "          7         8         9  ...        55        56        57        58  \\\n",
       "0  0.040288 -0.018105  0.048381  ... -0.013157 -0.029493 -0.019044  0.004893   \n",
       "1  0.042391 -0.020137  0.047958  ... -0.013763 -0.033332 -0.020168  0.004791   \n",
       "2  0.041589 -0.026058  0.046782  ... -0.015631 -0.034420 -0.021920  0.002710   \n",
       "3  0.042036 -0.025525  0.047545  ... -0.016675 -0.034124 -0.021750  0.000277   \n",
       "4  0.042021 -0.023326  0.047667  ... -0.015065 -0.034571 -0.020478  0.001885   \n",
       "\n",
       "         59        60        61        62  classe  signer  \n",
       "0 -0.044368 -0.022143  0.026663 -0.034211       a     0.0  \n",
       "1 -0.048958 -0.022997  0.025612 -0.040157       a     0.0  \n",
       "2 -0.050564 -0.024800  0.022225 -0.041706       a     0.0  \n",
       "3 -0.050739 -0.023401  0.019764 -0.042837       a     0.0  \n",
       "4 -0.050963 -0.022766  0.021520 -0.041488       a     0.0  \n",
       "\n",
       "[5 rows x 65 columns]"
      ]
     },
     "execution_count": 2,
     "metadata": {},
     "output_type": "execute_result"
    }
   ],
   "source": [
    "dataset = pd.read_csv('dataset.csv')\n",
    "dataset.head()"
   ]
  },
  {
   "cell_type": "code",
   "execution_count": 3,
   "id": "8fe29be7-de8e-4f6e-94c2-93284d735a6c",
   "metadata": {},
   "outputs": [],
   "source": [
    "classes = ['a', 'b', 'c', 'd', 'e', 'f', 'g', 'i', 'l', 'm', 'n', 'o', 'p',\n",
    "        'q', 'r', 's', 't', 'u', 'v', 'w', 'y']"
   ]
  },
  {
   "cell_type": "code",
   "execution_count": 4,
   "id": "04dcb644-4426-47e2-81a4-de2da4e64b56",
   "metadata": {
    "tags": []
   },
   "outputs": [
    {
     "data": {
      "text/plain": [
       "LabelEncoder()"
      ]
     },
     "execution_count": 4,
     "metadata": {},
     "output_type": "execute_result"
    }
   ],
   "source": [
    "le = preprocessing.LabelEncoder()\n",
    "le.fit(classes)"
   ]
  },
  {
   "cell_type": "code",
   "execution_count": 5,
   "id": "ede40552-4f37-4fa2-977a-e7ae13dd09cf",
   "metadata": {},
   "outputs": [
    {
     "data": {
      "text/html": [
       "<div>\n",
       "<style scoped>\n",
       "    .dataframe tbody tr th:only-of-type {\n",
       "        vertical-align: middle;\n",
       "    }\n",
       "\n",
       "    .dataframe tbody tr th {\n",
       "        vertical-align: top;\n",
       "    }\n",
       "\n",
       "    .dataframe thead th {\n",
       "        text-align: right;\n",
       "    }\n",
       "</style>\n",
       "<table border=\"1\" class=\"dataframe\">\n",
       "  <thead>\n",
       "    <tr style=\"text-align: right;\">\n",
       "      <th></th>\n",
       "      <th>0</th>\n",
       "      <th>1</th>\n",
       "      <th>2</th>\n",
       "      <th>3</th>\n",
       "      <th>4</th>\n",
       "      <th>5</th>\n",
       "      <th>6</th>\n",
       "      <th>7</th>\n",
       "      <th>8</th>\n",
       "      <th>9</th>\n",
       "      <th>...</th>\n",
       "      <th>55</th>\n",
       "      <th>56</th>\n",
       "      <th>57</th>\n",
       "      <th>58</th>\n",
       "      <th>59</th>\n",
       "      <th>60</th>\n",
       "      <th>61</th>\n",
       "      <th>62</th>\n",
       "      <th>classe</th>\n",
       "      <th>signer</th>\n",
       "    </tr>\n",
       "  </thead>\n",
       "  <tbody>\n",
       "    <tr>\n",
       "      <th>0</th>\n",
       "      <td>-0.015155</td>\n",
       "      <td>0.083723</td>\n",
       "      <td>-0.019764</td>\n",
       "      <td>0.016621</td>\n",
       "      <td>0.067022</td>\n",
       "      <td>-0.016464</td>\n",
       "      <td>0.037898</td>\n",
       "      <td>0.040288</td>\n",
       "      <td>-0.018105</td>\n",
       "      <td>0.048381</td>\n",
       "      <td>...</td>\n",
       "      <td>-0.013157</td>\n",
       "      <td>-0.029493</td>\n",
       "      <td>-0.019044</td>\n",
       "      <td>0.004893</td>\n",
       "      <td>-0.044368</td>\n",
       "      <td>-0.022143</td>\n",
       "      <td>0.026663</td>\n",
       "      <td>-0.034211</td>\n",
       "      <td>a</td>\n",
       "      <td>0.0</td>\n",
       "    </tr>\n",
       "    <tr>\n",
       "      <th>1</th>\n",
       "      <td>-0.017470</td>\n",
       "      <td>0.089129</td>\n",
       "      <td>-0.024697</td>\n",
       "      <td>0.017672</td>\n",
       "      <td>0.070180</td>\n",
       "      <td>-0.018930</td>\n",
       "      <td>0.037136</td>\n",
       "      <td>0.042391</td>\n",
       "      <td>-0.020137</td>\n",
       "      <td>0.047958</td>\n",
       "      <td>...</td>\n",
       "      <td>-0.013763</td>\n",
       "      <td>-0.033332</td>\n",
       "      <td>-0.020168</td>\n",
       "      <td>0.004791</td>\n",
       "      <td>-0.048958</td>\n",
       "      <td>-0.022997</td>\n",
       "      <td>0.025612</td>\n",
       "      <td>-0.040157</td>\n",
       "      <td>a</td>\n",
       "      <td>0.0</td>\n",
       "    </tr>\n",
       "    <tr>\n",
       "      <th>2</th>\n",
       "      <td>-0.018608</td>\n",
       "      <td>0.088464</td>\n",
       "      <td>-0.034686</td>\n",
       "      <td>0.017341</td>\n",
       "      <td>0.069314</td>\n",
       "      <td>-0.027479</td>\n",
       "      <td>0.036115</td>\n",
       "      <td>0.041589</td>\n",
       "      <td>-0.026058</td>\n",
       "      <td>0.046782</td>\n",
       "      <td>...</td>\n",
       "      <td>-0.015631</td>\n",
       "      <td>-0.034420</td>\n",
       "      <td>-0.021920</td>\n",
       "      <td>0.002710</td>\n",
       "      <td>-0.050564</td>\n",
       "      <td>-0.024800</td>\n",
       "      <td>0.022225</td>\n",
       "      <td>-0.041706</td>\n",
       "      <td>a</td>\n",
       "      <td>0.0</td>\n",
       "    </tr>\n",
       "    <tr>\n",
       "      <th>3</th>\n",
       "      <td>-0.018881</td>\n",
       "      <td>0.089806</td>\n",
       "      <td>-0.033932</td>\n",
       "      <td>0.017604</td>\n",
       "      <td>0.069527</td>\n",
       "      <td>-0.027086</td>\n",
       "      <td>0.036691</td>\n",
       "      <td>0.042036</td>\n",
       "      <td>-0.025525</td>\n",
       "      <td>0.047545</td>\n",
       "      <td>...</td>\n",
       "      <td>-0.016675</td>\n",
       "      <td>-0.034124</td>\n",
       "      <td>-0.021750</td>\n",
       "      <td>0.000277</td>\n",
       "      <td>-0.050739</td>\n",
       "      <td>-0.023401</td>\n",
       "      <td>0.019764</td>\n",
       "      <td>-0.042837</td>\n",
       "      <td>a</td>\n",
       "      <td>0.0</td>\n",
       "    </tr>\n",
       "    <tr>\n",
       "      <th>4</th>\n",
       "      <td>-0.018110</td>\n",
       "      <td>0.088998</td>\n",
       "      <td>-0.032207</td>\n",
       "      <td>0.016747</td>\n",
       "      <td>0.068922</td>\n",
       "      <td>-0.024993</td>\n",
       "      <td>0.036877</td>\n",
       "      <td>0.042021</td>\n",
       "      <td>-0.023326</td>\n",
       "      <td>0.047667</td>\n",
       "      <td>...</td>\n",
       "      <td>-0.015065</td>\n",
       "      <td>-0.034571</td>\n",
       "      <td>-0.020478</td>\n",
       "      <td>0.001885</td>\n",
       "      <td>-0.050963</td>\n",
       "      <td>-0.022766</td>\n",
       "      <td>0.021520</td>\n",
       "      <td>-0.041488</td>\n",
       "      <td>a</td>\n",
       "      <td>0.0</td>\n",
       "    </tr>\n",
       "  </tbody>\n",
       "</table>\n",
       "<p>5 rows × 65 columns</p>\n",
       "</div>"
      ],
      "text/plain": [
       "          0         1         2         3         4         5         6  \\\n",
       "0 -0.015155  0.083723 -0.019764  0.016621  0.067022 -0.016464  0.037898   \n",
       "1 -0.017470  0.089129 -0.024697  0.017672  0.070180 -0.018930  0.037136   \n",
       "2 -0.018608  0.088464 -0.034686  0.017341  0.069314 -0.027479  0.036115   \n",
       "3 -0.018881  0.089806 -0.033932  0.017604  0.069527 -0.027086  0.036691   \n",
       "4 -0.018110  0.088998 -0.032207  0.016747  0.068922 -0.024993  0.036877   \n",
       "\n",
       "          7         8         9  ...        55        56        57        58  \\\n",
       "0  0.040288 -0.018105  0.048381  ... -0.013157 -0.029493 -0.019044  0.004893   \n",
       "1  0.042391 -0.020137  0.047958  ... -0.013763 -0.033332 -0.020168  0.004791   \n",
       "2  0.041589 -0.026058  0.046782  ... -0.015631 -0.034420 -0.021920  0.002710   \n",
       "3  0.042036 -0.025525  0.047545  ... -0.016675 -0.034124 -0.021750  0.000277   \n",
       "4  0.042021 -0.023326  0.047667  ... -0.015065 -0.034571 -0.020478  0.001885   \n",
       "\n",
       "         59        60        61        62  classe  signer  \n",
       "0 -0.044368 -0.022143  0.026663 -0.034211       a     0.0  \n",
       "1 -0.048958 -0.022997  0.025612 -0.040157       a     0.0  \n",
       "2 -0.050564 -0.024800  0.022225 -0.041706       a     0.0  \n",
       "3 -0.050739 -0.023401  0.019764 -0.042837       a     0.0  \n",
       "4 -0.050963 -0.022766  0.021520 -0.041488       a     0.0  \n",
       "\n",
       "[5 rows x 65 columns]"
      ]
     },
     "execution_count": 5,
     "metadata": {},
     "output_type": "execute_result"
    }
   ],
   "source": [
    "dataset = pd.read_csv('dataset.csv')\n",
    "dataset.head()"
   ]
  },
  {
   "cell_type": "code",
   "execution_count": 18,
   "id": "6bf902f4-3327-4de1-823c-9f2aef150fc4",
   "metadata": {},
   "outputs": [],
   "source": [
    "X = np.array(dataset.iloc[:,:63])\n",
    "Y = np.array(le.transform(dataset['classe']))\n",
    "Y = tf.keras.utils.to_categorical(Y, len(classes))"
   ]
  },
  {
   "cell_type": "code",
   "execution_count": 26,
   "id": "b735f234-4972-4a52-98cc-20aedd800307",
   "metadata": {},
   "outputs": [],
   "source": [
    "X_train, X_test, Y_train, Y_test = train_test_split(X, Y, test_size=0.2, random_state=42)"
   ]
  },
  {
   "cell_type": "code",
   "execution_count": 32,
   "id": "9738c176-a6b5-4c4b-951c-68309bded4e0",
   "metadata": {},
   "outputs": [],
   "source": [
    "idx1 = dataset[dataset['signer'] == 0].index\n",
    "idx2 = dataset[dataset['signer'] == 1].index"
   ]
  },
  {
   "cell_type": "code",
   "execution_count": 33,
   "id": "ad074ec6-20e9-4ad1-b70a-87be3735cdd2",
   "metadata": {},
   "outputs": [],
   "source": [
    "X_train = X[idx1]\n",
    "Y_train = Y[idx1]\n",
    "\n",
    "X_test = X[idx2]\n",
    "Y_test = Y[idx2]"
   ]
  },
  {
   "cell_type": "code",
   "execution_count": 34,
   "id": "f7ed4021-5849-443f-a34f-449bfec0f9b1",
   "metadata": {},
   "outputs": [
    {
     "data": {
      "text/plain": [
       "((2783, 63), (398, 63))"
      ]
     },
     "execution_count": 34,
     "metadata": {},
     "output_type": "execute_result"
    }
   ],
   "source": [
    "X_train.shape, X_test.shape"
   ]
  },
  {
   "cell_type": "markdown",
   "id": "5966ecbb-b6c5-4dc6-9ec3-04bb396a67cb",
   "metadata": {
    "jp-MarkdownHeadingCollapsed": true,
    "tags": []
   },
   "source": [
    "# <span style=\"color:purple\"> MODELO </span>"
   ]
  },
  {
   "cell_type": "code",
   "execution_count": 27,
   "id": "5ba105fb-45a4-4303-8b36-c4919f12d0cc",
   "metadata": {
    "tags": []
   },
   "outputs": [],
   "source": [
    "model = tf.keras.Sequential(\n",
    "    [\n",
    "        tf.keras.layers.Dense(32, activation='relu', input_shape=(63,)),\n",
    "        tf.keras.layers.Dense(64, activation='relu'),\n",
    "        tf.keras.layers.Dense(128, activation='relu'),\n",
    "        tf.keras.layers.Dropout(0.2),\n",
    "        tf.keras.layers.Flatten(),\n",
    "        tf.keras.layers.Dense(21, activation='softmax'),\n",
    "    ]\n",
    ")\n",
    "\n",
    "model.compile(loss=\"categorical_crossentropy\", optimizer=\"adam\", metrics=[\"accuracy\"])"
   ]
  },
  {
   "cell_type": "code",
   "execution_count": 28,
   "id": "2e02bf9c-9817-451b-9fbe-4dbb32776ea8",
   "metadata": {},
   "outputs": [
    {
     "name": "stdout",
     "output_type": "stream",
     "text": [
      "Model: \"sequential_2\"\n",
      "_________________________________________________________________\n",
      " Layer (type)                Output Shape              Param #   \n",
      "=================================================================\n",
      " dense_8 (Dense)             (None, 32)                2048      \n",
      "                                                                 \n",
      " dense_9 (Dense)             (None, 64)                2112      \n",
      "                                                                 \n",
      " dense_10 (Dense)            (None, 128)               8320      \n",
      "                                                                 \n",
      " dropout_2 (Dropout)         (None, 128)               0         \n",
      "                                                                 \n",
      " flatten_2 (Flatten)         (None, 128)               0         \n",
      "                                                                 \n",
      " dense_11 (Dense)            (None, 21)                2709      \n",
      "                                                                 \n",
      "=================================================================\n",
      "Total params: 15,189\n",
      "Trainable params: 15,189\n",
      "Non-trainable params: 0\n",
      "_________________________________________________________________\n"
     ]
    }
   ],
   "source": [
    "model.summary()"
   ]
  },
  {
   "cell_type": "code",
   "execution_count": 29,
   "id": "a6ff7ea3-5e9c-4fae-b363-b30efb79ad01",
   "metadata": {
    "tags": []
   },
   "outputs": [
    {
     "name": "stdout",
     "output_type": "stream",
     "text": [
      "Epoch 1/40\n",
      "32/32 [==============================] - 1s 8ms/step - loss: 3.0019 - accuracy: 0.1794 - val_loss: 2.9203 - val_accuracy: 0.2259\n",
      "Epoch 2/40\n",
      "32/32 [==============================] - 0s 4ms/step - loss: 2.6904 - accuracy: 0.2619 - val_loss: 2.3249 - val_accuracy: 0.2672\n",
      "Epoch 3/40\n",
      "32/32 [==============================] - 0s 3ms/step - loss: 1.9860 - accuracy: 0.3312 - val_loss: 1.6417 - val_accuracy: 0.4008\n",
      "Epoch 4/40\n",
      "32/32 [==============================] - 0s 3ms/step - loss: 1.4645 - accuracy: 0.4968 - val_loss: 1.2259 - val_accuracy: 0.5855\n",
      "Epoch 5/40\n",
      "32/32 [==============================] - 0s 3ms/step - loss: 1.1322 - accuracy: 0.6216 - val_loss: 0.9128 - val_accuracy: 0.7996\n",
      "Epoch 6/40\n",
      "32/32 [==============================] - 0s 4ms/step - loss: 0.9107 - accuracy: 0.6934 - val_loss: 0.7169 - val_accuracy: 0.8075\n",
      "Epoch 7/40\n",
      "32/32 [==============================] - 0s 4ms/step - loss: 0.7283 - accuracy: 0.7514 - val_loss: 0.5545 - val_accuracy: 0.8664\n",
      "Epoch 8/40\n",
      "32/32 [==============================] - 0s 3ms/step - loss: 0.6109 - accuracy: 0.8020 - val_loss: 0.4727 - val_accuracy: 0.8684\n",
      "Epoch 9/40\n",
      "32/32 [==============================] - 0s 3ms/step - loss: 0.5344 - accuracy: 0.8182 - val_loss: 0.4085 - val_accuracy: 0.8664\n",
      "Epoch 10/40\n",
      "32/32 [==============================] - 0s 4ms/step - loss: 0.4716 - accuracy: 0.8521 - val_loss: 0.3328 - val_accuracy: 0.9136\n",
      "Epoch 11/40\n",
      "32/32 [==============================] - 0s 4ms/step - loss: 0.4169 - accuracy: 0.8486 - val_loss: 0.2981 - val_accuracy: 0.9136\n",
      "Epoch 12/40\n",
      "32/32 [==============================] - 0s 4ms/step - loss: 0.3721 - accuracy: 0.8713 - val_loss: 0.2745 - val_accuracy: 0.9096\n",
      "Epoch 13/40\n",
      "32/32 [==============================] - 0s 4ms/step - loss: 0.3423 - accuracy: 0.8860 - val_loss: 0.2455 - val_accuracy: 0.9175\n",
      "Epoch 14/40\n",
      "32/32 [==============================] - 0s 3ms/step - loss: 0.3207 - accuracy: 0.8830 - val_loss: 0.2343 - val_accuracy: 0.9293\n",
      "Epoch 15/40\n",
      "32/32 [==============================] - 0s 3ms/step - loss: 0.2993 - accuracy: 0.8973 - val_loss: 0.2223 - val_accuracy: 0.9391\n",
      "Epoch 16/40\n",
      "32/32 [==============================] - 0s 4ms/step - loss: 0.2609 - accuracy: 0.9120 - val_loss: 0.2017 - val_accuracy: 0.9332\n",
      "Epoch 17/40\n",
      "32/32 [==============================] - 0s 3ms/step - loss: 0.2423 - accuracy: 0.9194 - val_loss: 0.1855 - val_accuracy: 0.9430\n",
      "Epoch 18/40\n",
      "32/32 [==============================] - 0s 3ms/step - loss: 0.2389 - accuracy: 0.9233 - val_loss: 0.1806 - val_accuracy: 0.9548\n",
      "Epoch 19/40\n",
      "32/32 [==============================] - 0s 3ms/step - loss: 0.2127 - accuracy: 0.9327 - val_loss: 0.1609 - val_accuracy: 0.9548\n",
      "Epoch 20/40\n",
      "32/32 [==============================] - 0s 4ms/step - loss: 0.1988 - accuracy: 0.9405 - val_loss: 0.1525 - val_accuracy: 0.9528\n",
      "Epoch 21/40\n",
      "32/32 [==============================] - 0s 4ms/step - loss: 0.2001 - accuracy: 0.9322 - val_loss: 0.1646 - val_accuracy: 0.9430\n",
      "Epoch 22/40\n",
      "32/32 [==============================] - 0s 4ms/step - loss: 0.1815 - accuracy: 0.9361 - val_loss: 0.1577 - val_accuracy: 0.9509\n",
      "Epoch 23/40\n",
      "32/32 [==============================] - 0s 4ms/step - loss: 0.1665 - accuracy: 0.9479 - val_loss: 0.1362 - val_accuracy: 0.9627\n",
      "Epoch 24/40\n",
      "32/32 [==============================] - 0s 4ms/step - loss: 0.1640 - accuracy: 0.9459 - val_loss: 0.1237 - val_accuracy: 0.9666\n",
      "Epoch 25/40\n",
      "32/32 [==============================] - 0s 4ms/step - loss: 0.1499 - accuracy: 0.9543 - val_loss: 0.1233 - val_accuracy: 0.9666\n",
      "Epoch 26/40\n",
      "32/32 [==============================] - 0s 4ms/step - loss: 0.1383 - accuracy: 0.9597 - val_loss: 0.1178 - val_accuracy: 0.9646\n",
      "Epoch 27/40\n",
      "32/32 [==============================] - 0s 4ms/step - loss: 0.1328 - accuracy: 0.9612 - val_loss: 0.1179 - val_accuracy: 0.9548\n",
      "Epoch 28/40\n",
      "32/32 [==============================] - 0s 4ms/step - loss: 0.1289 - accuracy: 0.9666 - val_loss: 0.1048 - val_accuracy: 0.9686\n",
      "Epoch 29/40\n",
      "32/32 [==============================] - 0s 4ms/step - loss: 0.1177 - accuracy: 0.9676 - val_loss: 0.1041 - val_accuracy: 0.9646\n",
      "Epoch 30/40\n",
      "32/32 [==============================] - 0s 4ms/step - loss: 0.1246 - accuracy: 0.9646 - val_loss: 0.1003 - val_accuracy: 0.9686\n",
      "Epoch 31/40\n",
      "32/32 [==============================] - 0s 4ms/step - loss: 0.1143 - accuracy: 0.9695 - val_loss: 0.0937 - val_accuracy: 0.9686\n",
      "Epoch 32/40\n",
      "32/32 [==============================] - 0s 3ms/step - loss: 0.1045 - accuracy: 0.9690 - val_loss: 0.0986 - val_accuracy: 0.9686\n",
      "Epoch 33/40\n",
      "32/32 [==============================] - 0s 4ms/step - loss: 0.1049 - accuracy: 0.9725 - val_loss: 0.0844 - val_accuracy: 0.9705\n",
      "Epoch 34/40\n",
      "32/32 [==============================] - 0s 4ms/step - loss: 0.0959 - accuracy: 0.9794 - val_loss: 0.0852 - val_accuracy: 0.9764\n",
      "Epoch 35/40\n",
      "32/32 [==============================] - 0s 4ms/step - loss: 0.0991 - accuracy: 0.9700 - val_loss: 0.1030 - val_accuracy: 0.9568\n",
      "Epoch 36/40\n",
      "32/32 [==============================] - 0s 4ms/step - loss: 0.0987 - accuracy: 0.9749 - val_loss: 0.0878 - val_accuracy: 0.9686\n",
      "Epoch 37/40\n",
      "32/32 [==============================] - 0s 4ms/step - loss: 0.0932 - accuracy: 0.9749 - val_loss: 0.0847 - val_accuracy: 0.9686\n",
      "Epoch 38/40\n",
      "32/32 [==============================] - 0s 4ms/step - loss: 0.0820 - accuracy: 0.9754 - val_loss: 0.0763 - val_accuracy: 0.9705\n",
      "Epoch 39/40\n",
      "32/32 [==============================] - 0s 3ms/step - loss: 0.0781 - accuracy: 0.9818 - val_loss: 0.0806 - val_accuracy: 0.9686\n",
      "Epoch 40/40\n",
      "32/32 [==============================] - 0s 3ms/step - loss: 0.0772 - accuracy: 0.9828 - val_loss: 0.0653 - val_accuracy: 0.9764\n"
     ]
    }
   ],
   "source": [
    "history = model.fit(X_train, Y_train, batch_size=64, epochs=40, validation_split=0.2)"
   ]
  },
  {
   "cell_type": "code",
   "execution_count": 35,
   "id": "3a4a3a4a-a84a-4a76-b0aa-3c9ad0b272ae",
   "metadata": {},
   "outputs": [
    {
     "name": "stdout",
     "output_type": "stream",
     "text": [
      "13/13 [==============================] - 0s 2ms/step - loss: 0.0856 - accuracy: 0.9749\n"
     ]
    },
    {
     "data": {
      "text/plain": [
       "[0.08560766279697418, 0.9748743772506714]"
      ]
     },
     "execution_count": 35,
     "metadata": {},
     "output_type": "execute_result"
    }
   ],
   "source": [
    "model.evaluate(X_test, Y_test)"
   ]
  },
  {
   "cell_type": "code",
   "execution_count": 36,
   "id": "7b94fda8-76f0-46b3-bb06-8d19cc5b14e1",
   "metadata": {},
   "outputs": [
    {
     "data": {
      "text/plain": [
       "<AxesSubplot:>"
      ]
     },
     "execution_count": 36,
     "metadata": {},
     "output_type": "execute_result"
    },
    {
     "data": {
      "image/png": "[encoded data removed]",
      "text/plain": [
       "<Figure size 640x480 with 2 Axes>"
      ]
     },
     "metadata": {},
     "output_type": "display_data"
    }
   ],
   "source": [
    "pred = model.predict(X_test)\n",
    "labels = [np.argmax(y) for y in Y_test]\n",
    "predictions = [np.argmax(x) for x in pred]\n",
    "cm = confusion_matrix(labels, predictions)\n",
    "\n",
    "df_cm = pd.DataFrame(np.array(cm), index = classes, columns = classes)\n",
    "sns.heatmap(df_cm, annot=True, fmt=\".0f\")"
   ]
  }
 ],
 "metadata": {
  "environment": {
   "kernel": "python3",
   "name": "tf2-gpu.2-8.m103",
   "type": "gcloud",
   "uri": "gcr.io/deeplearning-platform-release/tf2-gpu.2-8:m103"
  },
  "kernelspec": {
   "display_name": "Python 3 (ipykernel)",
   "language": "python",
   "name": "python3"
  },
  "language_info": {
   "codemirror_mode": {
    "name": "ipython",
    "version": 3
   },
   "file_extension": ".py",
   "mimetype": "text/x-python",
   "name": "python",
   "nbconvert_exporter": "python",
   "pygments_lexer": "ipython3",
   "version": "3.7.12"
  }
 },
 "nbformat": 4,
 "nbformat_minor": 5
}
