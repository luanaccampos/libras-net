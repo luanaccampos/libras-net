{
 "cells": [
  {
   "cell_type": "code",
   "execution_count": 1,
   "id": "a415d7af-c08c-4b5c-ac17-14d1c7038fe2",
   "metadata": {},
   "outputs": [],
   "source": [
    "import numpy as np\n",
    "import pandas as pd\n",
    "from sklearn import preprocessing\n",
    "from sklearn.model_selection import train_test_split\n",
    "from sklearn.metrics import classification_report\n",
    "import tensorflow as tf\n",
    "from tensorflow.math import confusion_matrix\n",
    "from matplotlib import pyplot as plt\n",
    "import seaborn as sns\n",
    "from pandarallel import pandarallel\n",
    "from sklearn import svm\n",
    "from sklearn.neighbors import KNeighborsClassifier\n",
    "from sklearn.ensemble import RandomForestClassifier\n",
    "import optuna\n",
    "import sklearn\n",
    "from skl2onnx import convert_sklearn\n",
    "from skl2onnx.common.data_types import FloatTensorType\n",
    "import pickle"
   ]
  },
  {
   "cell_type": "code",
   "execution_count": 2,
   "id": "8e9d1049-0ee7-4664-8ebb-9510f9eb17dc",
   "metadata": {},
   "outputs": [
    {
     "name": "stdout",
     "output_type": "stream",
     "text": [
      "INFO: Pandarallel will run on 4 workers.\n",
      "INFO: Pandarallel will use Memory file system to transfer data between the main process and workers.\n"
     ]
    }
   ],
   "source": [
    "pandarallel.initialize(progress_bar=True, nb_workers=4)"
   ]
  },
  {
   "cell_type": "markdown",
   "id": "f51f4a7e-d2f7-47f3-a372-a4aa421d552d",
   "metadata": {},
   "source": [
    "# <span style=\"color:purple\"> LEITURA DATASET </span>"
   ]
  },
  {
   "cell_type": "code",
   "execution_count": 14,
   "id": "3a90b78f-63f0-4f2b-955a-01c56a9eebc2",
   "metadata": {},
   "outputs": [
    {
     "data": {
      "text/html": [
       "<div>\n",
       "<style scoped>\n",
       "    .dataframe tbody tr th:only-of-type {\n",
       "        vertical-align: middle;\n",
       "    }\n",
       "\n",
       "    .dataframe tbody tr th {\n",
       "        vertical-align: top;\n",
       "    }\n",
       "\n",
       "    .dataframe thead th {\n",
       "        text-align: right;\n",
       "    }\n",
       "</style>\n",
       "<table border=\"1\" class=\"dataframe\">\n",
       "  <thead>\n",
       "    <tr style=\"text-align: right;\">\n",
       "      <th></th>\n",
       "      <th>0</th>\n",
       "      <th>1</th>\n",
       "      <th>2</th>\n",
       "      <th>3</th>\n",
       "      <th>4</th>\n",
       "      <th>5</th>\n",
       "      <th>6</th>\n",
       "      <th>7</th>\n",
       "      <th>8</th>\n",
       "      <th>9</th>\n",
       "      <th>...</th>\n",
       "      <th>55</th>\n",
       "      <th>56</th>\n",
       "      <th>57</th>\n",
       "      <th>58</th>\n",
       "      <th>59</th>\n",
       "      <th>60</th>\n",
       "      <th>61</th>\n",
       "      <th>62</th>\n",
       "      <th>classe</th>\n",
       "      <th>signer</th>\n",
       "    </tr>\n",
       "  </thead>\n",
       "  <tbody>\n",
       "    <tr>\n",
       "      <th>0</th>\n",
       "      <td>-0.017227</td>\n",
       "      <td>0.074167</td>\n",
       "      <td>0.028766</td>\n",
       "      <td>0.013955</td>\n",
       "      <td>0.058635</td>\n",
       "      <td>0.009331</td>\n",
       "      <td>0.039599</td>\n",
       "      <td>0.031790</td>\n",
       "      <td>0.008871</td>\n",
       "      <td>0.050059</td>\n",
       "      <td>...</td>\n",
       "      <td>-0.002371</td>\n",
       "      <td>-0.023715</td>\n",
       "      <td>-0.027515</td>\n",
       "      <td>0.010693</td>\n",
       "      <td>-0.039081</td>\n",
       "      <td>-0.027290</td>\n",
       "      <td>0.030310</td>\n",
       "      <td>-0.033299</td>\n",
       "      <td>a</td>\n",
       "      <td>1</td>\n",
       "    </tr>\n",
       "    <tr>\n",
       "      <th>1</th>\n",
       "      <td>-0.018473</td>\n",
       "      <td>0.077650</td>\n",
       "      <td>0.041800</td>\n",
       "      <td>0.014967</td>\n",
       "      <td>0.061603</td>\n",
       "      <td>0.021215</td>\n",
       "      <td>0.038178</td>\n",
       "      <td>0.035501</td>\n",
       "      <td>0.016030</td>\n",
       "      <td>0.050092</td>\n",
       "      <td>...</td>\n",
       "      <td>-0.003565</td>\n",
       "      <td>-0.024832</td>\n",
       "      <td>-0.028658</td>\n",
       "      <td>0.008516</td>\n",
       "      <td>-0.039817</td>\n",
       "      <td>-0.029420</td>\n",
       "      <td>0.025273</td>\n",
       "      <td>-0.032277</td>\n",
       "      <td>a</td>\n",
       "      <td>1</td>\n",
       "    </tr>\n",
       "    <tr>\n",
       "      <th>2</th>\n",
       "      <td>-0.017608</td>\n",
       "      <td>0.076486</td>\n",
       "      <td>0.024926</td>\n",
       "      <td>0.014930</td>\n",
       "      <td>0.061257</td>\n",
       "      <td>0.009007</td>\n",
       "      <td>0.040645</td>\n",
       "      <td>0.035219</td>\n",
       "      <td>0.006765</td>\n",
       "      <td>0.051121</td>\n",
       "      <td>...</td>\n",
       "      <td>-0.005195</td>\n",
       "      <td>-0.026848</td>\n",
       "      <td>-0.029004</td>\n",
       "      <td>0.009567</td>\n",
       "      <td>-0.043633</td>\n",
       "      <td>-0.029709</td>\n",
       "      <td>0.025901</td>\n",
       "      <td>-0.034032</td>\n",
       "      <td>a</td>\n",
       "      <td>1</td>\n",
       "    </tr>\n",
       "    <tr>\n",
       "      <th>3</th>\n",
       "      <td>-0.017949</td>\n",
       "      <td>0.074026</td>\n",
       "      <td>0.025973</td>\n",
       "      <td>0.014371</td>\n",
       "      <td>0.061371</td>\n",
       "      <td>0.008799</td>\n",
       "      <td>0.041199</td>\n",
       "      <td>0.034858</td>\n",
       "      <td>0.007288</td>\n",
       "      <td>0.053026</td>\n",
       "      <td>...</td>\n",
       "      <td>-0.006043</td>\n",
       "      <td>-0.025303</td>\n",
       "      <td>-0.028130</td>\n",
       "      <td>0.008016</td>\n",
       "      <td>-0.042826</td>\n",
       "      <td>-0.029535</td>\n",
       "      <td>0.025131</td>\n",
       "      <td>-0.035854</td>\n",
       "      <td>a</td>\n",
       "      <td>1</td>\n",
       "    </tr>\n",
       "    <tr>\n",
       "      <th>4</th>\n",
       "      <td>-0.019782</td>\n",
       "      <td>0.073851</td>\n",
       "      <td>0.022678</td>\n",
       "      <td>0.013184</td>\n",
       "      <td>0.060462</td>\n",
       "      <td>0.003672</td>\n",
       "      <td>0.040342</td>\n",
       "      <td>0.034172</td>\n",
       "      <td>0.004060</td>\n",
       "      <td>0.050691</td>\n",
       "      <td>...</td>\n",
       "      <td>-0.006673</td>\n",
       "      <td>-0.024682</td>\n",
       "      <td>-0.028794</td>\n",
       "      <td>0.006464</td>\n",
       "      <td>-0.041332</td>\n",
       "      <td>-0.029523</td>\n",
       "      <td>0.025261</td>\n",
       "      <td>-0.036269</td>\n",
       "      <td>a</td>\n",
       "      <td>1</td>\n",
       "    </tr>\n",
       "  </tbody>\n",
       "</table>\n",
       "<p>5 rows × 65 columns</p>\n",
       "</div>"
      ],
      "text/plain": [
       "          0         1         2         3         4         5         6  \\\n",
       "0 -0.017227  0.074167  0.028766  0.013955  0.058635  0.009331  0.039599   \n",
       "1 -0.018473  0.077650  0.041800  0.014967  0.061603  0.021215  0.038178   \n",
       "2 -0.017608  0.076486  0.024926  0.014930  0.061257  0.009007  0.040645   \n",
       "3 -0.017949  0.074026  0.025973  0.014371  0.061371  0.008799  0.041199   \n",
       "4 -0.019782  0.073851  0.022678  0.013184  0.060462  0.003672  0.040342   \n",
       "\n",
       "          7         8         9  ...        55        56        57        58  \\\n",
       "0  0.031790  0.008871  0.050059  ... -0.002371 -0.023715 -0.027515  0.010693   \n",
       "1  0.035501  0.016030  0.050092  ... -0.003565 -0.024832 -0.028658  0.008516   \n",
       "2  0.035219  0.006765  0.051121  ... -0.005195 -0.026848 -0.029004  0.009567   \n",
       "3  0.034858  0.007288  0.053026  ... -0.006043 -0.025303 -0.028130  0.008016   \n",
       "4  0.034172  0.004060  0.050691  ... -0.006673 -0.024682 -0.028794  0.006464   \n",
       "\n",
       "         59        60        61        62  classe  signer  \n",
       "0 -0.039081 -0.027290  0.030310 -0.033299       a       1  \n",
       "1 -0.039817 -0.029420  0.025273 -0.032277       a       1  \n",
       "2 -0.043633 -0.029709  0.025901 -0.034032       a       1  \n",
       "3 -0.042826 -0.029535  0.025131 -0.035854       a       1  \n",
       "4 -0.041332 -0.029523  0.025261 -0.036269       a       1  \n",
       "\n",
       "[5 rows x 65 columns]"
      ]
     },
     "execution_count": 14,
     "metadata": {},
     "output_type": "execute_result"
    }
   ],
   "source": [
    "columns = [i for i in range(0, 63)]\n",
    "columns.extend([\"classe\", \"signer\"])\n",
    "dataset = pd.read_csv('dataset_v2.csv')\n",
    "dataset.columns = columns\n",
    "dataset.head()"
   ]
  },
  {
   "cell_type": "code",
   "execution_count": 3,
   "id": "c29017cf-5cf0-4fee-8064-4d4915435994",
   "metadata": {},
   "outputs": [
    {
     "data": {
      "text/plain": [
       "12213"
      ]
     },
     "execution_count": 3,
     "metadata": {},
     "output_type": "execute_result"
    }
   ],
   "source": [
    "len(dataset.index)"
   ]
  },
  {
   "cell_type": "code",
   "execution_count": 15,
   "id": "3c480ce5-ae80-4b4f-bdcb-de7db90f9ac4",
   "metadata": {},
   "outputs": [],
   "source": [
    "def dist1(row):\n",
    "    x1, y1, z1 = row[9:12]\n",
    "    x3, y3, z3 = row[0:3]\n",
    "    return np.linalg.norm([x1-x3, y1-y3, z1-z3])\n",
    "\n",
    "def dist1(row):\n",
    "    x1, y1, z1 = row[9:12]\n",
    "    x2, y2, z2 = row[18:21]\n",
    "    x3, y3, z3 = row[0:3]\n",
    "    d1 = np.linalg.norm([x1-x3, y1-y3, z1-z3])\n",
    "    d2 = np.linalg.norm([x2-x3, y2-y3, z2-z3])\n",
    "    return 1 if d1 > d2 else 0"
   ]
  },
  {
   "cell_type": "code",
   "execution_count": 16,
   "id": "72307ca8-cc93-4a8e-83da-780bb7fe59a1",
   "metadata": {},
   "outputs": [
    {
     "data": {
      "application/vnd.jupyter.widget-view+json": {
       "model_id": "3eb7527a88be4d83a107fba579667320",
       "version_major": 2,
       "version_minor": 0
      },
      "text/plain": [
       "VBox(children=(HBox(children=(IntProgress(value=0, description='0.00%', max=3054), Label(value='0 / 3054'))), …"
      ]
     },
     "metadata": {},
     "output_type": "display_data"
    }
   ],
   "source": [
    "dataset[63] = dataset.parallel_apply(dist, axis=1)"
   ]
  },
  {
   "cell_type": "code",
   "execution_count": 18,
   "id": "23a4b8f8-07fb-4c8f-b457-c873ba996ac0",
   "metadata": {},
   "outputs": [],
   "source": [
    "signers_train = [2, 3, 4, 5, 6, 7, 8]\n",
    "signers_test = [1]"
   ]
  },
  {
   "cell_type": "code",
   "execution_count": 19,
   "id": "8fe29be7-de8e-4f6e-94c2-93284d735a6c",
   "metadata": {},
   "outputs": [],
   "source": [
    "classes = ['a', 'b', 'c', 'd', 'e', 'f', 'g', 'i', 'l', 'm', 'n', 'o', 'p',\n",
    "        'q', 'r', 's', 't', 'u', 'v', 'w', 'y']"
   ]
  },
  {
   "cell_type": "code",
   "execution_count": 20,
   "id": "04dcb644-4426-47e2-81a4-de2da4e64b56",
   "metadata": {
    "tags": []
   },
   "outputs": [
    {
     "data": {
      "text/plain": [
       "LabelEncoder()"
      ]
     },
     "execution_count": 20,
     "metadata": {},
     "output_type": "execute_result"
    }
   ],
   "source": [
    "le = preprocessing.LabelEncoder()\n",
    "le.fit(classes)"
   ]
  },
  {
   "cell_type": "code",
   "execution_count": 25,
   "id": "ede40552-4f37-4fa2-977a-e7ae13dd09cf",
   "metadata": {},
   "outputs": [],
   "source": [
    "dataset_train = dataset.loc[dataset['signer'].isin(signers_train)]"
   ]
  },
  {
   "cell_type": "code",
   "execution_count": 27,
   "id": "6bf902f4-3327-4de1-823c-9f2aef150fc4",
   "metadata": {},
   "outputs": [],
   "source": [
    "feats = [i for i in range(0, 64)]\n",
    "\n",
    "X_train = np.array(dataset_train[feats])\n",
    "Y_train = np.array(le.transform(dataset_train['classe']))\n",
    "\n",
    "#X_train = preprocessing.normalize(X_train)"
   ]
  },
  {
   "cell_type": "code",
   "execution_count": 28,
   "id": "bbe97192",
   "metadata": {},
   "outputs": [],
   "source": [
    "dataset_test = dataset.loc[dataset['signer'].isin(signers_test)]"
   ]
  },
  {
   "cell_type": "code",
   "execution_count": 29,
   "id": "2a52bc6d",
   "metadata": {},
   "outputs": [],
   "source": [
    "X_test = np.array(dataset_test[feats])\n",
    "Y_test = np.array(le.transform(dataset_test['classe']))\n",
    "\n",
    "#X_test = preprocessing.normalize(X_test)"
   ]
  },
  {
   "cell_type": "markdown",
   "id": "2421f437",
   "metadata": {},
   "source": [
    "# <span style=\"color:purple\"> ANÁLISE DO DATASET</span>"
   ]
  },
  {
   "cell_type": "code",
   "execution_count": 17,
   "id": "357b976d-18d0-446c-a5a4-9173036fb6a8",
   "metadata": {},
   "outputs": [
    {
     "data": {
      "image/png": "[encoded data removed]",
      "text/plain": [
       "<Figure size 640x480 with 1 Axes>"
      ]
     },
     "metadata": {},
     "output_type": "display_data"
    }
   ],
   "source": [
    "signer_data = dataset['signer'].value_counts()\n",
    "plt.title('Distribuição Sinalizadores')\n",
    "_ = plt.pie(signer_data, labels=signer_data.index, autopct='%.0f%%')"
   ]
  },
  {
   "cell_type": "code",
   "execution_count": null,
   "id": "5eff160c",
   "metadata": {},
   "outputs": [],
   "source": [
    "data = dataset_train['classe'].value_counts()\n",
    "print(data)\n",
    "plt.title('Distribuição Treino')\n",
    "_ = plt.pie(data, labels=data.index, autopct='%.0f%%')"
   ]
  },
  {
   "cell_type": "code",
   "execution_count": 41,
   "id": "bddf044b",
   "metadata": {},
   "outputs": [
    {
     "data": {
      "image/png": "[encoded data removed]",
      "text/plain": [
       "<Figure size 640x480 with 1 Axes>"
      ]
     },
     "metadata": {},
     "output_type": "display_data"
    }
   ],
   "source": [
    "data = dataset_test['classe'].value_counts()\n",
    "plt.title('Distribuição Teste')\n",
    "_ = plt.pie(data, labels=data.index, autopct='%.0f%%')"
   ]
  },
  {
   "cell_type": "code",
   "execution_count": 35,
   "id": "bbde7cde-a0e7-43f1-8c09-4642650a9252",
   "metadata": {},
   "outputs": [
    {
     "data": {
      "text/plain": [
       "((11815, 64), (398, 64))"
      ]
     },
     "execution_count": 35,
     "metadata": {},
     "output_type": "execute_result"
    }
   ],
   "source": [
    "X_train.shape, X_test.shape"
   ]
  },
  {
   "cell_type": "markdown",
   "id": "5966ecbb-b6c5-4dc6-9ec3-04bb396a67cb",
   "metadata": {
    "tags": []
   },
   "source": [
    "# <span style=\"color:purple\"> SVM </span>"
   ]
  },
  {
   "cell_type": "code",
   "execution_count": 30,
   "id": "5ba105fb-45a4-4303-8b36-c4919f12d0cc",
   "metadata": {
    "tags": []
   },
   "outputs": [],
   "source": [
    "model = svm.SVC(decision_function_shape='ovo')"
   ]
  },
  {
   "cell_type": "code",
   "execution_count": 31,
   "id": "2e02bf9c-9817-451b-9fbe-4dbb32776ea8",
   "metadata": {},
   "outputs": [
    {
     "data": {
      "text/plain": [
       "SVC(decision_function_shape='ovo')"
      ]
     },
     "execution_count": 31,
     "metadata": {},
     "output_type": "execute_result"
    }
   ],
   "source": [
    "model.fit(X_train, Y_train)"
   ]
  },
  {
   "cell_type": "code",
   "execution_count": 32,
   "id": "a6ff7ea3-5e9c-4fae-b363-b30efb79ad01",
   "metadata": {
    "tags": []
   },
   "outputs": [],
   "source": [
    "pred = model.predict(X_test)"
   ]
  },
  {
   "cell_type": "code",
   "execution_count": 33,
   "id": "3a4a3a4a-a84a-4a76-b0aa-3c9ad0b272ae",
   "metadata": {},
   "outputs": [
    {
     "name": "stdout",
     "output_type": "stream",
     "text": [
      "              precision    recall  f1-score   support\n",
      "\n",
      "           a       1.00      1.00      1.00        20\n",
      "           b       1.00      1.00      1.00        18\n",
      "           c       0.96      1.00      0.98        23\n",
      "           d       1.00      0.94      0.97        18\n",
      "           e       1.00      1.00      1.00        15\n",
      "           f       0.55      1.00      0.71        23\n",
      "           g       1.00      1.00      1.00        16\n",
      "           i       1.00      1.00      1.00        18\n",
      "           l       1.00      1.00      1.00        19\n",
      "           m       1.00      0.95      0.97        20\n",
      "           n       0.96      1.00      0.98        24\n",
      "           o       1.00      0.95      0.97        19\n",
      "           p       0.96      1.00      0.98        22\n",
      "           q       1.00      1.00      1.00        21\n",
      "           r       0.82      0.93      0.87        15\n",
      "           s       1.00      1.00      1.00        18\n",
      "           t       1.00      0.05      0.10        20\n",
      "           u       1.00      0.85      0.92        20\n",
      "           v       1.00      1.00      1.00        21\n",
      "           w       1.00      1.00      1.00        11\n",
      "           y       0.94      1.00      0.97        17\n",
      "\n",
      "    accuracy                           0.93       398\n",
      "   macro avg       0.96      0.94      0.92       398\n",
      "weighted avg       0.96      0.93      0.92       398\n",
      "\n"
     ]
    }
   ],
   "source": [
    "print(classification_report(Y_test, pred, target_names=classes))"
   ]
  },
  {
   "cell_type": "code",
   "execution_count": 34,
   "id": "7b94fda8-76f0-46b3-bb06-8d19cc5b14e1",
   "metadata": {},
   "outputs": [
    {
     "name": "stderr",
     "output_type": "stream",
     "text": [
      "2023-03-13 00:36:33.456579: I tensorflow/stream_executor/cuda/cuda_gpu_executor.cc:936] successful NUMA node read from SysFS had negative value (-1), but there must be at least one NUMA node, so returning NUMA node zero\n",
      "2023-03-13 00:36:33.611803: I tensorflow/stream_executor/cuda/cuda_gpu_executor.cc:936] successful NUMA node read from SysFS had negative value (-1), but there must be at least one NUMA node, so returning NUMA node zero\n",
      "2023-03-13 00:36:33.612072: I tensorflow/stream_executor/cuda/cuda_gpu_executor.cc:936] successful NUMA node read from SysFS had negative value (-1), but there must be at least one NUMA node, so returning NUMA node zero\n",
      "2023-03-13 00:36:33.635685: I tensorflow/core/platform/cpu_feature_guard.cc:151] This TensorFlow binary is optimized with oneAPI Deep Neural Network Library (oneDNN) to use the following CPU instructions in performance-critical operations:  AVX2 FMA\n",
      "To enable them in other operations, rebuild TensorFlow with the appropriate compiler flags.\n",
      "2023-03-13 00:36:33.637718: I tensorflow/stream_executor/cuda/cuda_gpu_executor.cc:936] successful NUMA node read from SysFS had negative value (-1), but there must be at least one NUMA node, so returning NUMA node zero\n",
      "2023-03-13 00:36:33.638251: I tensorflow/stream_executor/cuda/cuda_gpu_executor.cc:936] successful NUMA node read from SysFS had negative value (-1), but there must be at least one NUMA node, so returning NUMA node zero\n",
      "2023-03-13 00:36:33.638466: I tensorflow/stream_executor/cuda/cuda_gpu_executor.cc:936] successful NUMA node read from SysFS had negative value (-1), but there must be at least one NUMA node, so returning NUMA node zero\n",
      "2023-03-13 00:36:35.220697: I tensorflow/stream_executor/cuda/cuda_gpu_executor.cc:936] successful NUMA node read from SysFS had negative value (-1), but there must be at least one NUMA node, so returning NUMA node zero\n",
      "2023-03-13 00:36:35.221020: I tensorflow/stream_executor/cuda/cuda_gpu_executor.cc:936] successful NUMA node read from SysFS had negative value (-1), but there must be at least one NUMA node, so returning NUMA node zero\n",
      "2023-03-13 00:36:35.221228: I tensorflow/stream_executor/cuda/cuda_gpu_executor.cc:936] successful NUMA node read from SysFS had negative value (-1), but there must be at least one NUMA node, so returning NUMA node zero\n",
      "2023-03-13 00:36:35.222244: I tensorflow/core/common_runtime/gpu/gpu_device.cc:1525] Created device /job:localhost/replica:0/task:0/device:GPU:0 with 6882 MB memory:  -> device: 0, name: Tesla P4, pci bus id: 0000:00:04.0, compute capability: 6.1\n"
     ]
    },
    {
     "data": {
      "text/plain": [
       "<AxesSubplot:>"
      ]
     },
     "execution_count": 34,
     "metadata": {},
     "output_type": "execute_result"
    },
    {
     "data": {
      "image/png": "[encoded data removed]",
      "text/plain": [
       "<Figure size 640x480 with 2 Axes>"
      ]
     },
     "metadata": {},
     "output_type": "display_data"
    }
   ],
   "source": [
    "cm = confusion_matrix(Y_test, pred)\n",
    "\n",
    "df_cm = pd.DataFrame(np.array(cm), index = classes, columns = classes)\n",
    "sns.heatmap(df_cm, annot=True, fmt=\".0f\")"
   ]
  },
  {
   "cell_type": "markdown",
   "id": "7923af6e-7f9b-45c4-9246-4f4b5a0b190b",
   "metadata": {
    "tags": []
   },
   "source": [
    "# <span style=\"color:purple\"> OPTUNA </span>"
   ]
  },
  {
   "cell_type": "code",
   "execution_count": 48,
   "id": "8d07122a-b01d-4dd0-8b51-4e52a6b0850a",
   "metadata": {},
   "outputs": [
    {
     "name": "stderr",
     "output_type": "stream",
     "text": [
      "\u001b[32m[I 2023-03-12 23:36:03,437]\u001b[0m A new study created in memory with name: no-name-8d54b01c-a5fb-4287-923e-81953dbf4f1b\u001b[0m\n",
      "\u001b[32m[I 2023-03-12 23:36:05,001]\u001b[0m Trial 0 finished with value: 0.9137568032694977 and parameters: {'gamma': 5.036463125993059, 'c': 18.956795926992825}. Best is trial 0 with value: 0.9137568032694977.\u001b[0m\n",
      "\u001b[32m[I 2023-03-12 23:36:06,173]\u001b[0m Trial 1 finished with value: 0.9074101866568265 and parameters: {'gamma': 5.41030425997385, 'c': 91.83021928936304}. Best is trial 0 with value: 0.9137568032694977.\u001b[0m\n",
      "\u001b[32m[I 2023-03-12 23:36:07,552]\u001b[0m Trial 2 finished with value: 0.912402649805161 and parameters: {'gamma': 1.3952282436506644, 'c': 82.55798295727573}. Best is trial 0 with value: 0.9137568032694977.\u001b[0m\n",
      "\u001b[32m[I 2023-03-12 23:36:08,767]\u001b[0m Trial 3 finished with value: 0.909779375015284 and parameters: {'gamma': 4.020601359119199, 'c': 75.02670722984638}. Best is trial 0 with value: 0.9137568032694977.\u001b[0m\n",
      "\u001b[32m[I 2023-03-12 23:36:14,334]\u001b[0m Trial 4 finished with value: 0.9118929082422639 and parameters: {'gamma': 0.17142435380198312, 'c': 18.86130890152098}. Best is trial 0 with value: 0.9137568032694977.\u001b[0m\n",
      "\u001b[32m[I 2023-03-12 23:36:15,095]\u001b[0m Trial 5 finished with value: 0.9114719594004953 and parameters: {'gamma': 5.583393397854912, 'c': 46.09916549027392}. Best is trial 0 with value: 0.9137568032694977.\u001b[0m\n",
      "\u001b[32m[I 2023-03-12 23:36:15,802]\u001b[0m Trial 6 finished with value: 0.908171865746953 and parameters: {'gamma': 7.050028698876098, 'c': 62.33512472738391}. Best is trial 0 with value: 0.9137568032694977.\u001b[0m\n",
      "\u001b[32m[I 2023-03-12 23:36:16,559]\u001b[0m Trial 7 finished with value: 0.9106254200839078 and parameters: {'gamma': 3.531138863719041, 'c': 69.85010441055879}. Best is trial 0 with value: 0.9137568032694977.\u001b[0m\n",
      "\u001b[32m[I 2023-03-12 23:36:17,396]\u001b[0m Trial 8 finished with value: 0.9107097430843214 and parameters: {'gamma': 3.367493031208024, 'c': 47.737979785257544}. Best is trial 0 with value: 0.9137568032694977.\u001b[0m\n",
      "\u001b[32m[I 2023-03-12 23:36:20,002]\u001b[0m Trial 9 finished with value: 0.9195941725672352 and parameters: {'gamma': 0.08117843523047237, 'c': 58.188667102490655}. Best is trial 9 with value: 0.9195941725672352.\u001b[0m\n",
      "\u001b[32m[I 2023-03-12 23:36:20,764]\u001b[0m Trial 10 finished with value: 0.9081713929880312 and parameters: {'gamma': 9.266894574838252, 'c': 99.04580372593976}. Best is trial 9 with value: 0.9195941725672352.\u001b[0m\n",
      "\u001b[32m[I 2023-03-12 23:36:22,441]\u001b[0m Trial 11 finished with value: 0.9238267617049628 and parameters: {'gamma': 1.837944464570925, 'c': 7.326856444225493}. Best is trial 11 with value: 0.9238267617049628.\u001b[0m\n",
      "\u001b[32m[I 2023-03-12 23:36:28,484]\u001b[0m Trial 12 finished with value: 0.8764293919722871 and parameters: {'gamma': 0.30686659094540947, 'c': 2.675093286515043}. Best is trial 11 with value: 0.9238267617049628.\u001b[0m\n",
      "\u001b[32m[I 2023-03-12 23:36:29,453]\u001b[0m Trial 13 finished with value: 0.9142644818843723 and parameters: {'gamma': 1.6957837245090677, 'c': 38.70111921826233}. Best is trial 11 with value: 0.9238267617049628.\u001b[0m\n",
      "\u001b[32m[I 2023-03-12 23:36:30,356]\u001b[0m Trial 14 finished with value: 0.9129104573542873 and parameters: {'gamma': 1.89678204850997, 'c': 60.70429478513194}. Best is trial 11 with value: 0.9238267617049628.\u001b[0m\n",
      "\u001b[32m[I 2023-03-12 23:36:32,629]\u001b[0m Trial 15 finished with value: 0.9232341798855433 and parameters: {'gamma': 0.2131663315728467, 'c': 32.62612852570456}. Best is trial 11 with value: 0.9238267617049628.\u001b[0m\n",
      "\u001b[32m[I 2023-03-12 23:36:33,647]\u001b[0m Trial 16 finished with value: 0.9157029798381643 and parameters: {'gamma': 1.7459461647257846, 'c': 30.575510743190698}. Best is trial 11 with value: 0.9238267617049628.\u001b[0m\n",
      "\u001b[32m[I 2023-03-12 23:36:39,429]\u001b[0m Trial 17 finished with value: 0.8916634035556542 and parameters: {'gamma': 2.572122729851914, 'c': 0.37582241749557}. Best is trial 11 with value: 0.9238267617049628.\u001b[0m\n",
      "\u001b[32m[I 2023-03-12 23:36:40,852]\u001b[0m Trial 18 finished with value: 0.9205263242267501 and parameters: {'gamma': 0.99672717861631, 'c': 26.417320285969943}. Best is trial 11 with value: 0.9238267617049628.\u001b[0m\n",
      "\u001b[32m[I 2023-03-12 23:36:42,143]\u001b[0m Trial 19 finished with value: 0.9177339521661664 and parameters: {'gamma': 2.598900140628471, 'c': 10.503103126662886}. Best is trial 11 with value: 0.9238267617049628.\u001b[0m\n",
      "\u001b[32m[I 2023-03-12 23:36:43,222]\u001b[0m Trial 20 finished with value: 0.9192570954560003 and parameters: {'gamma': 1.1756748531278447, 'c': 35.60819983503849}. Best is trial 11 with value: 0.9238267617049628.\u001b[0m\n",
      "\u001b[32m[I 2023-03-12 23:36:44,574]\u001b[0m Trial 21 finished with value: 0.9217956819317514 and parameters: {'gamma': 0.8341749915897118, 'c': 26.86677723093992}. Best is trial 11 with value: 0.9238267617049628.\u001b[0m\n",
      "\u001b[32m[I 2023-03-12 23:36:46,190]\u001b[0m Trial 22 finished with value: 0.9237421378579628 and parameters: {'gamma': 0.641687147813622, 'c': 23.661459621455606}. Best is trial 11 with value: 0.9238267617049628.\u001b[0m\n",
      "\u001b[32m[I 2023-03-12 23:36:51,387]\u001b[0m Trial 23 finished with value: 0.9001275288680565 and parameters: {'gamma': 0.0829436600892608, 'c': 13.915062388204195}. Best is trial 11 with value: 0.9238267617049628.\u001b[0m\n",
      "\u001b[32m[I 2023-03-12 23:36:52,706]\u001b[0m Trial 24 finished with value: 0.9187493523739998 and parameters: {'gamma': 2.4045875543634025, 'c': 10.486565976043586}. Best is trial 11 with value: 0.9238267617049628.\u001b[0m\n",
      "\u001b[32m[I 2023-03-12 23:36:54,044]\u001b[0m Trial 25 finished with value: 0.9218803272677935 and parameters: {'gamma': 0.9893211182500199, 'c': 22.318720608261906}. Best is trial 11 with value: 0.9238267617049628.\u001b[0m\n",
      "\u001b[32m[I 2023-03-12 23:36:55,287]\u001b[0m Trial 26 finished with value: 0.919933892830624 and parameters: {'gamma': 0.8147714296257249, 'c': 34.48497282632337}. Best is trial 11 with value: 0.9238267617049628.\u001b[0m\n",
      "\u001b[32m[I 2023-03-12 23:36:56,221]\u001b[0m Trial 27 finished with value: 0.9137567602914137 and parameters: {'gamma': 1.9739804676250325, 'c': 39.55560704270837}. Best is trial 11 with value: 0.9238267617049628.\u001b[0m\n",
      "\u001b[32m[I 2023-03-12 23:36:58,801]\u001b[0m Trial 28 finished with value: 0.9222183284078301 and parameters: {'gamma': 0.7981517384983016, 'c': 7.53574371430437}. Best is trial 11 with value: 0.9238267617049628.\u001b[0m\n",
      "\u001b[32m[I 2023-03-12 23:36:59,804]\u001b[0m Trial 29 finished with value: 0.9139259650073303 and parameters: {'gamma': 3.0344392652035674, 'c': 18.961946676060563}. Best is trial 11 with value: 0.9238267617049628.\u001b[0m\n",
      "\u001b[32m[I 2023-03-12 23:37:00,953]\u001b[0m Trial 30 finished with value: 0.9165491968191232 and parameters: {'gamma': 2.0594664765171022, 'c': 18.25967982879697}. Best is trial 11 with value: 0.9238267617049628.\u001b[0m\n",
      "\u001b[32m[I 2023-03-12 23:37:05,450]\u001b[0m Trial 31 finished with value: 0.919848151553445 and parameters: {'gamma': 0.6479776885460451, 'c': 7.548948133308}. Best is trial 11 with value: 0.9238267617049628.\u001b[0m\n",
      "\u001b[32m[I 2023-03-12 23:37:09,380]\u001b[0m Trial 32 finished with value: 0.9235728901639627 and parameters: {'gamma': 1.2292574043111177, 'c': 6.030892220073934}. Best is trial 11 with value: 0.9238267617049628.\u001b[0m\n",
      "\u001b[32m[I 2023-03-12 23:37:11,834]\u001b[0m Trial 33 finished with value: 0.9223881563059614 and parameters: {'gamma': 1.4061744717930558, 'c': 15.204944058348568}. Best is trial 11 with value: 0.9238267617049628.\u001b[0m\n",
      "\u001b[32m[I 2023-03-12 23:37:13,953]\u001b[0m Trial 34 finished with value: 0.9201033339260011 and parameters: {'gamma': 1.3798132359789468, 'c': 24.415706947050236}. Best is trial 11 with value: 0.9238267617049628.\u001b[0m\n",
      "\u001b[32m[I 2023-03-12 23:37:20,398]\u001b[0m Trial 35 finished with value: 0.8924252975361998 and parameters: {'gamma': 0.07032977577873856, 'c': 14.099368910578384}. Best is trial 11 with value: 0.9238267617049628.\u001b[0m\n",
      "\u001b[32m[I 2023-03-12 23:37:23,672]\u001b[0m Trial 36 finished with value: 0.9120621559362639 and parameters: {'gamma': 0.5431926416459809, 'c': 5.671603532784434}. Best is trial 11 with value: 0.9238267617049628.\u001b[0m\n",
      "\u001b[32m[I 2023-03-12 23:37:27,191]\u001b[0m Trial 37 finished with value: 0.9127389747999294 and parameters: {'gamma': 1.3885268645351185, 'c': 2.1287129905122795}. Best is trial 11 with value: 0.9238267617049628.\u001b[0m\n",
      "\u001b[32m[I 2023-03-12 23:37:28,128]\u001b[0m Trial 38 finished with value: 0.9136721364444137 and parameters: {'gamma': 4.045787291892533, 'c': 20.87056331256778}. Best is trial 11 with value: 0.9238267617049628.\u001b[0m\n",
      "\u001b[32m[I 2023-03-12 23:37:29,079]\u001b[0m Trial 39 finished with value: 0.9137567388023718 and parameters: {'gamma': 2.28416347885441, 'c': 30.48963665689631}. Best is trial 11 with value: 0.9238267617049628.\u001b[0m\n",
      "\u001b[32m[I 2023-03-12 23:37:31,718]\u001b[0m Trial 40 finished with value: 0.9201021950067805 and parameters: {'gamma': 0.4660601729658499, 'c': 10.995798118633981}. Best is trial 11 with value: 0.9238267617049628.\u001b[0m\n",
      "\u001b[32m[I 2023-03-12 23:37:33,369]\u001b[0m Trial 41 finished with value: 0.9237421593470048 and parameters: {'gamma': 0.9934251459408547, 'c': 15.811264254912125}. Best is trial 11 with value: 0.9238267617049628.\u001b[0m\n",
      "\u001b[32m[I 2023-03-12 23:37:34,826]\u001b[0m Trial 42 finished with value: 0.9225573180437942 and parameters: {'gamma': 1.3018641730986573, 'c': 15.584304549047179}. Best is trial 11 with value: 0.9238267617049628.\u001b[0m\n",
      "\u001b[32m[I 2023-03-12 23:37:37,026]\u001b[0m Trial 43 finished with value: 0.923742094879879 and parameters: {'gamma': 0.39276220105315135, 'c': 20.578465009715995}. Best is trial 11 with value: 0.9238267617049628.\u001b[0m\n",
      "\u001b[32m[I 2023-03-12 23:37:39,083]\u001b[0m Trial 44 finished with value: 0.9245039673713826 and parameters: {'gamma': 1.728932828360811, 'c': 5.391385547404205}. Best is trial 44 with value: 0.9245039673713826.\u001b[0m\n",
      "\u001b[32m[I 2023-03-12 23:37:40,229]\u001b[0m Trial 45 finished with value: 0.9171414992809982 and parameters: {'gamma': 1.8550443737170115, 'c': 21.707924172341883}. Best is trial 44 with value: 0.9245039673713826.\u001b[0m\n",
      "\u001b[32m[I 2023-03-12 23:37:48,298]\u001b[0m Trial 46 finished with value: 0.8095654000294744 and parameters: {'gamma': 0.5758125833150507, 'c': 0.59838586025095}. Best is trial 44 with value: 0.9245039673713826.\u001b[0m\n",
      "\u001b[32m[I 2023-03-12 23:37:49,371]\u001b[0m Trial 47 finished with value: 0.9146876011193728 and parameters: {'gamma': 2.905325389681626, 'c': 17.676078619131015}. Best is trial 44 with value: 0.9245039673713826.\u001b[0m\n",
      "\u001b[32m[I 2023-03-12 23:37:50,797]\u001b[0m Trial 48 finished with value: 0.9228112970300039 and parameters: {'gamma': 1.6865303981011657, 'c': 11.621573002511624}. Best is trial 44 with value: 0.9245039673713826.\u001b[0m\n",
      "\u001b[32m[I 2023-03-12 23:37:51,769]\u001b[0m Trial 49 finished with value: 0.9143490412642468 and parameters: {'gamma': 2.335098639270438, 'c': 25.50678750454018}. Best is trial 44 with value: 0.9245039673713826.\u001b[0m\n"
     ]
    },
    {
     "name": "stdout",
     "output_type": "stream",
     "text": [
      "Accuracy: 0.9245039673713826\n",
      "Best hyperparameters: {'gamma': 1.728932828360811, 'c': 5.391385547404205}\n"
     ]
    }
   ],
   "source": [
    "def objective(trial):\n",
    "    \n",
    "    gamma = trial.suggest_float('gamma', 0.0001, 10)\n",
    "    c = trial.suggest_float('c', 0.1, 100)\n",
    "    \n",
    "    clf = svm.SVC(decision_function_shape='ovo', C=c, gamma=gamma)\n",
    "    \n",
    "    return sklearn.model_selection.cross_val_score(\n",
    "        clf, X_train, Y_train, n_jobs=-1, cv=3).mean()\n",
    "\n",
    "study = optuna.create_study(direction='maximize')\n",
    "study.optimize(objective, n_trials=50)\n",
    "\n",
    "trial = study.best_trial\n",
    "\n",
    "print('Accuracy: {}'.format(trial.value))\n",
    "print(\"Best hyperparameters: {}\".format(trial.params))"
   ]
  },
  {
   "cell_type": "code",
   "execution_count": 49,
   "id": "0f8c1bd0-0ad9-408a-9dbe-f6313b475f8f",
   "metadata": {},
   "outputs": [],
   "source": [
    "final_model = svm.SVC(decision_function_shape='ovo', gamma=trial.params['gamma'], C=trial.params['c'], probability=True)"
   ]
  },
  {
   "cell_type": "code",
   "execution_count": 50,
   "id": "dac83a5b-dfe5-4063-a89c-37e44abc338f",
   "metadata": {},
   "outputs": [
    {
     "data": {
      "text/plain": [
       "SVC(C=5.391385547404205, decision_function_shape='ovo', gamma=1.728932828360811,\n",
       "    probability=True)"
      ]
     },
     "execution_count": 50,
     "metadata": {},
     "output_type": "execute_result"
    }
   ],
   "source": [
    "final_model.fit(X_train, Y_train)"
   ]
  },
  {
   "cell_type": "code",
   "execution_count": 51,
   "id": "c037adbc-ea95-46e6-92a3-24ff4eb51952",
   "metadata": {},
   "outputs": [],
   "source": [
    "pred = model.predict(X_test)"
   ]
  },
  {
   "cell_type": "code",
   "execution_count": 52,
   "id": "94739332-8eeb-4e3f-80fe-747c9e639c4c",
   "metadata": {},
   "outputs": [
    {
     "name": "stdout",
     "output_type": "stream",
     "text": [
      "              precision    recall  f1-score   support\n",
      "\n",
      "           a       1.00      1.00      1.00        20\n",
      "           b       1.00      1.00      1.00        18\n",
      "           c       0.96      1.00      0.98        23\n",
      "           d       1.00      0.94      0.97        18\n",
      "           e       1.00      1.00      1.00        15\n",
      "           f       0.55      1.00      0.71        23\n",
      "           g       1.00      1.00      1.00        16\n",
      "           i       1.00      1.00      1.00        18\n",
      "           l       1.00      1.00      1.00        19\n",
      "           m       1.00      0.95      0.97        20\n",
      "           n       0.96      1.00      0.98        24\n",
      "           o       1.00      1.00      1.00        19\n",
      "           p       0.96      1.00      0.98        22\n",
      "           q       1.00      1.00      1.00        21\n",
      "           r       0.82      0.93      0.87        15\n",
      "           s       1.00      1.00      1.00        18\n",
      "           t       1.00      0.05      0.10        20\n",
      "           u       1.00      0.85      0.92        20\n",
      "           v       1.00      1.00      1.00        21\n",
      "           w       1.00      1.00      1.00        11\n",
      "           y       1.00      1.00      1.00        17\n",
      "\n",
      "    accuracy                           0.94       398\n",
      "   macro avg       0.96      0.94      0.93       398\n",
      "weighted avg       0.96      0.94      0.92       398\n",
      "\n"
     ]
    }
   ],
   "source": [
    "print(classification_report(Y_test, pred, target_names=classes))"
   ]
  },
  {
   "cell_type": "markdown",
   "id": "b5608593-b7ab-4818-a354-1dd11803f9f4",
   "metadata": {},
   "source": [
    "# <span style=\"color:purple\"> CONVERT TO ONNX </span>"
   ]
  },
  {
   "cell_type": "code",
   "execution_count": 17,
   "id": "faa8199c-7793-43ab-a1be-9b7b5c9ac06d",
   "metadata": {},
   "outputs": [],
   "source": [
    "initial_type = [ \n",
    "    ( 'input_landmarks' , FloatTensorType( [None,63] ) ) \n",
    "]\n",
    "\n",
    "converted_model = convert_sklearn(final_model, initial_types=initial_type)\n",
    "\n",
    "with open( \"alphabet_model.onnx\", \"wb\" ) as f:\n",
    "        f.write( converted_model.SerializeToString() )"
   ]
  }
 ],
 "metadata": {
  "environment": {
   "kernel": "python3",
   "name": "tf2-gpu.2-8.m103",
   "type": "gcloud",
   "uri": "gcr.io/deeplearning-platform-release/tf2-gpu.2-8:m103"
  },
  "kernelspec": {
   "display_name": "Python 3 (ipykernel)",
   "language": "python",
   "name": "python3"
  },
  "language_info": {
   "codemirror_mode": {
    "name": "ipython",
    "version": 3
   },
   "file_extension": ".py",
   "mimetype": "text/x-python",
   "name": "python",
   "nbconvert_exporter": "python",
   "pygments_lexer": "ipython3",
   "version": "3.7.12"
  },
  "vscode": {
   "interpreter": {
    "hash": "d985ae1b640e23321cb9f59033fe153b095119c7731f01ad64cc79fd51684b70"
   }
  }
 },
 "nbformat": 4,
 "nbformat_minor": 5
}
