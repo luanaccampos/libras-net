{
 "cells": [
  {
   "cell_type": "code",
   "execution_count": 10,
   "id": "a415d7af-c08c-4b5c-ac17-14d1c7038fe2",
   "metadata": {},
   "outputs": [],
   "source": [
    "import numpy as np\n",
    "import pandas as pd\n",
    "from sklearn import preprocessing\n",
    "from sklearn.model_selection import train_test_split\n",
    "import tensorflow as tf"
   ]
  },
  {
   "cell_type": "markdown",
   "id": "f51f4a7e-d2f7-47f3-a372-a4aa421d552d",
   "metadata": {},
   "source": [
    "# <span style=\"color:purple\"> LEITURA DATASET </span>"
   ]
  },
  {
   "cell_type": "code",
   "execution_count": 2,
   "id": "3a90b78f-63f0-4f2b-955a-01c56a9eebc2",
   "metadata": {},
   "outputs": [
    {
     "data": {
      "text/html": [
       "<div>\n",
       "<style scoped>\n",
       "    .dataframe tbody tr th:only-of-type {\n",
       "        vertical-align: middle;\n",
       "    }\n",
       "\n",
       "    .dataframe tbody tr th {\n",
       "        vertical-align: top;\n",
       "    }\n",
       "\n",
       "    .dataframe thead th {\n",
       "        text-align: right;\n",
       "    }\n",
       "</style>\n",
       "<table border=\"1\" class=\"dataframe\">\n",
       "  <thead>\n",
       "    <tr style=\"text-align: right;\">\n",
       "      <th></th>\n",
       "      <th>0</th>\n",
       "      <th>1</th>\n",
       "      <th>2</th>\n",
       "      <th>3</th>\n",
       "      <th>4</th>\n",
       "      <th>5</th>\n",
       "      <th>6</th>\n",
       "      <th>7</th>\n",
       "      <th>8</th>\n",
       "      <th>9</th>\n",
       "      <th>...</th>\n",
       "      <th>54</th>\n",
       "      <th>55</th>\n",
       "      <th>56</th>\n",
       "      <th>57</th>\n",
       "      <th>58</th>\n",
       "      <th>59</th>\n",
       "      <th>60</th>\n",
       "      <th>61</th>\n",
       "      <th>62</th>\n",
       "      <th>classe</th>\n",
       "    </tr>\n",
       "  </thead>\n",
       "  <tbody>\n",
       "    <tr>\n",
       "      <th>0</th>\n",
       "      <td>-0.015155</td>\n",
       "      <td>0.083723</td>\n",
       "      <td>-0.019764</td>\n",
       "      <td>0.016621</td>\n",
       "      <td>0.067022</td>\n",
       "      <td>-0.016464</td>\n",
       "      <td>0.037898</td>\n",
       "      <td>0.040288</td>\n",
       "      <td>-0.018105</td>\n",
       "      <td>0.048381</td>\n",
       "      <td>...</td>\n",
       "      <td>-0.030021</td>\n",
       "      <td>-0.013157</td>\n",
       "      <td>-0.029493</td>\n",
       "      <td>-0.019044</td>\n",
       "      <td>0.004893</td>\n",
       "      <td>-0.044368</td>\n",
       "      <td>-0.022143</td>\n",
       "      <td>0.026663</td>\n",
       "      <td>-0.034211</td>\n",
       "      <td>a</td>\n",
       "    </tr>\n",
       "    <tr>\n",
       "      <th>1</th>\n",
       "      <td>-0.017470</td>\n",
       "      <td>0.089129</td>\n",
       "      <td>-0.024697</td>\n",
       "      <td>0.017672</td>\n",
       "      <td>0.070180</td>\n",
       "      <td>-0.018930</td>\n",
       "      <td>0.037136</td>\n",
       "      <td>0.042391</td>\n",
       "      <td>-0.020137</td>\n",
       "      <td>0.047958</td>\n",
       "      <td>...</td>\n",
       "      <td>-0.030868</td>\n",
       "      <td>-0.013763</td>\n",
       "      <td>-0.033332</td>\n",
       "      <td>-0.020168</td>\n",
       "      <td>0.004791</td>\n",
       "      <td>-0.048958</td>\n",
       "      <td>-0.022997</td>\n",
       "      <td>0.025612</td>\n",
       "      <td>-0.040157</td>\n",
       "      <td>a</td>\n",
       "    </tr>\n",
       "    <tr>\n",
       "      <th>2</th>\n",
       "      <td>-0.018608</td>\n",
       "      <td>0.088464</td>\n",
       "      <td>-0.034686</td>\n",
       "      <td>0.017341</td>\n",
       "      <td>0.069314</td>\n",
       "      <td>-0.027479</td>\n",
       "      <td>0.036115</td>\n",
       "      <td>0.041589</td>\n",
       "      <td>-0.026058</td>\n",
       "      <td>0.046782</td>\n",
       "      <td>...</td>\n",
       "      <td>-0.031280</td>\n",
       "      <td>-0.015631</td>\n",
       "      <td>-0.034420</td>\n",
       "      <td>-0.021920</td>\n",
       "      <td>0.002710</td>\n",
       "      <td>-0.050564</td>\n",
       "      <td>-0.024800</td>\n",
       "      <td>0.022225</td>\n",
       "      <td>-0.041706</td>\n",
       "      <td>a</td>\n",
       "    </tr>\n",
       "    <tr>\n",
       "      <th>3</th>\n",
       "      <td>-0.018881</td>\n",
       "      <td>0.089806</td>\n",
       "      <td>-0.033932</td>\n",
       "      <td>0.017604</td>\n",
       "      <td>0.069527</td>\n",
       "      <td>-0.027086</td>\n",
       "      <td>0.036691</td>\n",
       "      <td>0.042036</td>\n",
       "      <td>-0.025525</td>\n",
       "      <td>0.047545</td>\n",
       "      <td>...</td>\n",
       "      <td>-0.031772</td>\n",
       "      <td>-0.016675</td>\n",
       "      <td>-0.034124</td>\n",
       "      <td>-0.021750</td>\n",
       "      <td>0.000277</td>\n",
       "      <td>-0.050739</td>\n",
       "      <td>-0.023401</td>\n",
       "      <td>0.019764</td>\n",
       "      <td>-0.042837</td>\n",
       "      <td>a</td>\n",
       "    </tr>\n",
       "    <tr>\n",
       "      <th>4</th>\n",
       "      <td>-0.018110</td>\n",
       "      <td>0.088998</td>\n",
       "      <td>-0.032207</td>\n",
       "      <td>0.016747</td>\n",
       "      <td>0.068922</td>\n",
       "      <td>-0.024993</td>\n",
       "      <td>0.036877</td>\n",
       "      <td>0.042021</td>\n",
       "      <td>-0.023326</td>\n",
       "      <td>0.047667</td>\n",
       "      <td>...</td>\n",
       "      <td>-0.030975</td>\n",
       "      <td>-0.015065</td>\n",
       "      <td>-0.034571</td>\n",
       "      <td>-0.020478</td>\n",
       "      <td>0.001885</td>\n",
       "      <td>-0.050963</td>\n",
       "      <td>-0.022766</td>\n",
       "      <td>0.021520</td>\n",
       "      <td>-0.041488</td>\n",
       "      <td>a</td>\n",
       "    </tr>\n",
       "  </tbody>\n",
       "</table>\n",
       "<p>5 rows × 64 columns</p>\n",
       "</div>"
      ],
      "text/plain": [
       "          0         1         2         3         4         5         6  \\\n",
       "0 -0.015155  0.083723 -0.019764  0.016621  0.067022 -0.016464  0.037898   \n",
       "1 -0.017470  0.089129 -0.024697  0.017672  0.070180 -0.018930  0.037136   \n",
       "2 -0.018608  0.088464 -0.034686  0.017341  0.069314 -0.027479  0.036115   \n",
       "3 -0.018881  0.089806 -0.033932  0.017604  0.069527 -0.027086  0.036691   \n",
       "4 -0.018110  0.088998 -0.032207  0.016747  0.068922 -0.024993  0.036877   \n",
       "\n",
       "          7         8         9  ...        54        55        56        57  \\\n",
       "0  0.040288 -0.018105  0.048381  ... -0.030021 -0.013157 -0.029493 -0.019044   \n",
       "1  0.042391 -0.020137  0.047958  ... -0.030868 -0.013763 -0.033332 -0.020168   \n",
       "2  0.041589 -0.026058  0.046782  ... -0.031280 -0.015631 -0.034420 -0.021920   \n",
       "3  0.042036 -0.025525  0.047545  ... -0.031772 -0.016675 -0.034124 -0.021750   \n",
       "4  0.042021 -0.023326  0.047667  ... -0.030975 -0.015065 -0.034571 -0.020478   \n",
       "\n",
       "         58        59        60        61        62  classe  \n",
       "0  0.004893 -0.044368 -0.022143  0.026663 -0.034211       a  \n",
       "1  0.004791 -0.048958 -0.022997  0.025612 -0.040157       a  \n",
       "2  0.002710 -0.050564 -0.024800  0.022225 -0.041706       a  \n",
       "3  0.000277 -0.050739 -0.023401  0.019764 -0.042837       a  \n",
       "4  0.001885 -0.050963 -0.022766  0.021520 -0.041488       a  \n",
       "\n",
       "[5 rows x 64 columns]"
      ]
     },
     "execution_count": 2,
     "metadata": {},
     "output_type": "execute_result"
    }
   ],
   "source": [
    "dataset = pd.read_csv('dataset.csv')\n",
    "dataset.head()"
   ]
  },
  {
   "cell_type": "code",
   "execution_count": 17,
   "id": "8fe29be7-de8e-4f6e-94c2-93284d735a6c",
   "metadata": {},
   "outputs": [],
   "source": [
    "classes = ['a', 'b', 'c', 'd', 'e', 'f', 'g', 'i', 'l', 'm', 'n', 'o', 'p',\n",
    "        'q', 'r', 's', 't', 'u', 'v', 'w', 'y']"
   ]
  },
  {
   "cell_type": "code",
   "execution_count": 18,
   "id": "04dcb644-4426-47e2-81a4-de2da4e64b56",
   "metadata": {},
   "outputs": [
    {
     "data": {
      "text/plain": [
       "LabelEncoder()"
      ]
     },
     "execution_count": 18,
     "metadata": {},
     "output_type": "execute_result"
    }
   ],
   "source": [
    "le = preprocessing.LabelEncoder()\n",
    "le.fit(classes)"
   ]
  },
  {
   "cell_type": "code",
   "execution_count": 19,
   "id": "d1e15ed8-64af-4515-af84-02e4d44fbb03",
   "metadata": {},
   "outputs": [],
   "source": [
    "X = np.array(dataset.iloc[:,:63])\n",
    "Y = np.array(le.transform(dataset['classe']))"
   ]
  },
  {
   "cell_type": "code",
   "execution_count": 20,
   "id": "2e2a3fb6-7c09-4465-b94a-bad30f5f394c",
   "metadata": {},
   "outputs": [],
   "source": [
    "Y = tf.keras.utils.to_categorical(Y, len(classes))"
   ]
  },
  {
   "cell_type": "code",
   "execution_count": 21,
   "id": "a6192498-0ea4-4ccd-97d9-d5c00ae1702a",
   "metadata": {},
   "outputs": [],
   "source": [
    "X_train, X_test, Y_train, Y_test = train_test_split(X, Y, test_size=0.2, random_state=42)"
   ]
  },
  {
   "cell_type": "markdown",
   "id": "5966ecbb-b6c5-4dc6-9ec3-04bb396a67cb",
   "metadata": {},
   "source": [
    "# <span style=\"color:purple\"> MODELO </span>"
   ]
  },
  {
   "cell_type": "code",
   "execution_count": 29,
   "id": "5ba105fb-45a4-4303-8b36-c4919f12d0cc",
   "metadata": {
    "tags": []
   },
   "outputs": [],
   "source": [
    "model = tf.keras.Sequential(\n",
    "    [\n",
    "        tf.keras.layers.Dense(32, activation='relu', input_shape=(63,)),\n",
    "        tf.keras.layers.Dense(64, activation='relu'),\n",
    "        tf.keras.layers.Dense(128, activation='relu'),\n",
    "        tf.keras.layers.Dropout(0.2),\n",
    "        tf.keras.layers.Flatten(),\n",
    "        tf.keras.layers.Dense(21, activation='softmax'),\n",
    "    ]\n",
    ")\n",
    "\n",
    "model.compile(loss=\"categorical_crossentropy\", optimizer=\"adam\", metrics=[\"accuracy\"])"
   ]
  },
  {
   "cell_type": "code",
   "execution_count": 30,
   "id": "2e02bf9c-9817-451b-9fbe-4dbb32776ea8",
   "metadata": {},
   "outputs": [
    {
     "name": "stdout",
     "output_type": "stream",
     "text": [
      "Model: \"sequential_1\"\n",
      "_________________________________________________________________\n",
      " Layer (type)                Output Shape              Param #   \n",
      "=================================================================\n",
      " dense_5 (Dense)             (None, 32)                2048      \n",
      "                                                                 \n",
      " dense_6 (Dense)             (None, 64)                2112      \n",
      "                                                                 \n",
      " dense_7 (Dense)             (None, 128)               8320      \n",
      "                                                                 \n",
      " dropout_1 (Dropout)         (None, 128)               0         \n",
      "                                                                 \n",
      " flatten_1 (Flatten)         (None, 128)               0         \n",
      "                                                                 \n",
      " dense_8 (Dense)             (None, 21)                2709      \n",
      "                                                                 \n",
      "=================================================================\n",
      "Total params: 15,189\n",
      "Trainable params: 15,189\n",
      "Non-trainable params: 0\n",
      "_________________________________________________________________\n"
     ]
    }
   ],
   "source": [
    "model.summary()"
   ]
  },
  {
   "cell_type": "code",
   "execution_count": 33,
   "id": "a6ff7ea3-5e9c-4fae-b363-b30efb79ad01",
   "metadata": {
    "collapsed": true,
    "jupyter": {
     "outputs_hidden": true
    },
    "tags": []
   },
   "outputs": [
    {
     "name": "stdout",
     "output_type": "stream",
     "text": [
      "Epoch 1/40\n",
      "56/56 [==============================] - 0s 6ms/step - loss: 1.9177 - accuracy: 0.3612 - val_loss: 1.5218 - val_accuracy: 0.5583\n",
      "Epoch 2/40\n",
      "56/56 [==============================] - 0s 3ms/step - loss: 1.3632 - accuracy: 0.5365 - val_loss: 1.1484 - val_accuracy: 0.6368\n",
      "Epoch 3/40\n",
      "56/56 [==============================] - 0s 3ms/step - loss: 1.0644 - accuracy: 0.6287 - val_loss: 0.8472 - val_accuracy: 0.7780\n",
      "Epoch 4/40\n",
      "56/56 [==============================] - 0s 3ms/step - loss: 0.8621 - accuracy: 0.6966 - val_loss: 0.6613 - val_accuracy: 0.7713\n",
      "Epoch 5/40\n",
      "56/56 [==============================] - 0s 3ms/step - loss: 0.7190 - accuracy: 0.7472 - val_loss: 0.5373 - val_accuracy: 0.8430\n",
      "Epoch 6/40\n",
      "56/56 [==============================] - 0s 3ms/step - loss: 0.5917 - accuracy: 0.7871 - val_loss: 0.4328 - val_accuracy: 0.8857\n",
      "Epoch 7/40\n",
      "56/56 [==============================] - 0s 3ms/step - loss: 0.5020 - accuracy: 0.8219 - val_loss: 0.3416 - val_accuracy: 0.9081\n",
      "Epoch 8/40\n",
      "56/56 [==============================] - 0s 3ms/step - loss: 0.4148 - accuracy: 0.8680 - val_loss: 0.3052 - val_accuracy: 0.9148\n",
      "Epoch 9/40\n",
      "56/56 [==============================] - 0s 3ms/step - loss: 0.3668 - accuracy: 0.8815 - val_loss: 0.2401 - val_accuracy: 0.9350\n",
      "Epoch 10/40\n",
      "56/56 [==============================] - 0s 3ms/step - loss: 0.3326 - accuracy: 0.8916 - val_loss: 0.2169 - val_accuracy: 0.9462\n",
      "Epoch 11/40\n",
      "56/56 [==============================] - 0s 3ms/step - loss: 0.2733 - accuracy: 0.9202 - val_loss: 0.1979 - val_accuracy: 0.9305\n",
      "Epoch 12/40\n",
      "56/56 [==============================] - 0s 3ms/step - loss: 0.2638 - accuracy: 0.9101 - val_loss: 0.1805 - val_accuracy: 0.9552\n",
      "Epoch 13/40\n",
      "56/56 [==============================] - 0s 3ms/step - loss: 0.2389 - accuracy: 0.9169 - val_loss: 0.1602 - val_accuracy: 0.9619\n",
      "Epoch 14/40\n",
      "56/56 [==============================] - 0s 3ms/step - loss: 0.2061 - accuracy: 0.9354 - val_loss: 0.1492 - val_accuracy: 0.9417\n",
      "Epoch 15/40\n",
      "56/56 [==============================] - 0s 3ms/step - loss: 0.1979 - accuracy: 0.9388 - val_loss: 0.1661 - val_accuracy: 0.9507\n",
      "Epoch 16/40\n",
      "56/56 [==============================] - 0s 3ms/step - loss: 0.1857 - accuracy: 0.9410 - val_loss: 0.1311 - val_accuracy: 0.9641\n",
      "Epoch 17/40\n",
      "56/56 [==============================] - 0s 3ms/step - loss: 0.1645 - accuracy: 0.9511 - val_loss: 0.1201 - val_accuracy: 0.9686\n",
      "Epoch 18/40\n",
      "56/56 [==============================] - 0s 3ms/step - loss: 0.1476 - accuracy: 0.9596 - val_loss: 0.1138 - val_accuracy: 0.9709\n",
      "Epoch 19/40\n",
      "56/56 [==============================] - 0s 3ms/step - loss: 0.1388 - accuracy: 0.9601 - val_loss: 0.1016 - val_accuracy: 0.9731\n",
      "Epoch 20/40\n",
      "56/56 [==============================] - 0s 3ms/step - loss: 0.1380 - accuracy: 0.9596 - val_loss: 0.0983 - val_accuracy: 0.9753\n",
      "Epoch 21/40\n",
      "56/56 [==============================] - 0s 3ms/step - loss: 0.1274 - accuracy: 0.9601 - val_loss: 0.0915 - val_accuracy: 0.9776\n",
      "Epoch 22/40\n",
      "56/56 [==============================] - 0s 3ms/step - loss: 0.1166 - accuracy: 0.9663 - val_loss: 0.0809 - val_accuracy: 0.9798\n",
      "Epoch 23/40\n",
      "56/56 [==============================] - 0s 3ms/step - loss: 0.1022 - accuracy: 0.9753 - val_loss: 0.0805 - val_accuracy: 0.9776\n",
      "Epoch 24/40\n",
      "56/56 [==============================] - 0s 3ms/step - loss: 0.0980 - accuracy: 0.9753 - val_loss: 0.0793 - val_accuracy: 0.9776\n",
      "Epoch 25/40\n",
      "56/56 [==============================] - 0s 3ms/step - loss: 0.0888 - accuracy: 0.9742 - val_loss: 0.0694 - val_accuracy: 0.9776\n",
      "Epoch 26/40\n",
      "56/56 [==============================] - 0s 3ms/step - loss: 0.0830 - accuracy: 0.9770 - val_loss: 0.0770 - val_accuracy: 0.9798\n",
      "Epoch 27/40\n",
      "56/56 [==============================] - 0s 3ms/step - loss: 0.0939 - accuracy: 0.9713 - val_loss: 0.0642 - val_accuracy: 0.9776\n",
      "Epoch 28/40\n",
      "56/56 [==============================] - 0s 3ms/step - loss: 0.0844 - accuracy: 0.9753 - val_loss: 0.0650 - val_accuracy: 0.9843\n",
      "Epoch 29/40\n",
      "56/56 [==============================] - 0s 3ms/step - loss: 0.0749 - accuracy: 0.9775 - val_loss: 0.0690 - val_accuracy: 0.9821\n",
      "Epoch 30/40\n",
      "56/56 [==============================] - 0s 3ms/step - loss: 0.0692 - accuracy: 0.9815 - val_loss: 0.0557 - val_accuracy: 0.9798\n",
      "Epoch 31/40\n",
      "56/56 [==============================] - 0s 3ms/step - loss: 0.0639 - accuracy: 0.9843 - val_loss: 0.0508 - val_accuracy: 0.9821\n",
      "Epoch 32/40\n",
      "56/56 [==============================] - 0s 3ms/step - loss: 0.0661 - accuracy: 0.9803 - val_loss: 0.0673 - val_accuracy: 0.9798\n",
      "Epoch 33/40\n",
      "56/56 [==============================] - 0s 3ms/step - loss: 0.0625 - accuracy: 0.9809 - val_loss: 0.0479 - val_accuracy: 0.9865\n",
      "Epoch 34/40\n",
      "56/56 [==============================] - 0s 3ms/step - loss: 0.0556 - accuracy: 0.9865 - val_loss: 0.0482 - val_accuracy: 0.9843\n",
      "Epoch 35/40\n",
      "56/56 [==============================] - 0s 3ms/step - loss: 0.0538 - accuracy: 0.9882 - val_loss: 0.0430 - val_accuracy: 0.9865\n",
      "Epoch 36/40\n",
      "56/56 [==============================] - 0s 3ms/step - loss: 0.0531 - accuracy: 0.9854 - val_loss: 0.0412 - val_accuracy: 0.9888\n",
      "Epoch 37/40\n",
      "56/56 [==============================] - 0s 3ms/step - loss: 0.0470 - accuracy: 0.9888 - val_loss: 0.0445 - val_accuracy: 0.9888\n",
      "Epoch 38/40\n",
      "56/56 [==============================] - 0s 3ms/step - loss: 0.0526 - accuracy: 0.9854 - val_loss: 0.0407 - val_accuracy: 0.9888\n",
      "Epoch 39/40\n",
      "56/56 [==============================] - 0s 3ms/step - loss: 0.0445 - accuracy: 0.9876 - val_loss: 0.0375 - val_accuracy: 0.9888\n",
      "Epoch 40/40\n",
      "56/56 [==============================] - 0s 3ms/step - loss: 0.0409 - accuracy: 0.9893 - val_loss: 0.0315 - val_accuracy: 0.9865\n"
     ]
    }
   ],
   "source": [
    "history = model.fit(X_train, Y_train, batch_size=32, epochs=40, validation_split=0.2)"
   ]
  },
  {
   "cell_type": "code",
   "execution_count": 34,
   "id": "3a4a3a4a-a84a-4a76-b0aa-3c9ad0b272ae",
   "metadata": {},
   "outputs": [
    {
     "name": "stdout",
     "output_type": "stream",
     "text": [
      "18/18 [==============================] - 0s 2ms/step - loss: 0.0276 - accuracy: 0.9946\n"
     ]
    },
    {
     "data": {
      "text/plain": [
       "[0.027618175372481346, 0.9946140050888062]"
      ]
     },
     "execution_count": 34,
     "metadata": {},
     "output_type": "execute_result"
    }
   ],
   "source": [
    "model.evaluate(X_test, Y_test)"
   ]
  }
 ],
 "metadata": {
  "environment": {
   "kernel": "python3",
   "name": "tf2-gpu.2-8.m103",
   "type": "gcloud",
   "uri": "gcr.io/deeplearning-platform-release/tf2-gpu.2-8:m103"
  },
  "kernelspec": {
   "display_name": "Python 3 (ipykernel)",
   "language": "python",
   "name": "python3"
  },
  "language_info": {
   "codemirror_mode": {
    "name": "ipython",
    "version": 3
   },
   "file_extension": ".py",
   "mimetype": "text/x-python",
   "name": "python",
   "nbconvert_exporter": "python",
   "pygments_lexer": "ipython3",
   "version": "3.7.12"
  }
 },
 "nbformat": 4,
 "nbformat_minor": 5
}
