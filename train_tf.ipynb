{
 "cells": [
  {
   "cell_type": "code",
   "execution_count": 1,
   "id": "a415d7af-c08c-4b5c-ac17-14d1c7038fe2",
   "metadata": {},
   "outputs": [],
   "source": [
    "import numpy as np\n",
    "import pandas as pd\n",
    "from sklearn import preprocessing\n",
    "from sklearn.model_selection import train_test_split\n",
    "from sklearn.metrics import classification_report\n",
    "import tensorflow as tf\n",
    "from tensorflow.math import confusion_matrix\n",
    "from matplotlib import pyplot as plt\n",
    "import seaborn as sns\n",
    "from pandarallel import pandarallel\n",
    "import os"
   ]
  },
  {
   "cell_type": "code",
   "execution_count": 2,
   "id": "8e9d1049-0ee7-4664-8ebb-9510f9eb17dc",
   "metadata": {},
   "outputs": [
    {
     "name": "stdout",
     "output_type": "stream",
     "text": [
      "INFO: Pandarallel will run on 4 workers.\n",
      "INFO: Pandarallel will use Memory file system to transfer data between the main process and workers.\n"
     ]
    }
   ],
   "source": [
    "pandarallel.initialize(progress_bar=True, nb_workers=4)"
   ]
  },
  {
   "cell_type": "code",
   "execution_count": 45,
   "id": "baf60cce-6345-48dc-ba4f-ffe2891631a1",
   "metadata": {},
   "outputs": [],
   "source": [
    "os.environ['TF_GPU_ALLOCATOR'] = 'cuda_malloc_async'"
   ]
  },
  {
   "cell_type": "markdown",
   "id": "f51f4a7e-d2f7-47f3-a372-a4aa421d552d",
   "metadata": {},
   "source": [
    "# <span style=\"color:purple\"> LEITURA DATASET </span>"
   ]
  },
  {
   "cell_type": "code",
   "execution_count": 3,
   "id": "3a90b78f-63f0-4f2b-955a-01c56a9eebc2",
   "metadata": {},
   "outputs": [
    {
     "data": {
      "text/html": [
       "<div>\n",
       "<style scoped>\n",
       "    .dataframe tbody tr th:only-of-type {\n",
       "        vertical-align: middle;\n",
       "    }\n",
       "\n",
       "    .dataframe tbody tr th {\n",
       "        vertical-align: top;\n",
       "    }\n",
       "\n",
       "    .dataframe thead th {\n",
       "        text-align: right;\n",
       "    }\n",
       "</style>\n",
       "<table border=\"1\" class=\"dataframe\">\n",
       "  <thead>\n",
       "    <tr style=\"text-align: right;\">\n",
       "      <th></th>\n",
       "      <th>0</th>\n",
       "      <th>1</th>\n",
       "      <th>2</th>\n",
       "      <th>3</th>\n",
       "      <th>4</th>\n",
       "      <th>5</th>\n",
       "      <th>6</th>\n",
       "      <th>7</th>\n",
       "      <th>8</th>\n",
       "      <th>9</th>\n",
       "      <th>...</th>\n",
       "      <th>55</th>\n",
       "      <th>56</th>\n",
       "      <th>57</th>\n",
       "      <th>58</th>\n",
       "      <th>59</th>\n",
       "      <th>60</th>\n",
       "      <th>61</th>\n",
       "      <th>62</th>\n",
       "      <th>classe</th>\n",
       "      <th>signer</th>\n",
       "    </tr>\n",
       "  </thead>\n",
       "  <tbody>\n",
       "    <tr>\n",
       "      <th>0</th>\n",
       "      <td>-0.017227</td>\n",
       "      <td>0.074167</td>\n",
       "      <td>0.028766</td>\n",
       "      <td>0.013955</td>\n",
       "      <td>0.058635</td>\n",
       "      <td>0.009331</td>\n",
       "      <td>0.039599</td>\n",
       "      <td>0.031790</td>\n",
       "      <td>0.008871</td>\n",
       "      <td>0.050059</td>\n",
       "      <td>...</td>\n",
       "      <td>-0.002371</td>\n",
       "      <td>-0.023715</td>\n",
       "      <td>-0.027515</td>\n",
       "      <td>0.010693</td>\n",
       "      <td>-0.039081</td>\n",
       "      <td>-0.027290</td>\n",
       "      <td>0.030310</td>\n",
       "      <td>-0.033299</td>\n",
       "      <td>a</td>\n",
       "      <td>1</td>\n",
       "    </tr>\n",
       "    <tr>\n",
       "      <th>1</th>\n",
       "      <td>-0.018473</td>\n",
       "      <td>0.077650</td>\n",
       "      <td>0.041800</td>\n",
       "      <td>0.014967</td>\n",
       "      <td>0.061603</td>\n",
       "      <td>0.021215</td>\n",
       "      <td>0.038178</td>\n",
       "      <td>0.035501</td>\n",
       "      <td>0.016030</td>\n",
       "      <td>0.050092</td>\n",
       "      <td>...</td>\n",
       "      <td>-0.003565</td>\n",
       "      <td>-0.024832</td>\n",
       "      <td>-0.028658</td>\n",
       "      <td>0.008516</td>\n",
       "      <td>-0.039817</td>\n",
       "      <td>-0.029420</td>\n",
       "      <td>0.025273</td>\n",
       "      <td>-0.032277</td>\n",
       "      <td>a</td>\n",
       "      <td>1</td>\n",
       "    </tr>\n",
       "    <tr>\n",
       "      <th>2</th>\n",
       "      <td>-0.017608</td>\n",
       "      <td>0.076486</td>\n",
       "      <td>0.024926</td>\n",
       "      <td>0.014930</td>\n",
       "      <td>0.061257</td>\n",
       "      <td>0.009007</td>\n",
       "      <td>0.040645</td>\n",
       "      <td>0.035219</td>\n",
       "      <td>0.006765</td>\n",
       "      <td>0.051121</td>\n",
       "      <td>...</td>\n",
       "      <td>-0.005195</td>\n",
       "      <td>-0.026848</td>\n",
       "      <td>-0.029004</td>\n",
       "      <td>0.009567</td>\n",
       "      <td>-0.043633</td>\n",
       "      <td>-0.029709</td>\n",
       "      <td>0.025901</td>\n",
       "      <td>-0.034032</td>\n",
       "      <td>a</td>\n",
       "      <td>1</td>\n",
       "    </tr>\n",
       "    <tr>\n",
       "      <th>3</th>\n",
       "      <td>-0.017949</td>\n",
       "      <td>0.074026</td>\n",
       "      <td>0.025973</td>\n",
       "      <td>0.014371</td>\n",
       "      <td>0.061371</td>\n",
       "      <td>0.008799</td>\n",
       "      <td>0.041199</td>\n",
       "      <td>0.034858</td>\n",
       "      <td>0.007288</td>\n",
       "      <td>0.053026</td>\n",
       "      <td>...</td>\n",
       "      <td>-0.006043</td>\n",
       "      <td>-0.025303</td>\n",
       "      <td>-0.028130</td>\n",
       "      <td>0.008016</td>\n",
       "      <td>-0.042826</td>\n",
       "      <td>-0.029535</td>\n",
       "      <td>0.025131</td>\n",
       "      <td>-0.035854</td>\n",
       "      <td>a</td>\n",
       "      <td>1</td>\n",
       "    </tr>\n",
       "    <tr>\n",
       "      <th>4</th>\n",
       "      <td>-0.019782</td>\n",
       "      <td>0.073851</td>\n",
       "      <td>0.022678</td>\n",
       "      <td>0.013184</td>\n",
       "      <td>0.060462</td>\n",
       "      <td>0.003672</td>\n",
       "      <td>0.040342</td>\n",
       "      <td>0.034172</td>\n",
       "      <td>0.004060</td>\n",
       "      <td>0.050691</td>\n",
       "      <td>...</td>\n",
       "      <td>-0.006673</td>\n",
       "      <td>-0.024682</td>\n",
       "      <td>-0.028794</td>\n",
       "      <td>0.006464</td>\n",
       "      <td>-0.041332</td>\n",
       "      <td>-0.029523</td>\n",
       "      <td>0.025261</td>\n",
       "      <td>-0.036269</td>\n",
       "      <td>a</td>\n",
       "      <td>1</td>\n",
       "    </tr>\n",
       "  </tbody>\n",
       "</table>\n",
       "<p>5 rows × 65 columns</p>\n",
       "</div>"
      ],
      "text/plain": [
       "          0         1         2         3         4         5         6  \\\n",
       "0 -0.017227  0.074167  0.028766  0.013955  0.058635  0.009331  0.039599   \n",
       "1 -0.018473  0.077650  0.041800  0.014967  0.061603  0.021215  0.038178   \n",
       "2 -0.017608  0.076486  0.024926  0.014930  0.061257  0.009007  0.040645   \n",
       "3 -0.017949  0.074026  0.025973  0.014371  0.061371  0.008799  0.041199   \n",
       "4 -0.019782  0.073851  0.022678  0.013184  0.060462  0.003672  0.040342   \n",
       "\n",
       "          7         8         9  ...        55        56        57        58  \\\n",
       "0  0.031790  0.008871  0.050059  ... -0.002371 -0.023715 -0.027515  0.010693   \n",
       "1  0.035501  0.016030  0.050092  ... -0.003565 -0.024832 -0.028658  0.008516   \n",
       "2  0.035219  0.006765  0.051121  ... -0.005195 -0.026848 -0.029004  0.009567   \n",
       "3  0.034858  0.007288  0.053026  ... -0.006043 -0.025303 -0.028130  0.008016   \n",
       "4  0.034172  0.004060  0.050691  ... -0.006673 -0.024682 -0.028794  0.006464   \n",
       "\n",
       "         59        60        61        62  classe  signer  \n",
       "0 -0.039081 -0.027290  0.030310 -0.033299       a       1  \n",
       "1 -0.039817 -0.029420  0.025273 -0.032277       a       1  \n",
       "2 -0.043633 -0.029709  0.025901 -0.034032       a       1  \n",
       "3 -0.042826 -0.029535  0.025131 -0.035854       a       1  \n",
       "4 -0.041332 -0.029523  0.025261 -0.036269       a       1  \n",
       "\n",
       "[5 rows x 65 columns]"
      ]
     },
     "execution_count": 3,
     "metadata": {},
     "output_type": "execute_result"
    }
   ],
   "source": [
    "columns = [i for i in range(0, 63)]\n",
    "columns.extend([\"classe\", \"signer\"])\n",
    "dataset = pd.read_csv('dataset_v2.csv')\n",
    "dataset.columns = columns\n",
    "dataset.head()"
   ]
  },
  {
   "cell_type": "code",
   "execution_count": 3,
   "id": "c29017cf-5cf0-4fee-8064-4d4915435994",
   "metadata": {},
   "outputs": [
    {
     "data": {
      "text/plain": [
       "12580"
      ]
     },
     "execution_count": 3,
     "metadata": {},
     "output_type": "execute_result"
    }
   ],
   "source": [
    "len(dataset.index)"
   ]
  },
  {
   "cell_type": "markdown",
   "id": "29179a5d-ddc4-4869-b92f-c467eaeb8186",
   "metadata": {},
   "source": [
    "# <span style=\"color:purple\"> FEATURE ENGINEERING </span>"
   ]
  },
  {
   "cell_type": "code",
   "execution_count": 53,
   "id": "f03fb93f-af1a-4ad2-9d26-adb8c66bd7eb",
   "metadata": {},
   "outputs": [],
   "source": [
    "def dist(row):\n",
    "    d = []\n",
    "    for i in range(21):\n",
    "        for j in range(i+1, 21):\n",
    "            a = i*3\n",
    "            b = j*3\n",
    "            x1, y1, z1 = row[a:a+3]\n",
    "            x2, y2, z2 = row[b:b+3]\n",
    "            d.append(np.linalg.norm([x1-x2, y1-y2, z1-z2]))\n",
    "    return d"
   ]
  },
  {
   "cell_type": "code",
   "execution_count": 23,
   "id": "fa1f0d94-1d8d-47b9-a97e-0ba3a6974e50",
   "metadata": {},
   "outputs": [
    {
     "data": {
      "application/vnd.jupyter.widget-view+json": {
       "model_id": "7298efeff38f465e9e2f2ebd8da20788",
       "version_major": 2,
       "version_minor": 0
      },
      "text/plain": [
       "VBox(children=(HBox(children=(IntProgress(value=0, description='0.00%', max=3936), Label(value='0 / 3936'))), …"
      ]
     },
     "metadata": {},
     "output_type": "display_data"
    }
   ],
   "source": [
    "new_feats = dataset.parallel_apply(dist, axis=1)"
   ]
  },
  {
   "cell_type": "code",
   "execution_count": 24,
   "id": "2e46a5f5-f6fe-4a40-9d34-0433004c05d8",
   "metadata": {},
   "outputs": [
    {
     "data": {
      "text/plain": [
       "(15744, 210)"
      ]
     },
     "execution_count": 24,
     "metadata": {},
     "output_type": "execute_result"
    }
   ],
   "source": [
    "new_feats = np.array([np.array(x) for x in new_feats])\n",
    "new_feats.shape"
   ]
  },
  {
   "cell_type": "code",
   "execution_count": 25,
   "id": "d8c7d0c0-d6bc-4c54-882a-0e42a3923d45",
   "metadata": {},
   "outputs": [
    {
     "data": {
      "text/html": [
       "<div>\n",
       "<style scoped>\n",
       "    .dataframe tbody tr th:only-of-type {\n",
       "        vertical-align: middle;\n",
       "    }\n",
       "\n",
       "    .dataframe tbody tr th {\n",
       "        vertical-align: top;\n",
       "    }\n",
       "\n",
       "    .dataframe thead th {\n",
       "        text-align: right;\n",
       "    }\n",
       "</style>\n",
       "<table border=\"1\" class=\"dataframe\">\n",
       "  <thead>\n",
       "    <tr style=\"text-align: right;\">\n",
       "      <th></th>\n",
       "      <th>63</th>\n",
       "      <th>64</th>\n",
       "      <th>65</th>\n",
       "      <th>66</th>\n",
       "      <th>67</th>\n",
       "      <th>68</th>\n",
       "      <th>69</th>\n",
       "      <th>70</th>\n",
       "      <th>71</th>\n",
       "      <th>72</th>\n",
       "      <th>...</th>\n",
       "      <th>263</th>\n",
       "      <th>264</th>\n",
       "      <th>265</th>\n",
       "      <th>266</th>\n",
       "      <th>267</th>\n",
       "      <th>268</th>\n",
       "      <th>269</th>\n",
       "      <th>270</th>\n",
       "      <th>271</th>\n",
       "      <th>272</th>\n",
       "    </tr>\n",
       "  </thead>\n",
       "  <tbody>\n",
       "    <tr>\n",
       "      <th>0</th>\n",
       "      <td>0.036049</td>\n",
       "      <td>0.068586</td>\n",
       "      <td>0.100804</td>\n",
       "      <td>0.125762</td>\n",
       "      <td>0.094236</td>\n",
       "      <td>0.108180</td>\n",
       "      <td>0.092875</td>\n",
       "      <td>0.068497</td>\n",
       "      <td>0.092215</td>\n",
       "      <td>0.107381</td>\n",
       "      <td>...</td>\n",
       "      <td>0.036790</td>\n",
       "      <td>0.045677</td>\n",
       "      <td>0.030445</td>\n",
       "      <td>0.016911</td>\n",
       "      <td>0.028101</td>\n",
       "      <td>0.036699</td>\n",
       "      <td>0.032199</td>\n",
       "      <td>0.025837</td>\n",
       "      <td>0.040866</td>\n",
       "      <td>0.024223</td>\n",
       "    </tr>\n",
       "    <tr>\n",
       "      <th>1</th>\n",
       "      <td>0.040339</td>\n",
       "      <td>0.072021</td>\n",
       "      <td>0.105423</td>\n",
       "      <td>0.128574</td>\n",
       "      <td>0.103677</td>\n",
       "      <td>0.117833</td>\n",
       "      <td>0.101243</td>\n",
       "      <td>0.076790</td>\n",
       "      <td>0.100292</td>\n",
       "      <td>0.115127</td>\n",
       "      <td>...</td>\n",
       "      <td>0.039913</td>\n",
       "      <td>0.048455</td>\n",
       "      <td>0.032417</td>\n",
       "      <td>0.018672</td>\n",
       "      <td>0.028711</td>\n",
       "      <td>0.038070</td>\n",
       "      <td>0.034149</td>\n",
       "      <td>0.026512</td>\n",
       "      <td>0.040730</td>\n",
       "      <td>0.022781</td>\n",
       "    </tr>\n",
       "    <tr>\n",
       "      <th>2</th>\n",
       "      <td>0.041364</td>\n",
       "      <td>0.072569</td>\n",
       "      <td>0.106332</td>\n",
       "      <td>0.131009</td>\n",
       "      <td>0.105710</td>\n",
       "      <td>0.117446</td>\n",
       "      <td>0.100200</td>\n",
       "      <td>0.075727</td>\n",
       "      <td>0.102700</td>\n",
       "      <td>0.113537</td>\n",
       "      <td>...</td>\n",
       "      <td>0.039762</td>\n",
       "      <td>0.049583</td>\n",
       "      <td>0.035024</td>\n",
       "      <td>0.021047</td>\n",
       "      <td>0.029188</td>\n",
       "      <td>0.038581</td>\n",
       "      <td>0.033654</td>\n",
       "      <td>0.026166</td>\n",
       "      <td>0.039092</td>\n",
       "      <td>0.021624</td>\n",
       "    </tr>\n",
       "    <tr>\n",
       "      <th>3</th>\n",
       "      <td>0.042300</td>\n",
       "      <td>0.073763</td>\n",
       "      <td>0.107208</td>\n",
       "      <td>0.131787</td>\n",
       "      <td>0.107135</td>\n",
       "      <td>0.119134</td>\n",
       "      <td>0.102785</td>\n",
       "      <td>0.078731</td>\n",
       "      <td>0.104123</td>\n",
       "      <td>0.115749</td>\n",
       "      <td>...</td>\n",
       "      <td>0.040736</td>\n",
       "      <td>0.051343</td>\n",
       "      <td>0.036532</td>\n",
       "      <td>0.021248</td>\n",
       "      <td>0.029489</td>\n",
       "      <td>0.038360</td>\n",
       "      <td>0.033086</td>\n",
       "      <td>0.025766</td>\n",
       "      <td>0.038390</td>\n",
       "      <td>0.021093</td>\n",
       "    </tr>\n",
       "    <tr>\n",
       "      <th>4</th>\n",
       "      <td>0.040867</td>\n",
       "      <td>0.072864</td>\n",
       "      <td>0.105149</td>\n",
       "      <td>0.129026</td>\n",
       "      <td>0.105465</td>\n",
       "      <td>0.115816</td>\n",
       "      <td>0.099173</td>\n",
       "      <td>0.075582</td>\n",
       "      <td>0.102714</td>\n",
       "      <td>0.113762</td>\n",
       "      <td>...</td>\n",
       "      <td>0.039826</td>\n",
       "      <td>0.050607</td>\n",
       "      <td>0.036317</td>\n",
       "      <td>0.020601</td>\n",
       "      <td>0.028745</td>\n",
       "      <td>0.038198</td>\n",
       "      <td>0.032071</td>\n",
       "      <td>0.025811</td>\n",
       "      <td>0.038128</td>\n",
       "      <td>0.021921</td>\n",
       "    </tr>\n",
       "  </tbody>\n",
       "</table>\n",
       "<p>5 rows × 210 columns</p>\n",
       "</div>"
      ],
      "text/plain": [
       "        63        64        65        66        67        68        69   \\\n",
       "0  0.036049  0.068586  0.100804  0.125762  0.094236  0.108180  0.092875   \n",
       "1  0.040339  0.072021  0.105423  0.128574  0.103677  0.117833  0.101243   \n",
       "2  0.041364  0.072569  0.106332  0.131009  0.105710  0.117446  0.100200   \n",
       "3  0.042300  0.073763  0.107208  0.131787  0.107135  0.119134  0.102785   \n",
       "4  0.040867  0.072864  0.105149  0.129026  0.105465  0.115816  0.099173   \n",
       "\n",
       "        70        71        72   ...       263       264       265       266  \\\n",
       "0  0.068497  0.092215  0.107381  ...  0.036790  0.045677  0.030445  0.016911   \n",
       "1  0.076790  0.100292  0.115127  ...  0.039913  0.048455  0.032417  0.018672   \n",
       "2  0.075727  0.102700  0.113537  ...  0.039762  0.049583  0.035024  0.021047   \n",
       "3  0.078731  0.104123  0.115749  ...  0.040736  0.051343  0.036532  0.021248   \n",
       "4  0.075582  0.102714  0.113762  ...  0.039826  0.050607  0.036317  0.020601   \n",
       "\n",
       "        267       268       269       270       271       272  \n",
       "0  0.028101  0.036699  0.032199  0.025837  0.040866  0.024223  \n",
       "1  0.028711  0.038070  0.034149  0.026512  0.040730  0.022781  \n",
       "2  0.029188  0.038581  0.033654  0.026166  0.039092  0.021624  \n",
       "3  0.029489  0.038360  0.033086  0.025766  0.038390  0.021093  \n",
       "4  0.028745  0.038198  0.032071  0.025811  0.038128  0.021921  \n",
       "\n",
       "[5 rows x 210 columns]"
      ]
     },
     "execution_count": 25,
     "metadata": {},
     "output_type": "execute_result"
    }
   ],
   "source": [
    "new_feats = pd.DataFrame(new_feats, columns = [i for i in range(63, 273)])\n",
    "new_feats.head()"
   ]
  },
  {
   "cell_type": "code",
   "execution_count": 82,
   "id": "e53c2199-705c-4fbc-ab08-fc2d22b51b48",
   "metadata": {},
   "outputs": [
    {
     "data": {
      "text/html": [
       "<div>\n",
       "<style scoped>\n",
       "    .dataframe tbody tr th:only-of-type {\n",
       "        vertical-align: middle;\n",
       "    }\n",
       "\n",
       "    .dataframe tbody tr th {\n",
       "        vertical-align: top;\n",
       "    }\n",
       "\n",
       "    .dataframe thead th {\n",
       "        text-align: right;\n",
       "    }\n",
       "</style>\n",
       "<table border=\"1\" class=\"dataframe\">\n",
       "  <thead>\n",
       "    <tr style=\"text-align: right;\">\n",
       "      <th></th>\n",
       "      <th>0</th>\n",
       "      <th>1</th>\n",
       "      <th>2</th>\n",
       "      <th>3</th>\n",
       "      <th>4</th>\n",
       "      <th>5</th>\n",
       "      <th>6</th>\n",
       "      <th>7</th>\n",
       "      <th>8</th>\n",
       "      <th>9</th>\n",
       "      <th>...</th>\n",
       "      <th>263</th>\n",
       "      <th>264</th>\n",
       "      <th>265</th>\n",
       "      <th>266</th>\n",
       "      <th>267</th>\n",
       "      <th>268</th>\n",
       "      <th>269</th>\n",
       "      <th>270</th>\n",
       "      <th>271</th>\n",
       "      <th>272</th>\n",
       "    </tr>\n",
       "  </thead>\n",
       "  <tbody>\n",
       "    <tr>\n",
       "      <th>0</th>\n",
       "      <td>-0.015155</td>\n",
       "      <td>0.083723</td>\n",
       "      <td>-0.019764</td>\n",
       "      <td>0.016621</td>\n",
       "      <td>0.067022</td>\n",
       "      <td>-0.016464</td>\n",
       "      <td>0.037898</td>\n",
       "      <td>0.040288</td>\n",
       "      <td>-0.018105</td>\n",
       "      <td>0.048381</td>\n",
       "      <td>...</td>\n",
       "      <td>0.036790</td>\n",
       "      <td>0.045677</td>\n",
       "      <td>0.030445</td>\n",
       "      <td>0.016911</td>\n",
       "      <td>0.028101</td>\n",
       "      <td>0.036699</td>\n",
       "      <td>0.032199</td>\n",
       "      <td>0.025837</td>\n",
       "      <td>0.040866</td>\n",
       "      <td>0.024223</td>\n",
       "    </tr>\n",
       "    <tr>\n",
       "      <th>1</th>\n",
       "      <td>-0.017470</td>\n",
       "      <td>0.089129</td>\n",
       "      <td>-0.024697</td>\n",
       "      <td>0.017672</td>\n",
       "      <td>0.070180</td>\n",
       "      <td>-0.018930</td>\n",
       "      <td>0.037136</td>\n",
       "      <td>0.042391</td>\n",
       "      <td>-0.020137</td>\n",
       "      <td>0.047958</td>\n",
       "      <td>...</td>\n",
       "      <td>0.039913</td>\n",
       "      <td>0.048455</td>\n",
       "      <td>0.032417</td>\n",
       "      <td>0.018672</td>\n",
       "      <td>0.028711</td>\n",
       "      <td>0.038070</td>\n",
       "      <td>0.034149</td>\n",
       "      <td>0.026512</td>\n",
       "      <td>0.040730</td>\n",
       "      <td>0.022781</td>\n",
       "    </tr>\n",
       "    <tr>\n",
       "      <th>2</th>\n",
       "      <td>-0.018608</td>\n",
       "      <td>0.088464</td>\n",
       "      <td>-0.034686</td>\n",
       "      <td>0.017341</td>\n",
       "      <td>0.069314</td>\n",
       "      <td>-0.027479</td>\n",
       "      <td>0.036115</td>\n",
       "      <td>0.041589</td>\n",
       "      <td>-0.026058</td>\n",
       "      <td>0.046782</td>\n",
       "      <td>...</td>\n",
       "      <td>0.039762</td>\n",
       "      <td>0.049583</td>\n",
       "      <td>0.035024</td>\n",
       "      <td>0.021047</td>\n",
       "      <td>0.029188</td>\n",
       "      <td>0.038581</td>\n",
       "      <td>0.033654</td>\n",
       "      <td>0.026166</td>\n",
       "      <td>0.039092</td>\n",
       "      <td>0.021624</td>\n",
       "    </tr>\n",
       "    <tr>\n",
       "      <th>3</th>\n",
       "      <td>-0.018881</td>\n",
       "      <td>0.089806</td>\n",
       "      <td>-0.033932</td>\n",
       "      <td>0.017604</td>\n",
       "      <td>0.069527</td>\n",
       "      <td>-0.027086</td>\n",
       "      <td>0.036691</td>\n",
       "      <td>0.042036</td>\n",
       "      <td>-0.025525</td>\n",
       "      <td>0.047545</td>\n",
       "      <td>...</td>\n",
       "      <td>0.040736</td>\n",
       "      <td>0.051343</td>\n",
       "      <td>0.036532</td>\n",
       "      <td>0.021248</td>\n",
       "      <td>0.029489</td>\n",
       "      <td>0.038360</td>\n",
       "      <td>0.033086</td>\n",
       "      <td>0.025766</td>\n",
       "      <td>0.038390</td>\n",
       "      <td>0.021093</td>\n",
       "    </tr>\n",
       "    <tr>\n",
       "      <th>4</th>\n",
       "      <td>-0.018110</td>\n",
       "      <td>0.088998</td>\n",
       "      <td>-0.032207</td>\n",
       "      <td>0.016747</td>\n",
       "      <td>0.068922</td>\n",
       "      <td>-0.024993</td>\n",
       "      <td>0.036877</td>\n",
       "      <td>0.042021</td>\n",
       "      <td>-0.023326</td>\n",
       "      <td>0.047667</td>\n",
       "      <td>...</td>\n",
       "      <td>0.039826</td>\n",
       "      <td>0.050607</td>\n",
       "      <td>0.036317</td>\n",
       "      <td>0.020601</td>\n",
       "      <td>0.028745</td>\n",
       "      <td>0.038198</td>\n",
       "      <td>0.032071</td>\n",
       "      <td>0.025811</td>\n",
       "      <td>0.038128</td>\n",
       "      <td>0.021921</td>\n",
       "    </tr>\n",
       "  </tbody>\n",
       "</table>\n",
       "<p>5 rows × 275 columns</p>\n",
       "</div>"
      ],
      "text/plain": [
       "        0         1         2         3         4         5         6    \\\n",
       "0 -0.015155  0.083723 -0.019764  0.016621  0.067022 -0.016464  0.037898   \n",
       "1 -0.017470  0.089129 -0.024697  0.017672  0.070180 -0.018930  0.037136   \n",
       "2 -0.018608  0.088464 -0.034686  0.017341  0.069314 -0.027479  0.036115   \n",
       "3 -0.018881  0.089806 -0.033932  0.017604  0.069527 -0.027086  0.036691   \n",
       "4 -0.018110  0.088998 -0.032207  0.016747  0.068922 -0.024993  0.036877   \n",
       "\n",
       "        7         8         9    ...       263       264       265       266  \\\n",
       "0  0.040288 -0.018105  0.048381  ...  0.036790  0.045677  0.030445  0.016911   \n",
       "1  0.042391 -0.020137  0.047958  ...  0.039913  0.048455  0.032417  0.018672   \n",
       "2  0.041589 -0.026058  0.046782  ...  0.039762  0.049583  0.035024  0.021047   \n",
       "3  0.042036 -0.025525  0.047545  ...  0.040736  0.051343  0.036532  0.021248   \n",
       "4  0.042021 -0.023326  0.047667  ...  0.039826  0.050607  0.036317  0.020601   \n",
       "\n",
       "        267       268       269       270       271       272  \n",
       "0  0.028101  0.036699  0.032199  0.025837  0.040866  0.024223  \n",
       "1  0.028711  0.038070  0.034149  0.026512  0.040730  0.022781  \n",
       "2  0.029188  0.038581  0.033654  0.026166  0.039092  0.021624  \n",
       "3  0.029489  0.038360  0.033086  0.025766  0.038390  0.021093  \n",
       "4  0.028745  0.038198  0.032071  0.025811  0.038128  0.021921  \n",
       "\n",
       "[5 rows x 275 columns]"
      ]
     },
     "execution_count": 82,
     "metadata": {},
     "output_type": "execute_result"
    }
   ],
   "source": [
    "dataset = pd.concat([dataset, new_feats], axis=1)\n",
    "dataset.head()"
   ]
  },
  {
   "cell_type": "code",
   "execution_count": 4,
   "id": "23a4b8f8-07fb-4c8f-b457-c873ba996ac0",
   "metadata": {},
   "outputs": [],
   "source": [
    "signers_train = [3, 4, 5, 6, 7, 8]\n",
    "signers_test = [1, 2]"
   ]
  },
  {
   "cell_type": "code",
   "execution_count": 44,
   "id": "8fe29be7-de8e-4f6e-94c2-93284d735a6c",
   "metadata": {},
   "outputs": [],
   "source": [
    "classes = ['a', 'b', 'c', 'd', 'e', 'f', 'g', 'i', 'l', 'm', 'n', 'o', 'p',\n",
    "        'q', 'r', 's', 't', 'u', 'v', 'w', 'y']\n",
    "classes_bin = ['f', 't']"
   ]
  },
  {
   "cell_type": "code",
   "execution_count": 45,
   "id": "04dcb644-4426-47e2-81a4-de2da4e64b56",
   "metadata": {
    "tags": []
   },
   "outputs": [
    {
     "data": {
      "text/plain": [
       "LabelEncoder()"
      ]
     },
     "execution_count": 45,
     "metadata": {},
     "output_type": "execute_result"
    }
   ],
   "source": [
    "le = preprocessing.LabelEncoder()\n",
    "le.fit(classes_bin)"
   ]
  },
  {
   "cell_type": "code",
   "execution_count": 78,
   "id": "ede40552-4f37-4fa2-977a-e7ae13dd09cf",
   "metadata": {},
   "outputs": [],
   "source": [
    "dataset_train = dataset.loc[dataset['signer'].isin(signers_train)]\n",
    "dataset_train = dataset_train.loc[dataset_train['classe'].isin(classes_bin)]"
   ]
  },
  {
   "cell_type": "code",
   "execution_count": 79,
   "id": "6bf902f4-3327-4de1-823c-9f2aef150fc4",
   "metadata": {},
   "outputs": [],
   "source": [
    "feats = [i for i in range(0, 63)]\n",
    "\n",
    "X_train = np.array(dataset_train[feats])\n",
    "Y_train = np.array(le.transform(dataset_train['classe']))\n",
    "Y_train = tf.keras.utils.to_categorical(Y_train, len(classes_bin))\n",
    "\n",
    "X_train = preprocessing.normalize(X_train)"
   ]
  },
  {
   "cell_type": "code",
   "execution_count": 64,
   "id": "b735f234-4972-4a52-98cc-20aedd800307",
   "metadata": {},
   "outputs": [],
   "source": [
    "X_train, X_val, Y_train, Y_val = train_test_split(X_train, Y_train, test_size=0.2, random_state=42)"
   ]
  },
  {
   "cell_type": "code",
   "execution_count": 80,
   "id": "bbe97192",
   "metadata": {},
   "outputs": [],
   "source": [
    "dataset_test = dataset.loc[dataset['signer'].isin(signers_test)]\n",
    "dataset_test = dataset_test.loc[dataset_test['classe'].isin(classes_bin)]"
   ]
  },
  {
   "cell_type": "code",
   "execution_count": 81,
   "id": "2a52bc6d",
   "metadata": {},
   "outputs": [],
   "source": [
    "X_test = np.array(dataset_test[feats])\n",
    "Y_test = np.array(le.transform(dataset_test['classe']))\n",
    "Y_test = tf.keras.utils.to_categorical(Y_test, len(classes_bin))\n",
    "\n",
    "X_test = preprocessing.normalize(X_test)"
   ]
  },
  {
   "cell_type": "markdown",
   "id": "2421f437",
   "metadata": {},
   "source": [
    "# <span style=\"color:purple\"> ANÁLISE DO DATASET</span>"
   ]
  },
  {
   "cell_type": "code",
   "execution_count": 53,
   "id": "3b2a7522-044b-4caf-9210-0d0ea56315df",
   "metadata": {},
   "outputs": [
    {
     "data": {
      "image/png": "[encoded data removed]",
      "text/plain": [
       "<Figure size 640x480 with 1 Axes>"
      ]
     },
     "metadata": {},
     "output_type": "display_data"
    }
   ],
   "source": [
    "signer_data = dataset['signer'].value_counts()\n",
    "plt.title('Distribuição Sinalizadores')\n",
    "_ = plt.pie(signer_data, labels=signer_data.index, autopct='%.0f%%')"
   ]
  },
  {
   "cell_type": "code",
   "execution_count": 54,
   "id": "5eff160c",
   "metadata": {},
   "outputs": [
    {
     "name": "stdout",
     "output_type": "stream",
     "text": [
      "f    764\n",
      "t    628\n",
      "Name: classe, dtype: int64\n"
     ]
    },
    {
     "data": {
      "image/png": "[encoded data removed]",
      "text/plain": [
       "<Figure size 640x480 with 1 Axes>"
      ]
     },
     "metadata": {},
     "output_type": "display_data"
    }
   ],
   "source": [
    "data = dataset_train['classe'].value_counts()\n",
    "print(data)\n",
    "plt.title('Distribuição Treino')\n",
    "_ = plt.pie(data, labels=data.index, autopct='%.0f%%')"
   ]
  },
  {
   "cell_type": "code",
   "execution_count": 55,
   "id": "bddf044b",
   "metadata": {},
   "outputs": [
    {
     "data": {
      "image/png": "[encoded data removed]",
      "text/plain": [
       "<Figure size 640x480 with 1 Axes>"
      ]
     },
     "metadata": {},
     "output_type": "display_data"
    }
   ],
   "source": [
    "data = dataset_test['classe'].value_counts()\n",
    "plt.title('Distribuição Teste')\n",
    "_ = plt.pie(data, labels=data.index, autopct='%.0f%%')"
   ]
  },
  {
   "cell_type": "markdown",
   "id": "5966ecbb-b6c5-4dc6-9ec3-04bb396a67cb",
   "metadata": {
    "tags": []
   },
   "source": [
    "# <span style=\"color:purple\"> MODELO </span>"
   ]
  },
  {
   "cell_type": "code",
   "execution_count": 82,
   "id": "5ba105fb-45a4-4303-8b36-c4919f12d0cc",
   "metadata": {
    "tags": []
   },
   "outputs": [],
   "source": [
    "model = tf.keras.Sequential(\n",
    "    [\n",
    "        tf.keras.layers.Dense(256, activation='relu', input_shape=(63, 1)),\n",
    "        tf.keras.layers.Dense(128, activation='relu'),\n",
    "        tf.keras.layers.Dropout(0.5),\n",
    "        tf.keras.layers.Flatten(),\n",
    "        tf.keras.layers.Dense(2, activation='softmax'),\n",
    "        \n",
    "    ]\n",
    ")\n",
    "\n",
    "model.compile(loss='mean_squared_error', optimizer=\"adam\", metrics=['accuracy'])"
   ]
  },
  {
   "cell_type": "code",
   "execution_count": 74,
   "id": "2e02bf9c-9817-451b-9fbe-4dbb32776ea8",
   "metadata": {},
   "outputs": [
    {
     "name": "stdout",
     "output_type": "stream",
     "text": [
      "Model: \"sequential_15\"\n",
      "_________________________________________________________________\n",
      " Layer (type)                Output Shape              Param #   \n",
      "=================================================================\n",
      " dense_33 (Dense)            (None, 63, 256)           512       \n",
      "                                                                 \n",
      " dense_34 (Dense)            (None, 63, 128)           32896     \n",
      "                                                                 \n",
      " dropout_14 (Dropout)        (None, 63, 128)           0         \n",
      "                                                                 \n",
      " flatten_14 (Flatten)        (None, 8064)              0         \n",
      "                                                                 \n",
      " dense_35 (Dense)            (None, 2)                 16130     \n",
      "                                                                 \n",
      "=================================================================\n",
      "Total params: 49,538\n",
      "Trainable params: 49,538\n",
      "Non-trainable params: 0\n",
      "_________________________________________________________________\n"
     ]
    }
   ],
   "source": [
    "model.summary()"
   ]
  },
  {
   "cell_type": "code",
   "execution_count": null,
   "id": "a6ff7ea3-5e9c-4fae-b363-b30efb79ad01",
   "metadata": {
    "tags": []
   },
   "outputs": [
    {
     "name": "stdout",
     "output_type": "stream",
     "text": [
      "Epoch 1/100\n",
      "22/22 [==============================] - 1s 4ms/step - loss: 0.2334 - accuracy: 0.5783\n",
      "Epoch 2/100\n",
      "22/22 [==============================] - 0s 4ms/step - loss: 0.1703 - accuracy: 0.8118\n",
      "Epoch 3/100\n",
      "22/22 [==============================] - 0s 4ms/step - loss: 0.1230 - accuracy: 0.8520\n",
      "Epoch 4/100\n",
      "22/22 [==============================] - 0s 4ms/step - loss: 0.1008 - accuracy: 0.8793\n",
      "Epoch 5/100\n",
      "22/22 [==============================] - 0s 4ms/step - loss: 0.0815 - accuracy: 0.9037\n",
      "Epoch 6/100\n",
      "22/22 [==============================] - 0s 4ms/step - loss: 0.0691 - accuracy: 0.9239\n",
      "Epoch 7/100\n",
      "22/22 [==============================] - 0s 4ms/step - loss: 0.0613 - accuracy: 0.9318\n",
      "Epoch 8/100\n",
      "22/22 [==============================] - 0s 4ms/step - loss: 0.0624 - accuracy: 0.9231\n",
      "Epoch 9/100\n",
      "22/22 [==============================] - 0s 4ms/step - loss: 0.0492 - accuracy: 0.9533\n",
      "Epoch 10/100\n",
      "15/22 [===================>..........] - ETA: 0s - loss: 0.0391 - accuracy: 0.9594"
     ]
    }
   ],
   "source": [
    "history = model.fit(X_train, Y_train, batch_size=64, epochs=100)"
   ]
  },
  {
   "cell_type": "code",
   "execution_count": 76,
   "id": "3a4a3a4a-a84a-4a76-b0aa-3c9ad0b272ae",
   "metadata": {},
   "outputs": [
    {
     "name": "stdout",
     "output_type": "stream",
     "text": [
      "4/4 [==============================] - 0s 3ms/step - loss: 0.3633 - accuracy: 0.6364\n"
     ]
    },
    {
     "data": {
      "text/plain": [
       "[0.3633010983467102, 0.6363636255264282]"
      ]
     },
     "execution_count": 76,
     "metadata": {},
     "output_type": "execute_result"
    }
   ],
   "source": [
    "model.evaluate(X_test, Y_test)"
   ]
  },
  {
   "cell_type": "code",
   "execution_count": 77,
   "id": "7b94fda8-76f0-46b3-bb06-8d19cc5b14e1",
   "metadata": {},
   "outputs": [
    {
     "data": {
      "text/plain": [
       "<AxesSubplot:>"
      ]
     },
     "execution_count": 77,
     "metadata": {},
     "output_type": "execute_result"
    },
    {
     "data": {
      "image/png": "[encoded data removed]",
      "text/plain": [
       "<Figure size 640x480 with 2 Axes>"
      ]
     },
     "metadata": {},
     "output_type": "display_data"
    }
   ],
   "source": [
    "pred = model.predict(X_test)\n",
    "labels = [np.argmax(y) for y in Y_test] \n",
    "predictions = [np.argmax(x) for x in pred]\n",
    "cm = confusion_matrix(labels, predictions)\n",
    "\n",
    "df_cm = pd.DataFrame(np.array(cm), index = classes_bin, columns = classes_bin)\n",
    "sns.heatmap(df_cm, annot=True, fmt=\".0f\")"
   ]
  },
  {
   "cell_type": "markdown",
   "id": "4e98a04c-6827-4529-b80e-7637228203e2",
   "metadata": {
    "tags": []
   },
   "source": [
    "# <span style=\"color:purple\"> ANÁLISE DO TREINO </span>"
   ]
  },
  {
   "cell_type": "code",
   "execution_count": 219,
   "id": "3d8b8a66-9a32-4f89-9454-0d832b53b737",
   "metadata": {},
   "outputs": [
    {
     "data": {
      "text/plain": [
       "[<matplotlib.lines.Line2D at 0x7fe74df31a50>]"
      ]
     },
     "execution_count": 219,
     "metadata": {},
     "output_type": "execute_result"
    },
    {
     "data": {
      "image/png": "[encoded data removed]",
      "text/plain": [
       "<Figure size 640x480 with 1 Axes>"
      ]
     },
     "metadata": {},
     "output_type": "display_data"
    }
   ],
   "source": [
    "acc = history.history['accuracy']\n",
    "val_acc = history.history['val_accuracy']\n",
    "\n",
    "plt.plot(acc)\n",
    "plt.plot(val_acc)"
   ]
  },
  {
   "cell_type": "code",
   "execution_count": 220,
   "id": "47543025-3760-4e83-994b-301e08580f3d",
   "metadata": {},
   "outputs": [
    {
     "data": {
      "text/plain": [
       "[<matplotlib.lines.Line2D at 0x7fe74de36750>]"
      ]
     },
     "execution_count": 220,
     "metadata": {},
     "output_type": "execute_result"
    },
    {
     "data": {
      "image/png": "[encoded data removed]",
      "text/plain": [
       "<Figure size 640x480 with 1 Axes>"
      ]
     },
     "metadata": {},
     "output_type": "display_data"
    }
   ],
   "source": [
    "loss = history.history['loss']\n",
    "val_loss = history.history['loss']\n",
    "\n",
    "plt.plot(loss)\n",
    "plt.plot(val_loss)"
   ]
  },
  {
   "cell_type": "code",
   "execution_count": null,
   "id": "395d3531-8dae-4c0b-93dc-7053424e9a28",
   "metadata": {},
   "outputs": [],
   "source": [
    "def objective(trial):\n",
    "    classifier = create_classifier(trial)\n",
    "\n",
    "    optuna_pruning_hook = optuna.integration.TensorFlowPruningHook(\n",
    "        trial=trial,\n",
    "        estimator=classifier,\n",
    "        metric=\"accuracy\",\n",
    "        run_every_steps=PRUNING_INTERVAL_STEPS,\n",
    "    )\n",
    "\n",
    "    train_spec = tf.estimator.TrainSpec(\n",
    "        input_fn=train_input_fn, max_steps=TRAIN_STEPS, hooks=[optuna_pruning_hook]\n",
    "    )\n",
    "\n",
    "    eval_spec = tf.estimator.EvalSpec(input_fn=eval_input_fn, start_delay_secs=0, throttle_secs=0)\n",
    "\n",
    "    eval_results, _ = tf.estimator.train_and_evaluate(classifier, train_spec, eval_spec)\n",
    "\n",
    "    return float(eval_results[\"accuracy\"])"
   ]
  },
  {
   "cell_type": "markdown",
   "id": "e19fe899",
   "metadata": {},
   "source": [
    "# <span style=\"color:purple\"> CONCLUSÃO </span>"
   ]
  },
  {
   "cell_type": "markdown",
   "id": "18acf6f7",
   "metadata": {},
   "source": [
    "* O modelo confunde as letras F e T\n",
    "\n",
    "* Caso de estudo de *feature engineering* para resolução do problema"
   ]
  }
 ],
 "metadata": {
  "environment": {
   "kernel": "python3",
   "name": "tf2-gpu.2-8.m103",
   "type": "gcloud",
   "uri": "gcr.io/deeplearning-platform-release/tf2-gpu.2-8:m103"
  },
  "kernelspec": {
   "display_name": "Python 3 (ipykernel)",
   "language": "python",
   "name": "python3"
  },
  "language_info": {
   "codemirror_mode": {
    "name": "ipython",
    "version": 3
   },
   "file_extension": ".py",
   "mimetype": "text/x-python",
   "name": "python",
   "nbconvert_exporter": "python",
   "pygments_lexer": "ipython3",
   "version": "3.7.12"
  },
  "vscode": {
   "interpreter": {
    "hash": "d985ae1b640e23321cb9f59033fe153b095119c7731f01ad64cc79fd51684b70"
   }
  }
 },
 "nbformat": 4,
 "nbformat_minor": 5
}
