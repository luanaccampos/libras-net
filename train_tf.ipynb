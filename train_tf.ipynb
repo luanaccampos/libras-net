{
 "cells": [
  {
   "cell_type": "code",
   "execution_count": 2,
   "id": "a415d7af-c08c-4b5c-ac17-14d1c7038fe2",
   "metadata": {},
   "outputs": [
    {
     "name": "stderr",
     "output_type": "stream",
     "text": [
      "2023-03-05 19:19:53.099907: I tensorflow/core/platform/cpu_feature_guard.cc:193] This TensorFlow binary is optimized with oneAPI Deep Neural Network Library (oneDNN) to use the following CPU instructions in performance-critical operations:  AVX2 FMA\n",
      "To enable them in other operations, rebuild TensorFlow with the appropriate compiler flags.\n",
      "2023-03-05 19:19:53.790922: W tensorflow/compiler/xla/stream_executor/platform/default/dso_loader.cc:64] Could not load dynamic library 'libcudart.so.11.0'; dlerror: libcudart.so.11.0: cannot open shared object file: No such file or directory\n",
      "2023-03-05 19:19:53.790993: I tensorflow/compiler/xla/stream_executor/cuda/cudart_stub.cc:29] Ignore above cudart dlerror if you do not have a GPU set up on your machine.\n",
      "2023-03-05 19:19:55.361773: W tensorflow/compiler/xla/stream_executor/platform/default/dso_loader.cc:64] Could not load dynamic library 'libnvinfer.so.7'; dlerror: libnvinfer.so.7: cannot open shared object file: No such file or directory\n",
      "2023-03-05 19:19:55.361979: W tensorflow/compiler/xla/stream_executor/platform/default/dso_loader.cc:64] Could not load dynamic library 'libnvinfer_plugin.so.7'; dlerror: libnvinfer_plugin.so.7: cannot open shared object file: No such file or directory\n",
      "2023-03-05 19:19:55.361989: W tensorflow/compiler/tf2tensorrt/utils/py_utils.cc:38] TF-TRT Warning: Cannot dlopen some TensorRT libraries. If you would like to use Nvidia GPU with TensorRT, please make sure the missing libraries mentioned above are installed properly.\n"
     ]
    }
   ],
   "source": [
    "import numpy as np\n",
    "import pandas as pd\n",
    "from sklearn import preprocessing\n",
    "from sklearn.model_selection import train_test_split\n",
    "import tensorflow as tf\n",
    "from tensorflow.math import confusion_matrix\n",
    "from matplotlib import pyplot as plt\n",
    "import seaborn as sns"
   ]
  },
  {
   "cell_type": "markdown",
   "id": "f51f4a7e-d2f7-47f3-a372-a4aa421d552d",
   "metadata": {},
   "source": [
    "# <span style=\"color:purple\"> LEITURA DATASET </span>"
   ]
  },
  {
   "cell_type": "code",
   "execution_count": 3,
   "id": "3a90b78f-63f0-4f2b-955a-01c56a9eebc2",
   "metadata": {},
   "outputs": [
    {
     "data": {
      "text/html": [
       "<div>\n",
       "<style scoped>\n",
       "    .dataframe tbody tr th:only-of-type {\n",
       "        vertical-align: middle;\n",
       "    }\n",
       "\n",
       "    .dataframe tbody tr th {\n",
       "        vertical-align: top;\n",
       "    }\n",
       "\n",
       "    .dataframe thead th {\n",
       "        text-align: right;\n",
       "    }\n",
       "</style>\n",
       "<table border=\"1\" class=\"dataframe\">\n",
       "  <thead>\n",
       "    <tr style=\"text-align: right;\">\n",
       "      <th></th>\n",
       "      <th>0</th>\n",
       "      <th>1</th>\n",
       "      <th>2</th>\n",
       "      <th>3</th>\n",
       "      <th>4</th>\n",
       "      <th>5</th>\n",
       "      <th>6</th>\n",
       "      <th>7</th>\n",
       "      <th>8</th>\n",
       "      <th>9</th>\n",
       "      <th>...</th>\n",
       "      <th>55</th>\n",
       "      <th>56</th>\n",
       "      <th>57</th>\n",
       "      <th>58</th>\n",
       "      <th>59</th>\n",
       "      <th>60</th>\n",
       "      <th>61</th>\n",
       "      <th>62</th>\n",
       "      <th>classe</th>\n",
       "      <th>signer</th>\n",
       "    </tr>\n",
       "  </thead>\n",
       "  <tbody>\n",
       "    <tr>\n",
       "      <th>0</th>\n",
       "      <td>-0.015155</td>\n",
       "      <td>0.083723</td>\n",
       "      <td>-0.019764</td>\n",
       "      <td>0.016621</td>\n",
       "      <td>0.067022</td>\n",
       "      <td>-0.016464</td>\n",
       "      <td>0.037898</td>\n",
       "      <td>0.040288</td>\n",
       "      <td>-0.018105</td>\n",
       "      <td>0.048381</td>\n",
       "      <td>...</td>\n",
       "      <td>-0.013157</td>\n",
       "      <td>-0.029493</td>\n",
       "      <td>-0.019044</td>\n",
       "      <td>0.004893</td>\n",
       "      <td>-0.044368</td>\n",
       "      <td>-0.022143</td>\n",
       "      <td>0.026663</td>\n",
       "      <td>-0.034211</td>\n",
       "      <td>a</td>\n",
       "      <td>0.0</td>\n",
       "    </tr>\n",
       "    <tr>\n",
       "      <th>1</th>\n",
       "      <td>-0.017470</td>\n",
       "      <td>0.089129</td>\n",
       "      <td>-0.024697</td>\n",
       "      <td>0.017672</td>\n",
       "      <td>0.070180</td>\n",
       "      <td>-0.018930</td>\n",
       "      <td>0.037136</td>\n",
       "      <td>0.042391</td>\n",
       "      <td>-0.020137</td>\n",
       "      <td>0.047958</td>\n",
       "      <td>...</td>\n",
       "      <td>-0.013763</td>\n",
       "      <td>-0.033332</td>\n",
       "      <td>-0.020168</td>\n",
       "      <td>0.004791</td>\n",
       "      <td>-0.048958</td>\n",
       "      <td>-0.022997</td>\n",
       "      <td>0.025612</td>\n",
       "      <td>-0.040157</td>\n",
       "      <td>a</td>\n",
       "      <td>0.0</td>\n",
       "    </tr>\n",
       "    <tr>\n",
       "      <th>2</th>\n",
       "      <td>-0.018608</td>\n",
       "      <td>0.088464</td>\n",
       "      <td>-0.034686</td>\n",
       "      <td>0.017341</td>\n",
       "      <td>0.069314</td>\n",
       "      <td>-0.027479</td>\n",
       "      <td>0.036115</td>\n",
       "      <td>0.041589</td>\n",
       "      <td>-0.026058</td>\n",
       "      <td>0.046782</td>\n",
       "      <td>...</td>\n",
       "      <td>-0.015631</td>\n",
       "      <td>-0.034420</td>\n",
       "      <td>-0.021920</td>\n",
       "      <td>0.002710</td>\n",
       "      <td>-0.050564</td>\n",
       "      <td>-0.024800</td>\n",
       "      <td>0.022225</td>\n",
       "      <td>-0.041706</td>\n",
       "      <td>a</td>\n",
       "      <td>0.0</td>\n",
       "    </tr>\n",
       "    <tr>\n",
       "      <th>3</th>\n",
       "      <td>-0.018881</td>\n",
       "      <td>0.089806</td>\n",
       "      <td>-0.033932</td>\n",
       "      <td>0.017604</td>\n",
       "      <td>0.069527</td>\n",
       "      <td>-0.027086</td>\n",
       "      <td>0.036691</td>\n",
       "      <td>0.042036</td>\n",
       "      <td>-0.025525</td>\n",
       "      <td>0.047545</td>\n",
       "      <td>...</td>\n",
       "      <td>-0.016675</td>\n",
       "      <td>-0.034124</td>\n",
       "      <td>-0.021750</td>\n",
       "      <td>0.000277</td>\n",
       "      <td>-0.050739</td>\n",
       "      <td>-0.023401</td>\n",
       "      <td>0.019764</td>\n",
       "      <td>-0.042837</td>\n",
       "      <td>a</td>\n",
       "      <td>0.0</td>\n",
       "    </tr>\n",
       "    <tr>\n",
       "      <th>4</th>\n",
       "      <td>-0.018110</td>\n",
       "      <td>0.088998</td>\n",
       "      <td>-0.032207</td>\n",
       "      <td>0.016747</td>\n",
       "      <td>0.068922</td>\n",
       "      <td>-0.024993</td>\n",
       "      <td>0.036877</td>\n",
       "      <td>0.042021</td>\n",
       "      <td>-0.023326</td>\n",
       "      <td>0.047667</td>\n",
       "      <td>...</td>\n",
       "      <td>-0.015065</td>\n",
       "      <td>-0.034571</td>\n",
       "      <td>-0.020478</td>\n",
       "      <td>0.001885</td>\n",
       "      <td>-0.050963</td>\n",
       "      <td>-0.022766</td>\n",
       "      <td>0.021520</td>\n",
       "      <td>-0.041488</td>\n",
       "      <td>a</td>\n",
       "      <td>0.0</td>\n",
       "    </tr>\n",
       "  </tbody>\n",
       "</table>\n",
       "<p>5 rows × 65 columns</p>\n",
       "</div>"
      ],
      "text/plain": [
       "          0         1         2         3         4         5         6  \\\n",
       "0 -0.015155  0.083723 -0.019764  0.016621  0.067022 -0.016464  0.037898   \n",
       "1 -0.017470  0.089129 -0.024697  0.017672  0.070180 -0.018930  0.037136   \n",
       "2 -0.018608  0.088464 -0.034686  0.017341  0.069314 -0.027479  0.036115   \n",
       "3 -0.018881  0.089806 -0.033932  0.017604  0.069527 -0.027086  0.036691   \n",
       "4 -0.018110  0.088998 -0.032207  0.016747  0.068922 -0.024993  0.036877   \n",
       "\n",
       "          7         8         9  ...        55        56        57        58  \\\n",
       "0  0.040288 -0.018105  0.048381  ... -0.013157 -0.029493 -0.019044  0.004893   \n",
       "1  0.042391 -0.020137  0.047958  ... -0.013763 -0.033332 -0.020168  0.004791   \n",
       "2  0.041589 -0.026058  0.046782  ... -0.015631 -0.034420 -0.021920  0.002710   \n",
       "3  0.042036 -0.025525  0.047545  ... -0.016675 -0.034124 -0.021750  0.000277   \n",
       "4  0.042021 -0.023326  0.047667  ... -0.015065 -0.034571 -0.020478  0.001885   \n",
       "\n",
       "         59        60        61        62  classe  signer  \n",
       "0 -0.044368 -0.022143  0.026663 -0.034211       a     0.0  \n",
       "1 -0.048958 -0.022997  0.025612 -0.040157       a     0.0  \n",
       "2 -0.050564 -0.024800  0.022225 -0.041706       a     0.0  \n",
       "3 -0.050739 -0.023401  0.019764 -0.042837       a     0.0  \n",
       "4 -0.050963 -0.022766  0.021520 -0.041488       a     0.0  \n",
       "\n",
       "[5 rows x 65 columns]"
      ]
     },
     "execution_count": 3,
     "metadata": {},
     "output_type": "execute_result"
    }
   ],
   "source": [
    "dataset = pd.read_csv('dataset.csv')\n",
    "dataset.head()"
   ]
  },
  {
   "cell_type": "code",
   "execution_count": 4,
   "id": "8fe29be7-de8e-4f6e-94c2-93284d735a6c",
   "metadata": {},
   "outputs": [],
   "source": [
    "classes = ['a', 'b', 'c', 'd', 'e', 'f', 'g', 'i', 'l', 'm', 'n', 'o', 'p',\n",
    "        'q', 'r', 's', 't', 'u', 'v', 'w', 'y']"
   ]
  },
  {
   "cell_type": "code",
   "execution_count": 5,
   "id": "04dcb644-4426-47e2-81a4-de2da4e64b56",
   "metadata": {
    "tags": []
   },
   "outputs": [
    {
     "data": {
      "text/plain": [
       "LabelEncoder()"
      ]
     },
     "execution_count": 5,
     "metadata": {},
     "output_type": "execute_result"
    }
   ],
   "source": [
    "le = preprocessing.LabelEncoder()\n",
    "le.fit(classes)"
   ]
  },
  {
   "cell_type": "code",
   "execution_count": 16,
   "id": "ede40552-4f37-4fa2-977a-e7ae13dd09cf",
   "metadata": {},
   "outputs": [],
   "source": [
    "dataset_train = dataset[dataset['signer'] > 0]"
   ]
  },
  {
   "cell_type": "code",
   "execution_count": 17,
   "id": "6bf902f4-3327-4de1-823c-9f2aef150fc4",
   "metadata": {},
   "outputs": [],
   "source": [
    "X_train = np.array(dataset_train.iloc[:,:63])\n",
    "Y_train = np.array(le.transform(dataset_train['classe']))\n",
    "Y_train = tf.keras.utils.to_categorical(Y_train, len(classes))"
   ]
  },
  {
   "cell_type": "code",
   "execution_count": 18,
   "id": "b735f234-4972-4a52-98cc-20aedd800307",
   "metadata": {},
   "outputs": [],
   "source": [
    "X_train, X_val, Y_train, Y_val = train_test_split(X_train, Y_train, test_size=0.2, random_state=42)"
   ]
  },
  {
   "cell_type": "code",
   "execution_count": 19,
   "id": "bbe97192",
   "metadata": {},
   "outputs": [],
   "source": [
    "dataset_test = dataset[dataset['signer'] == 0]"
   ]
  },
  {
   "cell_type": "code",
   "execution_count": 20,
   "id": "2a52bc6d",
   "metadata": {},
   "outputs": [],
   "source": [
    "X_test = np.array(dataset_test.iloc[:,:63])\n",
    "Y_test = np.array(le.transform(dataset_test['classe']))\n",
    "Y_test = tf.keras.utils.to_categorical(Y_test, len(classes))"
   ]
  },
  {
   "cell_type": "markdown",
   "id": "5966ecbb-b6c5-4dc6-9ec3-04bb396a67cb",
   "metadata": {
    "jp-MarkdownHeadingCollapsed": true,
    "tags": []
   },
   "source": [
    "# <span style=\"color:purple\"> MODELO </span>"
   ]
  },
  {
   "cell_type": "code",
   "execution_count": 28,
   "id": "5ba105fb-45a4-4303-8b36-c4919f12d0cc",
   "metadata": {
    "tags": []
   },
   "outputs": [],
   "source": [
    "model = tf.keras.Sequential(\n",
    "    [\n",
    "        tf.keras.layers.Dense(256, activation='relu', input_shape=(63,)),\n",
    "        tf.keras.layers.Dense(128, activation='relu'),\n",
    "        tf.keras.layers.Dense(64, activation='relu'),\n",
    "        tf.keras.layers.Dense(32, activation='relu'),\n",
    "        tf.keras.layers.Dropout(0.2),\n",
    "        tf.keras.layers.Flatten(),\n",
    "        tf.keras.layers.Dense(21, activation='softmax'),\n",
    "    ]\n",
    ")\n",
    "\n",
    "model.compile(loss=\"categorical_crossentropy\", optimizer=\"adam\", metrics=[\"accuracy\"])"
   ]
  },
  {
   "cell_type": "code",
   "execution_count": 12,
   "id": "2e02bf9c-9817-451b-9fbe-4dbb32776ea8",
   "metadata": {},
   "outputs": [
    {
     "name": "stdout",
     "output_type": "stream",
     "text": [
      "Model: \"sequential\"\n",
      "_________________________________________________________________\n",
      " Layer (type)                Output Shape              Param #   \n",
      "=================================================================\n",
      " dense (Dense)               (None, 32)                2048      \n",
      "                                                                 \n",
      " dense_1 (Dense)             (None, 64)                2112      \n",
      "                                                                 \n",
      " dense_2 (Dense)             (None, 128)               8320      \n",
      "                                                                 \n",
      " dropout (Dropout)           (None, 128)               0         \n",
      "                                                                 \n",
      " flatten (Flatten)           (None, 128)               0         \n",
      "                                                                 \n",
      " dense_3 (Dense)             (None, 21)                2709      \n",
      "                                                                 \n",
      "=================================================================\n",
      "Total params: 15,189\n",
      "Trainable params: 15,189\n",
      "Non-trainable params: 0\n",
      "_________________________________________________________________\n"
     ]
    }
   ],
   "source": [
    "model.summary()"
   ]
  },
  {
   "cell_type": "code",
   "execution_count": 29,
   "id": "a6ff7ea3-5e9c-4fae-b363-b30efb79ad01",
   "metadata": {
    "tags": []
   },
   "outputs": [
    {
     "name": "stdout",
     "output_type": "stream",
     "text": [
      "Epoch 1/40\n",
      "39/39 [==============================] - 1s 8ms/step - loss: 2.9817 - accuracy: 0.2109 - val_loss: 2.8677 - val_accuracy: 0.2512\n",
      "Epoch 2/40\n",
      "39/39 [==============================] - 0s 4ms/step - loss: 2.6118 - accuracy: 0.2585 - val_loss: 2.2422 - val_accuracy: 0.3092\n",
      "Epoch 3/40\n",
      "39/39 [==============================] - 0s 4ms/step - loss: 1.9636 - accuracy: 0.3609 - val_loss: 1.5583 - val_accuracy: 0.5105\n",
      "Epoch 4/40\n",
      "39/39 [==============================] - 0s 3ms/step - loss: 1.4458 - accuracy: 0.4790 - val_loss: 1.0937 - val_accuracy: 0.6892\n",
      "Epoch 5/40\n",
      "39/39 [==============================] - 0s 3ms/step - loss: 1.1352 - accuracy: 0.5738 - val_loss: 0.8444 - val_accuracy: 0.7907\n",
      "Epoch 6/40\n",
      "39/39 [==============================] - 0s 4ms/step - loss: 0.9656 - accuracy: 0.6254 - val_loss: 0.6925 - val_accuracy: 0.7923\n",
      "Epoch 7/40\n",
      "39/39 [==============================] - 0s 3ms/step - loss: 0.8078 - accuracy: 0.6956 - val_loss: 0.5730 - val_accuracy: 0.8680\n",
      "Epoch 8/40\n",
      "39/39 [==============================] - 0s 3ms/step - loss: 0.6919 - accuracy: 0.7431 - val_loss: 0.4814 - val_accuracy: 0.8647\n",
      "Epoch 9/40\n",
      "39/39 [==============================] - 0s 3ms/step - loss: 0.6045 - accuracy: 0.7810 - val_loss: 0.4372 - val_accuracy: 0.8486\n",
      "Epoch 10/40\n",
      "39/39 [==============================] - 0s 3ms/step - loss: 0.5220 - accuracy: 0.8000 - val_loss: 0.3739 - val_accuracy: 0.8744\n",
      "Epoch 11/40\n",
      "39/39 [==============================] - 0s 3ms/step - loss: 0.4762 - accuracy: 0.8242 - val_loss: 0.3302 - val_accuracy: 0.9211\n",
      "Epoch 12/40\n",
      "39/39 [==============================] - 0s 4ms/step - loss: 0.4494 - accuracy: 0.8403 - val_loss: 0.3025 - val_accuracy: 0.9291\n",
      "Epoch 13/40\n",
      "39/39 [==============================] - 0s 4ms/step - loss: 0.3918 - accuracy: 0.8673 - val_loss: 0.2728 - val_accuracy: 0.9227\n",
      "Epoch 14/40\n",
      "39/39 [==============================] - 0s 4ms/step - loss: 0.3481 - accuracy: 0.8903 - val_loss: 0.2458 - val_accuracy: 0.9275\n",
      "Epoch 15/40\n",
      "39/39 [==============================] - 0s 4ms/step - loss: 0.3249 - accuracy: 0.8907 - val_loss: 0.2292 - val_accuracy: 0.9388\n",
      "Epoch 16/40\n",
      "39/39 [==============================] - 0s 4ms/step - loss: 0.3044 - accuracy: 0.8956 - val_loss: 0.2230 - val_accuracy: 0.9565\n",
      "Epoch 17/40\n",
      "39/39 [==============================] - 0s 4ms/step - loss: 0.2964 - accuracy: 0.8964 - val_loss: 0.2114 - val_accuracy: 0.9581\n",
      "Epoch 18/40\n",
      "39/39 [==============================] - 0s 4ms/step - loss: 0.2684 - accuracy: 0.9157 - val_loss: 0.1939 - val_accuracy: 0.9436\n",
      "Epoch 19/40\n",
      "39/39 [==============================] - 0s 4ms/step - loss: 0.2466 - accuracy: 0.9214 - val_loss: 0.1817 - val_accuracy: 0.9614\n",
      "Epoch 20/40\n",
      "39/39 [==============================] - 0s 4ms/step - loss: 0.2307 - accuracy: 0.9310 - val_loss: 0.1724 - val_accuracy: 0.9662\n",
      "Epoch 21/40\n",
      "39/39 [==============================] - 0s 4ms/step - loss: 0.2139 - accuracy: 0.9327 - val_loss: 0.1673 - val_accuracy: 0.9597\n",
      "Epoch 22/40\n",
      "39/39 [==============================] - 0s 3ms/step - loss: 0.2077 - accuracy: 0.9387 - val_loss: 0.1572 - val_accuracy: 0.9646\n",
      "Epoch 23/40\n",
      "39/39 [==============================] - 0s 4ms/step - loss: 0.2061 - accuracy: 0.9415 - val_loss: 0.1419 - val_accuracy: 0.9678\n",
      "Epoch 24/40\n",
      "39/39 [==============================] - 0s 4ms/step - loss: 0.1904 - accuracy: 0.9419 - val_loss: 0.1469 - val_accuracy: 0.9742\n",
      "Epoch 25/40\n",
      "39/39 [==============================] - 0s 4ms/step - loss: 0.1718 - accuracy: 0.9504 - val_loss: 0.1288 - val_accuracy: 0.9694\n",
      "Epoch 26/40\n",
      "39/39 [==============================] - 0s 4ms/step - loss: 0.1703 - accuracy: 0.9528 - val_loss: 0.1331 - val_accuracy: 0.9646\n",
      "Epoch 27/40\n",
      "39/39 [==============================] - 0s 3ms/step - loss: 0.1575 - accuracy: 0.9565 - val_loss: 0.1198 - val_accuracy: 0.9694\n",
      "Epoch 28/40\n",
      "39/39 [==============================] - 0s 3ms/step - loss: 0.1428 - accuracy: 0.9629 - val_loss: 0.1196 - val_accuracy: 0.9775\n",
      "Epoch 29/40\n",
      "39/39 [==============================] - 0s 4ms/step - loss: 0.1404 - accuracy: 0.9589 - val_loss: 0.1138 - val_accuracy: 0.9775\n",
      "Epoch 30/40\n",
      "39/39 [==============================] - 0s 3ms/step - loss: 0.1361 - accuracy: 0.9597 - val_loss: 0.1066 - val_accuracy: 0.9694\n",
      "Epoch 31/40\n",
      "39/39 [==============================] - 0s 3ms/step - loss: 0.1283 - accuracy: 0.9653 - val_loss: 0.1056 - val_accuracy: 0.9791\n",
      "Epoch 32/40\n",
      "39/39 [==============================] - 0s 4ms/step - loss: 0.1242 - accuracy: 0.9673 - val_loss: 0.1012 - val_accuracy: 0.9823\n",
      "Epoch 33/40\n",
      "39/39 [==============================] - 0s 3ms/step - loss: 0.1242 - accuracy: 0.9669 - val_loss: 0.1030 - val_accuracy: 0.9791\n",
      "Epoch 34/40\n",
      "39/39 [==============================] - 0s 4ms/step - loss: 0.1244 - accuracy: 0.9605 - val_loss: 0.0938 - val_accuracy: 0.9839\n",
      "Epoch 35/40\n",
      "39/39 [==============================] - 0s 3ms/step - loss: 0.1138 - accuracy: 0.9694 - val_loss: 0.0983 - val_accuracy: 0.9791\n",
      "Epoch 36/40\n",
      "39/39 [==============================] - 0s 3ms/step - loss: 0.1104 - accuracy: 0.9665 - val_loss: 0.0915 - val_accuracy: 0.9839\n",
      "Epoch 37/40\n",
      "39/39 [==============================] - 0s 4ms/step - loss: 0.1074 - accuracy: 0.9690 - val_loss: 0.0910 - val_accuracy: 0.9823\n",
      "Epoch 38/40\n",
      "39/39 [==============================] - 0s 3ms/step - loss: 0.0979 - accuracy: 0.9677 - val_loss: 0.0840 - val_accuracy: 0.9855\n",
      "Epoch 39/40\n",
      "39/39 [==============================] - 0s 3ms/step - loss: 0.0940 - accuracy: 0.9770 - val_loss: 0.0800 - val_accuracy: 0.9839\n",
      "Epoch 40/40\n",
      "39/39 [==============================] - 0s 3ms/step - loss: 0.0904 - accuracy: 0.9706 - val_loss: 0.0812 - val_accuracy: 0.9855\n"
     ]
    }
   ],
   "source": [
    "history = model.fit(X_train, Y_train, batch_size=64, epochs=40, validation_data=(X_val, Y_val))"
   ]
  },
  {
   "cell_type": "code",
   "execution_count": 30,
   "id": "3a4a3a4a-a84a-4a76-b0aa-3c9ad0b272ae",
   "metadata": {},
   "outputs": [
    {
     "name": "stdout",
     "output_type": "stream",
     "text": [
      "87/87 [==============================] - 0s 2ms/step - loss: 0.6589 - accuracy: 0.8160\n"
     ]
    },
    {
     "data": {
      "text/plain": [
       "[0.6589370965957642, 0.8160258531570435]"
      ]
     },
     "execution_count": 30,
     "metadata": {},
     "output_type": "execute_result"
    }
   ],
   "source": [
    "model.evaluate(X_test, Y_test)"
   ]
  },
  {
   "cell_type": "code",
   "execution_count": 24,
   "id": "7b94fda8-76f0-46b3-bb06-8d19cc5b14e1",
   "metadata": {},
   "outputs": [
    {
     "name": "stdout",
     "output_type": "stream",
     "text": [
      "87/87 [==============================] - 0s 2ms/step\n"
     ]
    },
    {
     "data": {
      "text/plain": [
       "<AxesSubplot:>"
      ]
     },
     "execution_count": 24,
     "metadata": {},
     "output_type": "execute_result"
    },
    {
     "data": {
      "image/png": "[encoded data removed]",
      "text/plain": [
       "<Figure size 640x480 with 2 Axes>"
      ]
     },
     "metadata": {},
     "output_type": "display_data"
    }
   ],
   "source": [
    "pred = model.predict(X_test)\n",
    "labels = [np.argmax(y) for y in Y_test]\n",
    "predictions = [np.argmax(x) for x in pred]\n",
    "cm = confusion_matrix(labels, predictions)\n",
    "\n",
    "df_cm = pd.DataFrame(np.array(cm), index = classes, columns = classes)\n",
    "sns.heatmap(df_cm, annot=True, fmt=\".0f\")"
   ]
  }
 ],
 "metadata": {
  "environment": {
   "kernel": "python3",
   "name": "tf2-gpu.2-8.m103",
   "type": "gcloud",
   "uri": "gcr.io/deeplearning-platform-release/tf2-gpu.2-8:m103"
  },
  "kernelspec": {
   "display_name": "Python 3",
   "language": "python",
   "name": "python3"
  },
  "language_info": {
   "codemirror_mode": {
    "name": "ipython",
    "version": 3
   },
   "file_extension": ".py",
   "mimetype": "text/x-python",
   "name": "python",
   "nbconvert_exporter": "python",
   "pygments_lexer": "ipython3",
   "version": "3.9.13"
  },
  "vscode": {
   "interpreter": {
    "hash": "d985ae1b640e23321cb9f59033fe153b095119c7731f01ad64cc79fd51684b70"
   }
  }
 },
 "nbformat": 4,
 "nbformat_minor": 5
}
