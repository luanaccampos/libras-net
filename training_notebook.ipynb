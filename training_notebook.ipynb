{
 "cells": [
  {
   "cell_type": "code",
   "execution_count": 128,
   "id": "d6ea36e5",
   "metadata": {},
   "outputs": [],
   "source": [
    "import pandas as pd\n",
    "import numpy as np\n",
    "import sklearn\n",
    "\n",
    "from sklearn import preprocessing\n",
    "from sklearn.svm import SVC\n",
    "from sklearn.metrics import classification_report, confusion_matrix\n",
    "\n",
    "from matplotlib import pyplot as plt\n",
    "import seaborn as sns\n",
    "\n",
    "from skl2onnx import convert_sklearn\n",
    "from skl2onnx.common.data_types import FloatTensorType\n",
    "import pickle"
   ]
  },
  {
   "cell_type": "code",
   "execution_count": 101,
   "id": "f2ee05e3",
   "metadata": {},
   "outputs": [],
   "source": [
    "dataset = pd.read_parquet('dataset.parquet')"
   ]
  },
  {
   "cell_type": "code",
   "execution_count": 102,
   "id": "5214f20e",
   "metadata": {},
   "outputs": [
    {
     "data": {
      "text/html": [
       "<div>\n",
       "<style scoped>\n",
       "    .dataframe tbody tr th:only-of-type {\n",
       "        vertical-align: middle;\n",
       "    }\n",
       "\n",
       "    .dataframe tbody tr th {\n",
       "        vertical-align: top;\n",
       "    }\n",
       "\n",
       "    .dataframe thead th {\n",
       "        text-align: right;\n",
       "    }\n",
       "</style>\n",
       "<table border=\"1\" class=\"dataframe\">\n",
       "  <thead>\n",
       "    <tr style=\"text-align: right;\">\n",
       "      <th></th>\n",
       "      <th>sign</th>\n",
       "      <th>signer_id</th>\n",
       "      <th>youtube_url</th>\n",
       "      <th>frame</th>\n",
       "      <th>xmin</th>\n",
       "      <th>ymin</th>\n",
       "      <th>xmax</th>\n",
       "      <th>ymax</th>\n",
       "      <th>path_landmarks</th>\n",
       "    </tr>\n",
       "  </thead>\n",
       "  <tbody>\n",
       "    <tr>\n",
       "      <th>0</th>\n",
       "      <td>A</td>\n",
       "      <td>Anh0MnIoA4w</td>\n",
       "      <td>https://www.youtube.com/watch?v=Anh0MnIoA4w</td>\n",
       "      <td>329</td>\n",
       "      <td>407</td>\n",
       "      <td>103</td>\n",
       "      <td>656</td>\n",
       "      <td>344</td>\n",
       "      <td>landmark_files/Anh0MnIoA4w/329.parquet</td>\n",
       "    </tr>\n",
       "    <tr>\n",
       "      <th>1</th>\n",
       "      <td>A</td>\n",
       "      <td>Anh0MnIoA4w</td>\n",
       "      <td>https://www.youtube.com/watch?v=Anh0MnIoA4w</td>\n",
       "      <td>330</td>\n",
       "      <td>407</td>\n",
       "      <td>103</td>\n",
       "      <td>656</td>\n",
       "      <td>344</td>\n",
       "      <td>landmark_files/Anh0MnIoA4w/330.parquet</td>\n",
       "    </tr>\n",
       "    <tr>\n",
       "      <th>2</th>\n",
       "      <td>A</td>\n",
       "      <td>Anh0MnIoA4w</td>\n",
       "      <td>https://www.youtube.com/watch?v=Anh0MnIoA4w</td>\n",
       "      <td>331</td>\n",
       "      <td>407</td>\n",
       "      <td>102</td>\n",
       "      <td>656</td>\n",
       "      <td>343</td>\n",
       "      <td>landmark_files/Anh0MnIoA4w/331.parquet</td>\n",
       "    </tr>\n",
       "    <tr>\n",
       "      <th>3</th>\n",
       "      <td>A</td>\n",
       "      <td>Anh0MnIoA4w</td>\n",
       "      <td>https://www.youtube.com/watch?v=Anh0MnIoA4w</td>\n",
       "      <td>332</td>\n",
       "      <td>407</td>\n",
       "      <td>102</td>\n",
       "      <td>656</td>\n",
       "      <td>343</td>\n",
       "      <td>landmark_files/Anh0MnIoA4w/332.parquet</td>\n",
       "    </tr>\n",
       "    <tr>\n",
       "      <th>4</th>\n",
       "      <td>A</td>\n",
       "      <td>Anh0MnIoA4w</td>\n",
       "      <td>https://www.youtube.com/watch?v=Anh0MnIoA4w</td>\n",
       "      <td>333</td>\n",
       "      <td>407</td>\n",
       "      <td>102</td>\n",
       "      <td>656</td>\n",
       "      <td>343</td>\n",
       "      <td>landmark_files/Anh0MnIoA4w/333.parquet</td>\n",
       "    </tr>\n",
       "    <tr>\n",
       "      <th>...</th>\n",
       "      <td>...</td>\n",
       "      <td>...</td>\n",
       "      <td>...</td>\n",
       "      <td>...</td>\n",
       "      <td>...</td>\n",
       "      <td>...</td>\n",
       "      <td>...</td>\n",
       "      <td>...</td>\n",
       "      <td>...</td>\n",
       "    </tr>\n",
       "    <tr>\n",
       "      <th>22871</th>\n",
       "      <td>Y</td>\n",
       "      <td>4oLj2Bxc3vM</td>\n",
       "      <td>https://www.youtube.com/watch?v=4oLj2Bxc3vM</td>\n",
       "      <td>5671</td>\n",
       "      <td>415</td>\n",
       "      <td>177</td>\n",
       "      <td>722</td>\n",
       "      <td>453</td>\n",
       "      <td>landmark_files/4oLj2Bxc3vM/5671.parquet</td>\n",
       "    </tr>\n",
       "    <tr>\n",
       "      <th>22872</th>\n",
       "      <td>Y</td>\n",
       "      <td>4oLj2Bxc3vM</td>\n",
       "      <td>https://www.youtube.com/watch?v=4oLj2Bxc3vM</td>\n",
       "      <td>5672</td>\n",
       "      <td>415</td>\n",
       "      <td>177</td>\n",
       "      <td>722</td>\n",
       "      <td>453</td>\n",
       "      <td>landmark_files/4oLj2Bxc3vM/5672.parquet</td>\n",
       "    </tr>\n",
       "    <tr>\n",
       "      <th>22873</th>\n",
       "      <td>Y</td>\n",
       "      <td>4oLj2Bxc3vM</td>\n",
       "      <td>https://www.youtube.com/watch?v=4oLj2Bxc3vM</td>\n",
       "      <td>5673</td>\n",
       "      <td>415</td>\n",
       "      <td>177</td>\n",
       "      <td>722</td>\n",
       "      <td>453</td>\n",
       "      <td>landmark_files/4oLj2Bxc3vM/5673.parquet</td>\n",
       "    </tr>\n",
       "    <tr>\n",
       "      <th>22874</th>\n",
       "      <td>Y</td>\n",
       "      <td>4oLj2Bxc3vM</td>\n",
       "      <td>https://www.youtube.com/watch?v=4oLj2Bxc3vM</td>\n",
       "      <td>5674</td>\n",
       "      <td>415</td>\n",
       "      <td>177</td>\n",
       "      <td>722</td>\n",
       "      <td>453</td>\n",
       "      <td>landmark_files/4oLj2Bxc3vM/5674.parquet</td>\n",
       "    </tr>\n",
       "    <tr>\n",
       "      <th>22875</th>\n",
       "      <td>Y</td>\n",
       "      <td>4oLj2Bxc3vM</td>\n",
       "      <td>https://www.youtube.com/watch?v=4oLj2Bxc3vM</td>\n",
       "      <td>5675</td>\n",
       "      <td>415</td>\n",
       "      <td>177</td>\n",
       "      <td>722</td>\n",
       "      <td>453</td>\n",
       "      <td>landmark_files/4oLj2Bxc3vM/5675.parquet</td>\n",
       "    </tr>\n",
       "  </tbody>\n",
       "</table>\n",
       "<p>22876 rows × 9 columns</p>\n",
       "</div>"
      ],
      "text/plain": [
       "      sign    signer_id                                  youtube_url  frame  \\\n",
       "0        A  Anh0MnIoA4w  https://www.youtube.com/watch?v=Anh0MnIoA4w    329   \n",
       "1        A  Anh0MnIoA4w  https://www.youtube.com/watch?v=Anh0MnIoA4w    330   \n",
       "2        A  Anh0MnIoA4w  https://www.youtube.com/watch?v=Anh0MnIoA4w    331   \n",
       "3        A  Anh0MnIoA4w  https://www.youtube.com/watch?v=Anh0MnIoA4w    332   \n",
       "4        A  Anh0MnIoA4w  https://www.youtube.com/watch?v=Anh0MnIoA4w    333   \n",
       "...    ...          ...                                          ...    ...   \n",
       "22871    Y  4oLj2Bxc3vM  https://www.youtube.com/watch?v=4oLj2Bxc3vM   5671   \n",
       "22872    Y  4oLj2Bxc3vM  https://www.youtube.com/watch?v=4oLj2Bxc3vM   5672   \n",
       "22873    Y  4oLj2Bxc3vM  https://www.youtube.com/watch?v=4oLj2Bxc3vM   5673   \n",
       "22874    Y  4oLj2Bxc3vM  https://www.youtube.com/watch?v=4oLj2Bxc3vM   5674   \n",
       "22875    Y  4oLj2Bxc3vM  https://www.youtube.com/watch?v=4oLj2Bxc3vM   5675   \n",
       "\n",
       "       xmin  ymin  xmax  ymax                           path_landmarks  \n",
       "0       407   103   656   344   landmark_files/Anh0MnIoA4w/329.parquet  \n",
       "1       407   103   656   344   landmark_files/Anh0MnIoA4w/330.parquet  \n",
       "2       407   102   656   343   landmark_files/Anh0MnIoA4w/331.parquet  \n",
       "3       407   102   656   343   landmark_files/Anh0MnIoA4w/332.parquet  \n",
       "4       407   102   656   343   landmark_files/Anh0MnIoA4w/333.parquet  \n",
       "...     ...   ...   ...   ...                                      ...  \n",
       "22871   415   177   722   453  landmark_files/4oLj2Bxc3vM/5671.parquet  \n",
       "22872   415   177   722   453  landmark_files/4oLj2Bxc3vM/5672.parquet  \n",
       "22873   415   177   722   453  landmark_files/4oLj2Bxc3vM/5673.parquet  \n",
       "22874   415   177   722   453  landmark_files/4oLj2Bxc3vM/5674.parquet  \n",
       "22875   415   177   722   453  landmark_files/4oLj2Bxc3vM/5675.parquet  \n",
       "\n",
       "[22876 rows x 9 columns]"
      ]
     },
     "execution_count": 102,
     "metadata": {},
     "output_type": "execute_result"
    }
   ],
   "source": [
    "dataset"
   ]
  },
  {
   "cell_type": "code",
   "execution_count": 103,
   "id": "823e6848",
   "metadata": {},
   "outputs": [
    {
     "data": {
      "text/html": [
       "<div>\n",
       "<style scoped>\n",
       "    .dataframe tbody tr th:only-of-type {\n",
       "        vertical-align: middle;\n",
       "    }\n",
       "\n",
       "    .dataframe tbody tr th {\n",
       "        vertical-align: top;\n",
       "    }\n",
       "\n",
       "    .dataframe thead th {\n",
       "        text-align: right;\n",
       "    }\n",
       "</style>\n",
       "<table border=\"1\" class=\"dataframe\">\n",
       "  <thead>\n",
       "    <tr style=\"text-align: right;\">\n",
       "      <th></th>\n",
       "      <th>landmark_index</th>\n",
       "      <th>x</th>\n",
       "      <th>y</th>\n",
       "      <th>z</th>\n",
       "    </tr>\n",
       "  </thead>\n",
       "  <tbody>\n",
       "    <tr>\n",
       "      <th>0</th>\n",
       "      <td>0</td>\n",
       "      <td>0.014507</td>\n",
       "      <td>0.086849</td>\n",
       "      <td>0.007559</td>\n",
       "    </tr>\n",
       "    <tr>\n",
       "      <th>1</th>\n",
       "      <td>1</td>\n",
       "      <td>-0.015449</td>\n",
       "      <td>0.067023</td>\n",
       "      <td>0.002611</td>\n",
       "    </tr>\n",
       "    <tr>\n",
       "      <th>2</th>\n",
       "      <td>2</td>\n",
       "      <td>-0.032912</td>\n",
       "      <td>0.039963</td>\n",
       "      <td>-0.000265</td>\n",
       "    </tr>\n",
       "    <tr>\n",
       "      <th>3</th>\n",
       "      <td>3</td>\n",
       "      <td>-0.046170</td>\n",
       "      <td>0.006634</td>\n",
       "      <td>-0.006198</td>\n",
       "    </tr>\n",
       "    <tr>\n",
       "      <th>4</th>\n",
       "      <td>4</td>\n",
       "      <td>-0.053118</td>\n",
       "      <td>-0.025896</td>\n",
       "      <td>-0.004696</td>\n",
       "    </tr>\n",
       "    <tr>\n",
       "      <th>5</th>\n",
       "      <td>5</td>\n",
       "      <td>-0.022696</td>\n",
       "      <td>-0.002957</td>\n",
       "      <td>0.004437</td>\n",
       "    </tr>\n",
       "    <tr>\n",
       "      <th>6</th>\n",
       "      <td>6</td>\n",
       "      <td>-0.029657</td>\n",
       "      <td>-0.016944</td>\n",
       "      <td>-0.014669</td>\n",
       "    </tr>\n",
       "    <tr>\n",
       "      <th>7</th>\n",
       "      <td>7</td>\n",
       "      <td>-0.029028</td>\n",
       "      <td>0.000255</td>\n",
       "      <td>-0.024632</td>\n",
       "    </tr>\n",
       "    <tr>\n",
       "      <th>8</th>\n",
       "      <td>8</td>\n",
       "      <td>-0.024862</td>\n",
       "      <td>0.022166</td>\n",
       "      <td>-0.013348</td>\n",
       "    </tr>\n",
       "    <tr>\n",
       "      <th>9</th>\n",
       "      <td>9</td>\n",
       "      <td>-0.002405</td>\n",
       "      <td>-0.004438</td>\n",
       "      <td>0.002689</td>\n",
       "    </tr>\n",
       "    <tr>\n",
       "      <th>10</th>\n",
       "      <td>10</td>\n",
       "      <td>-0.010089</td>\n",
       "      <td>-0.016485</td>\n",
       "      <td>-0.022112</td>\n",
       "    </tr>\n",
       "    <tr>\n",
       "      <th>11</th>\n",
       "      <td>11</td>\n",
       "      <td>-0.014678</td>\n",
       "      <td>0.009530</td>\n",
       "      <td>-0.028933</td>\n",
       "    </tr>\n",
       "    <tr>\n",
       "      <th>12</th>\n",
       "      <td>12</td>\n",
       "      <td>-0.005553</td>\n",
       "      <td>0.027363</td>\n",
       "      <td>-0.016109</td>\n",
       "    </tr>\n",
       "    <tr>\n",
       "      <th>13</th>\n",
       "      <td>13</td>\n",
       "      <td>0.016656</td>\n",
       "      <td>0.001659</td>\n",
       "      <td>-0.002243</td>\n",
       "    </tr>\n",
       "    <tr>\n",
       "      <th>14</th>\n",
       "      <td>14</td>\n",
       "      <td>0.004872</td>\n",
       "      <td>-0.011438</td>\n",
       "      <td>-0.025874</td>\n",
       "    </tr>\n",
       "    <tr>\n",
       "      <th>15</th>\n",
       "      <td>15</td>\n",
       "      <td>0.002711</td>\n",
       "      <td>0.015511</td>\n",
       "      <td>-0.033366</td>\n",
       "    </tr>\n",
       "    <tr>\n",
       "      <th>16</th>\n",
       "      <td>16</td>\n",
       "      <td>0.006752</td>\n",
       "      <td>0.039365</td>\n",
       "      <td>-0.019438</td>\n",
       "    </tr>\n",
       "    <tr>\n",
       "      <th>17</th>\n",
       "      <td>17</td>\n",
       "      <td>0.031082</td>\n",
       "      <td>0.014427</td>\n",
       "      <td>-0.011030</td>\n",
       "    </tr>\n",
       "    <tr>\n",
       "      <th>18</th>\n",
       "      <td>18</td>\n",
       "      <td>0.023649</td>\n",
       "      <td>-0.003721</td>\n",
       "      <td>-0.027470</td>\n",
       "    </tr>\n",
       "    <tr>\n",
       "      <th>19</th>\n",
       "      <td>19</td>\n",
       "      <td>0.015177</td>\n",
       "      <td>0.013636</td>\n",
       "      <td>-0.041490</td>\n",
       "    </tr>\n",
       "    <tr>\n",
       "      <th>20</th>\n",
       "      <td>20</td>\n",
       "      <td>0.019197</td>\n",
       "      <td>0.030259</td>\n",
       "      <td>-0.028731</td>\n",
       "    </tr>\n",
       "  </tbody>\n",
       "</table>\n",
       "</div>"
      ],
      "text/plain": [
       "    landmark_index         x         y         z\n",
       "0                0  0.014507  0.086849  0.007559\n",
       "1                1 -0.015449  0.067023  0.002611\n",
       "2                2 -0.032912  0.039963 -0.000265\n",
       "3                3 -0.046170  0.006634 -0.006198\n",
       "4                4 -0.053118 -0.025896 -0.004696\n",
       "5                5 -0.022696 -0.002957  0.004437\n",
       "6                6 -0.029657 -0.016944 -0.014669\n",
       "7                7 -0.029028  0.000255 -0.024632\n",
       "8                8 -0.024862  0.022166 -0.013348\n",
       "9                9 -0.002405 -0.004438  0.002689\n",
       "10              10 -0.010089 -0.016485 -0.022112\n",
       "11              11 -0.014678  0.009530 -0.028933\n",
       "12              12 -0.005553  0.027363 -0.016109\n",
       "13              13  0.016656  0.001659 -0.002243\n",
       "14              14  0.004872 -0.011438 -0.025874\n",
       "15              15  0.002711  0.015511 -0.033366\n",
       "16              16  0.006752  0.039365 -0.019438\n",
       "17              17  0.031082  0.014427 -0.011030\n",
       "18              18  0.023649 -0.003721 -0.027470\n",
       "19              19  0.015177  0.013636 -0.041490\n",
       "20              20  0.019197  0.030259 -0.028731"
      ]
     },
     "execution_count": 103,
     "metadata": {},
     "output_type": "execute_result"
    }
   ],
   "source": [
    "pd.read_parquet('landmark_files/Anh0MnIoA4w/329.parquet')"
   ]
  },
  {
   "cell_type": "code",
   "execution_count": 104,
   "id": "5ebf403d",
   "metadata": {},
   "outputs": [],
   "source": [
    "def load_landmarks(pq_path):\n",
    "    data_columns = ['x', 'y', 'z']\n",
    "    data = pd.read_parquet(pq_path, columns=data_columns)\n",
    "    data = data.values.flatten()\n",
    "    return data.astype(np.float32)"
   ]
  },
  {
   "cell_type": "code",
   "execution_count": 105,
   "id": "f5c9928b",
   "metadata": {},
   "outputs": [],
   "source": [
    "dataset['landmarks'] = dataset['path_landmarks'].apply(load_landmarks)"
   ]
  },
  {
   "cell_type": "code",
   "execution_count": 106,
   "id": "479b3177",
   "metadata": {},
   "outputs": [
    {
     "data": {
      "text/html": [
       "<div>\n",
       "<style scoped>\n",
       "    .dataframe tbody tr th:only-of-type {\n",
       "        vertical-align: middle;\n",
       "    }\n",
       "\n",
       "    .dataframe tbody tr th {\n",
       "        vertical-align: top;\n",
       "    }\n",
       "\n",
       "    .dataframe thead th {\n",
       "        text-align: right;\n",
       "    }\n",
       "</style>\n",
       "<table border=\"1\" class=\"dataframe\">\n",
       "  <thead>\n",
       "    <tr style=\"text-align: right;\">\n",
       "      <th></th>\n",
       "      <th>sign</th>\n",
       "      <th>signer_id</th>\n",
       "      <th>youtube_url</th>\n",
       "      <th>frame</th>\n",
       "      <th>xmin</th>\n",
       "      <th>ymin</th>\n",
       "      <th>xmax</th>\n",
       "      <th>ymax</th>\n",
       "      <th>path_landmarks</th>\n",
       "      <th>landmarks</th>\n",
       "    </tr>\n",
       "  </thead>\n",
       "  <tbody>\n",
       "    <tr>\n",
       "      <th>0</th>\n",
       "      <td>A</td>\n",
       "      <td>Anh0MnIoA4w</td>\n",
       "      <td>https://www.youtube.com/watch?v=Anh0MnIoA4w</td>\n",
       "      <td>329</td>\n",
       "      <td>407</td>\n",
       "      <td>103</td>\n",
       "      <td>656</td>\n",
       "      <td>344</td>\n",
       "      <td>landmark_files/Anh0MnIoA4w/329.parquet</td>\n",
       "      <td>[0.01450691, 0.086849034, 0.0075590964, -0.015...</td>\n",
       "    </tr>\n",
       "    <tr>\n",
       "      <th>1</th>\n",
       "      <td>A</td>\n",
       "      <td>Anh0MnIoA4w</td>\n",
       "      <td>https://www.youtube.com/watch?v=Anh0MnIoA4w</td>\n",
       "      <td>330</td>\n",
       "      <td>407</td>\n",
       "      <td>103</td>\n",
       "      <td>656</td>\n",
       "      <td>344</td>\n",
       "      <td>landmark_files/Anh0MnIoA4w/330.parquet</td>\n",
       "      <td>[0.018444331, 0.08901835, 0.009912109, -0.0130...</td>\n",
       "    </tr>\n",
       "    <tr>\n",
       "      <th>2</th>\n",
       "      <td>A</td>\n",
       "      <td>Anh0MnIoA4w</td>\n",
       "      <td>https://www.youtube.com/watch?v=Anh0MnIoA4w</td>\n",
       "      <td>331</td>\n",
       "      <td>407</td>\n",
       "      <td>102</td>\n",
       "      <td>656</td>\n",
       "      <td>343</td>\n",
       "      <td>landmark_files/Anh0MnIoA4w/331.parquet</td>\n",
       "      <td>[0.018782917, 0.088051066, 0.0075024227, -0.01...</td>\n",
       "    </tr>\n",
       "    <tr>\n",
       "      <th>3</th>\n",
       "      <td>A</td>\n",
       "      <td>Anh0MnIoA4w</td>\n",
       "      <td>https://www.youtube.com/watch?v=Anh0MnIoA4w</td>\n",
       "      <td>332</td>\n",
       "      <td>407</td>\n",
       "      <td>102</td>\n",
       "      <td>656</td>\n",
       "      <td>343</td>\n",
       "      <td>landmark_files/Anh0MnIoA4w/332.parquet</td>\n",
       "      <td>[0.0188533, 0.08747366, 0.0070892186, -0.01282...</td>\n",
       "    </tr>\n",
       "    <tr>\n",
       "      <th>4</th>\n",
       "      <td>A</td>\n",
       "      <td>Anh0MnIoA4w</td>\n",
       "      <td>https://www.youtube.com/watch?v=Anh0MnIoA4w</td>\n",
       "      <td>333</td>\n",
       "      <td>407</td>\n",
       "      <td>102</td>\n",
       "      <td>656</td>\n",
       "      <td>343</td>\n",
       "      <td>landmark_files/Anh0MnIoA4w/333.parquet</td>\n",
       "      <td>[0.01866625, 0.087914206, 0.0066496218, -0.013...</td>\n",
       "    </tr>\n",
       "  </tbody>\n",
       "</table>\n",
       "</div>"
      ],
      "text/plain": [
       "  sign    signer_id                                  youtube_url  frame  xmin  \\\n",
       "0    A  Anh0MnIoA4w  https://www.youtube.com/watch?v=Anh0MnIoA4w    329   407   \n",
       "1    A  Anh0MnIoA4w  https://www.youtube.com/watch?v=Anh0MnIoA4w    330   407   \n",
       "2    A  Anh0MnIoA4w  https://www.youtube.com/watch?v=Anh0MnIoA4w    331   407   \n",
       "3    A  Anh0MnIoA4w  https://www.youtube.com/watch?v=Anh0MnIoA4w    332   407   \n",
       "4    A  Anh0MnIoA4w  https://www.youtube.com/watch?v=Anh0MnIoA4w    333   407   \n",
       "\n",
       "   ymin  xmax  ymax                          path_landmarks  \\\n",
       "0   103   656   344  landmark_files/Anh0MnIoA4w/329.parquet   \n",
       "1   103   656   344  landmark_files/Anh0MnIoA4w/330.parquet   \n",
       "2   102   656   343  landmark_files/Anh0MnIoA4w/331.parquet   \n",
       "3   102   656   343  landmark_files/Anh0MnIoA4w/332.parquet   \n",
       "4   102   656   343  landmark_files/Anh0MnIoA4w/333.parquet   \n",
       "\n",
       "                                           landmarks  \n",
       "0  [0.01450691, 0.086849034, 0.0075590964, -0.015...  \n",
       "1  [0.018444331, 0.08901835, 0.009912109, -0.0130...  \n",
       "2  [0.018782917, 0.088051066, 0.0075024227, -0.01...  \n",
       "3  [0.0188533, 0.08747366, 0.0070892186, -0.01282...  \n",
       "4  [0.01866625, 0.087914206, 0.0066496218, -0.013...  "
      ]
     },
     "execution_count": 106,
     "metadata": {},
     "output_type": "execute_result"
    }
   ],
   "source": [
    "dataset.head()"
   ]
  },
  {
   "cell_type": "markdown",
   "id": "52738d08",
   "metadata": {},
   "source": [
    "# <span style=\"color:purple\"> SPLIT DATASET </span>"
   ]
  },
  {
   "cell_type": "code",
   "execution_count": 107,
   "id": "7904bf15",
   "metadata": {},
   "outputs": [
    {
     "data": {
      "text/plain": [
       "array(['Anh0MnIoA4w', 'maGTKXCNaj8', '0sOL39QTT-I', 'fYaXJXf60gU',\n",
       "       'kK6ZlukniGo', '6wqM0O-tpmQ', 'EZxkymw426U', 'sKX2e9YucPM',\n",
       "       'W9NSh0HAtsk', 'ZeSJQtD3rV0', 'iE0S4FTdVyk', 'ECn7Sg6Grww',\n",
       "       'kvJcjPV9xXs', 'C5x8Tf2HowA', 'Nj_oMYopmTc', 'UUZgF4ac_LY',\n",
       "       '4oLj2Bxc3vM'], dtype=object)"
      ]
     },
     "execution_count": 107,
     "metadata": {},
     "output_type": "execute_result"
    }
   ],
   "source": [
    "signers = dataset['signer_id'].unique()\n",
    "signers"
   ]
  },
  {
   "cell_type": "code",
   "execution_count": 108,
   "id": "cfb83b86",
   "metadata": {},
   "outputs": [
    {
     "data": {
      "text/plain": [
       "17"
      ]
     },
     "execution_count": 108,
     "metadata": {},
     "output_type": "execute_result"
    }
   ],
   "source": [
    "len(signers)"
   ]
  },
  {
   "cell_type": "code",
   "execution_count": 109,
   "id": "9a0c01ed",
   "metadata": {},
   "outputs": [],
   "source": [
    "signers_train = signers[:14]\n",
    "signers_test = signers[14:]"
   ]
  },
  {
   "cell_type": "code",
   "execution_count": 110,
   "id": "46e2ce07",
   "metadata": {},
   "outputs": [],
   "source": [
    "dataset_train = dataset[dataset['signer_id'].isin(signers_train)]\n",
    "dataset_test = dataset[dataset['signer_id'].isin(signers_test)]"
   ]
  },
  {
   "cell_type": "code",
   "execution_count": 111,
   "id": "453bce02",
   "metadata": {},
   "outputs": [
    {
     "data": {
      "text/plain": [
       "array(['A', 'B', 'C', 'O', 'D', 'E', 'F', 'G', 'I', 'L', 'M', 'N', 'P',\n",
       "       'Q', 'R', 'V', 'S', 'T', 'U', 'W', 'Y'], dtype=object)"
      ]
     },
     "execution_count": 111,
     "metadata": {},
     "output_type": "execute_result"
    }
   ],
   "source": [
    "labels = dataset['sign'].unique()\n",
    "labels"
   ]
  },
  {
   "cell_type": "code",
   "execution_count": 112,
   "id": "4f57f094",
   "metadata": {
    "scrolled": true
   },
   "outputs": [
    {
     "data": {
      "text/html": [
       "<style>#sk-container-id-11 {color: black;}#sk-container-id-11 pre{padding: 0;}#sk-container-id-11 div.sk-toggleable {background-color: white;}#sk-container-id-11 label.sk-toggleable__label {cursor: pointer;display: block;width: 100%;margin-bottom: 0;padding: 0.3em;box-sizing: border-box;text-align: center;}#sk-container-id-11 label.sk-toggleable__label-arrow:before {content: \"▸\";float: left;margin-right: 0.25em;color: #696969;}#sk-container-id-11 label.sk-toggleable__label-arrow:hover:before {color: black;}#sk-container-id-11 div.sk-estimator:hover label.sk-toggleable__label-arrow:before {color: black;}#sk-container-id-11 div.sk-toggleable__content {max-height: 0;max-width: 0;overflow: hidden;text-align: left;background-color: #f0f8ff;}#sk-container-id-11 div.sk-toggleable__content pre {margin: 0.2em;color: black;border-radius: 0.25em;background-color: #f0f8ff;}#sk-container-id-11 input.sk-toggleable__control:checked~div.sk-toggleable__content {max-height: 200px;max-width: 100%;overflow: auto;}#sk-container-id-11 input.sk-toggleable__control:checked~label.sk-toggleable__label-arrow:before {content: \"▾\";}#sk-container-id-11 div.sk-estimator input.sk-toggleable__control:checked~label.sk-toggleable__label {background-color: #d4ebff;}#sk-container-id-11 div.sk-label input.sk-toggleable__control:checked~label.sk-toggleable__label {background-color: #d4ebff;}#sk-container-id-11 input.sk-hidden--visually {border: 0;clip: rect(1px 1px 1px 1px);clip: rect(1px, 1px, 1px, 1px);height: 1px;margin: -1px;overflow: hidden;padding: 0;position: absolute;width: 1px;}#sk-container-id-11 div.sk-estimator {font-family: monospace;background-color: #f0f8ff;border: 1px dotted black;border-radius: 0.25em;box-sizing: border-box;margin-bottom: 0.5em;}#sk-container-id-11 div.sk-estimator:hover {background-color: #d4ebff;}#sk-container-id-11 div.sk-parallel-item::after {content: \"\";width: 100%;border-bottom: 1px solid gray;flex-grow: 1;}#sk-container-id-11 div.sk-label:hover label.sk-toggleable__label {background-color: #d4ebff;}#sk-container-id-11 div.sk-serial::before {content: \"\";position: absolute;border-left: 1px solid gray;box-sizing: border-box;top: 0;bottom: 0;left: 50%;z-index: 0;}#sk-container-id-11 div.sk-serial {display: flex;flex-direction: column;align-items: center;background-color: white;padding-right: 0.2em;padding-left: 0.2em;position: relative;}#sk-container-id-11 div.sk-item {position: relative;z-index: 1;}#sk-container-id-11 div.sk-parallel {display: flex;align-items: stretch;justify-content: center;background-color: white;position: relative;}#sk-container-id-11 div.sk-item::before, #sk-container-id-11 div.sk-parallel-item::before {content: \"\";position: absolute;border-left: 1px solid gray;box-sizing: border-box;top: 0;bottom: 0;left: 50%;z-index: -1;}#sk-container-id-11 div.sk-parallel-item {display: flex;flex-direction: column;z-index: 1;position: relative;background-color: white;}#sk-container-id-11 div.sk-parallel-item:first-child::after {align-self: flex-end;width: 50%;}#sk-container-id-11 div.sk-parallel-item:last-child::after {align-self: flex-start;width: 50%;}#sk-container-id-11 div.sk-parallel-item:only-child::after {width: 0;}#sk-container-id-11 div.sk-dashed-wrapped {border: 1px dashed gray;margin: 0 0.4em 0.5em 0.4em;box-sizing: border-box;padding-bottom: 0.4em;background-color: white;}#sk-container-id-11 div.sk-label label {font-family: monospace;font-weight: bold;display: inline-block;line-height: 1.2em;}#sk-container-id-11 div.sk-label-container {text-align: center;}#sk-container-id-11 div.sk-container {/* jupyter's `normalize.less` sets `[hidden] { display: none; }` but bootstrap.min.css set `[hidden] { display: none !important; }` so we also need the `!important` here to be able to override the default hidden behavior on the sphinx rendered scikit-learn.org. See: https://github.com/scikit-learn/scikit-learn/issues/21755 */display: inline-block !important;position: relative;}#sk-container-id-11 div.sk-text-repr-fallback {display: none;}</style><div id=\"sk-container-id-11\" class=\"sk-top-container\"><div class=\"sk-text-repr-fallback\"><pre>LabelEncoder()</pre><b>In a Jupyter environment, please rerun this cell to show the HTML representation or trust the notebook. <br />On GitHub, the HTML representation is unable to render, please try loading this page with nbviewer.org.</b></div><div class=\"sk-container\" hidden><div class=\"sk-item\"><div class=\"sk-estimator sk-toggleable\"><input class=\"sk-toggleable__control sk-hidden--visually\" id=\"sk-estimator-id-11\" type=\"checkbox\" checked><label for=\"sk-estimator-id-11\" class=\"sk-toggleable__label sk-toggleable__label-arrow\">LabelEncoder</label><div class=\"sk-toggleable__content\"><pre>LabelEncoder()</pre></div></div></div></div></div>"
      ],
      "text/plain": [
       "LabelEncoder()"
      ]
     },
     "execution_count": 112,
     "metadata": {},
     "output_type": "execute_result"
    }
   ],
   "source": [
    "le = preprocessing.LabelEncoder()\n",
    "le.fit(labels)"
   ]
  },
  {
   "cell_type": "code",
   "execution_count": 113,
   "id": "f2f704c3",
   "metadata": {},
   "outputs": [],
   "source": [
    "X_train = np.array(dataset_train['landmarks'].tolist())\n",
    "Y_train = np.array(le.transform(dataset_train['sign']))"
   ]
  },
  {
   "cell_type": "code",
   "execution_count": 114,
   "id": "905abc51",
   "metadata": {},
   "outputs": [],
   "source": [
    "X_test = np.array(dataset_test['landmarks'].tolist())\n",
    "Y_test = np.array(le.transform(dataset_test['sign']))"
   ]
  },
  {
   "cell_type": "code",
   "execution_count": 115,
   "id": "27966d5c",
   "metadata": {
    "scrolled": true
   },
   "outputs": [
    {
     "data": {
      "text/plain": [
       "((18324, 63), (4552, 63))"
      ]
     },
     "execution_count": 115,
     "metadata": {},
     "output_type": "execute_result"
    }
   ],
   "source": [
    "X_train.shape, X_test.shape"
   ]
  },
  {
   "cell_type": "markdown",
   "id": "f6f4a581",
   "metadata": {},
   "source": [
    "# <span style=\"color:purple\"> TRAIN MODEL </span>"
   ]
  },
  {
   "cell_type": "code",
   "execution_count": 116,
   "id": "444cdf03",
   "metadata": {},
   "outputs": [],
   "source": [
    "model = SVC(decision_function_shape='ovo')"
   ]
  },
  {
   "cell_type": "code",
   "execution_count": 117,
   "id": "071ad9b2",
   "metadata": {},
   "outputs": [
    {
     "data": {
      "text/html": [
       "<style>#sk-container-id-12 {color: black;}#sk-container-id-12 pre{padding: 0;}#sk-container-id-12 div.sk-toggleable {background-color: white;}#sk-container-id-12 label.sk-toggleable__label {cursor: pointer;display: block;width: 100%;margin-bottom: 0;padding: 0.3em;box-sizing: border-box;text-align: center;}#sk-container-id-12 label.sk-toggleable__label-arrow:before {content: \"▸\";float: left;margin-right: 0.25em;color: #696969;}#sk-container-id-12 label.sk-toggleable__label-arrow:hover:before {color: black;}#sk-container-id-12 div.sk-estimator:hover label.sk-toggleable__label-arrow:before {color: black;}#sk-container-id-12 div.sk-toggleable__content {max-height: 0;max-width: 0;overflow: hidden;text-align: left;background-color: #f0f8ff;}#sk-container-id-12 div.sk-toggleable__content pre {margin: 0.2em;color: black;border-radius: 0.25em;background-color: #f0f8ff;}#sk-container-id-12 input.sk-toggleable__control:checked~div.sk-toggleable__content {max-height: 200px;max-width: 100%;overflow: auto;}#sk-container-id-12 input.sk-toggleable__control:checked~label.sk-toggleable__label-arrow:before {content: \"▾\";}#sk-container-id-12 div.sk-estimator input.sk-toggleable__control:checked~label.sk-toggleable__label {background-color: #d4ebff;}#sk-container-id-12 div.sk-label input.sk-toggleable__control:checked~label.sk-toggleable__label {background-color: #d4ebff;}#sk-container-id-12 input.sk-hidden--visually {border: 0;clip: rect(1px 1px 1px 1px);clip: rect(1px, 1px, 1px, 1px);height: 1px;margin: -1px;overflow: hidden;padding: 0;position: absolute;width: 1px;}#sk-container-id-12 div.sk-estimator {font-family: monospace;background-color: #f0f8ff;border: 1px dotted black;border-radius: 0.25em;box-sizing: border-box;margin-bottom: 0.5em;}#sk-container-id-12 div.sk-estimator:hover {background-color: #d4ebff;}#sk-container-id-12 div.sk-parallel-item::after {content: \"\";width: 100%;border-bottom: 1px solid gray;flex-grow: 1;}#sk-container-id-12 div.sk-label:hover label.sk-toggleable__label {background-color: #d4ebff;}#sk-container-id-12 div.sk-serial::before {content: \"\";position: absolute;border-left: 1px solid gray;box-sizing: border-box;top: 0;bottom: 0;left: 50%;z-index: 0;}#sk-container-id-12 div.sk-serial {display: flex;flex-direction: column;align-items: center;background-color: white;padding-right: 0.2em;padding-left: 0.2em;position: relative;}#sk-container-id-12 div.sk-item {position: relative;z-index: 1;}#sk-container-id-12 div.sk-parallel {display: flex;align-items: stretch;justify-content: center;background-color: white;position: relative;}#sk-container-id-12 div.sk-item::before, #sk-container-id-12 div.sk-parallel-item::before {content: \"\";position: absolute;border-left: 1px solid gray;box-sizing: border-box;top: 0;bottom: 0;left: 50%;z-index: -1;}#sk-container-id-12 div.sk-parallel-item {display: flex;flex-direction: column;z-index: 1;position: relative;background-color: white;}#sk-container-id-12 div.sk-parallel-item:first-child::after {align-self: flex-end;width: 50%;}#sk-container-id-12 div.sk-parallel-item:last-child::after {align-self: flex-start;width: 50%;}#sk-container-id-12 div.sk-parallel-item:only-child::after {width: 0;}#sk-container-id-12 div.sk-dashed-wrapped {border: 1px dashed gray;margin: 0 0.4em 0.5em 0.4em;box-sizing: border-box;padding-bottom: 0.4em;background-color: white;}#sk-container-id-12 div.sk-label label {font-family: monospace;font-weight: bold;display: inline-block;line-height: 1.2em;}#sk-container-id-12 div.sk-label-container {text-align: center;}#sk-container-id-12 div.sk-container {/* jupyter's `normalize.less` sets `[hidden] { display: none; }` but bootstrap.min.css set `[hidden] { display: none !important; }` so we also need the `!important` here to be able to override the default hidden behavior on the sphinx rendered scikit-learn.org. See: https://github.com/scikit-learn/scikit-learn/issues/21755 */display: inline-block !important;position: relative;}#sk-container-id-12 div.sk-text-repr-fallback {display: none;}</style><div id=\"sk-container-id-12\" class=\"sk-top-container\"><div class=\"sk-text-repr-fallback\"><pre>SVC(decision_function_shape=&#x27;ovo&#x27;)</pre><b>In a Jupyter environment, please rerun this cell to show the HTML representation or trust the notebook. <br />On GitHub, the HTML representation is unable to render, please try loading this page with nbviewer.org.</b></div><div class=\"sk-container\" hidden><div class=\"sk-item\"><div class=\"sk-estimator sk-toggleable\"><input class=\"sk-toggleable__control sk-hidden--visually\" id=\"sk-estimator-id-12\" type=\"checkbox\" checked><label for=\"sk-estimator-id-12\" class=\"sk-toggleable__label sk-toggleable__label-arrow\">SVC</label><div class=\"sk-toggleable__content\"><pre>SVC(decision_function_shape=&#x27;ovo&#x27;)</pre></div></div></div></div></div>"
      ],
      "text/plain": [
       "SVC(decision_function_shape='ovo')"
      ]
     },
     "execution_count": 117,
     "metadata": {},
     "output_type": "execute_result"
    }
   ],
   "source": [
    "model.fit(X_train, Y_train)"
   ]
  },
  {
   "cell_type": "markdown",
   "id": "3c45761b",
   "metadata": {},
   "source": [
    "# <span style=\"color:purple\"> SCORE MODEL </span>"
   ]
  },
  {
   "cell_type": "code",
   "execution_count": 118,
   "id": "896a2997",
   "metadata": {},
   "outputs": [],
   "source": [
    "predictions = model.predict(X_test)"
   ]
  },
  {
   "cell_type": "code",
   "execution_count": 119,
   "id": "17ec9c8c",
   "metadata": {},
   "outputs": [
    {
     "name": "stdout",
     "output_type": "stream",
     "text": [
      "              precision    recall  f1-score   support\n",
      "\n",
      "           A       0.99      1.00      0.99       292\n",
      "           B       0.98      1.00      0.99       192\n",
      "           C       0.90      0.97      0.94       272\n",
      "           O       0.92      0.99      0.95       249\n",
      "           D       1.00      0.87      0.93       439\n",
      "           E       0.99      0.85      0.91       706\n",
      "           F       0.99      1.00      1.00       164\n",
      "           G       1.00      1.00      1.00       217\n",
      "           I       1.00      0.99      1.00       116\n",
      "           L       0.71      0.99      0.83       181\n",
      "           M       0.99      0.58      0.74       212\n",
      "           N       0.90      0.96      0.93       118\n",
      "           P       0.94      1.00      0.97       268\n",
      "           Q       0.99      1.00      1.00       112\n",
      "           R       0.75      0.95      0.84       125\n",
      "           V       1.00      1.00      1.00       181\n",
      "           S       0.60      0.99      0.75       164\n",
      "           T       0.94      0.69      0.80       131\n",
      "           U       0.90      1.00      0.95       121\n",
      "           W       1.00      0.88      0.94       165\n",
      "           Y       1.00      0.98      0.99       127\n",
      "\n",
      "    accuracy                           0.93      4552\n",
      "   macro avg       0.93      0.94      0.93      4552\n",
      "weighted avg       0.94      0.93      0.93      4552\n",
      "\n"
     ]
    }
   ],
   "source": [
    "print(classification_report(Y_test, predictions, target_names=labels))"
   ]
  },
  {
   "cell_type": "code",
   "execution_count": 125,
   "id": "5dcf4eb2",
   "metadata": {},
   "outputs": [
    {
     "data": {
      "text/plain": [
       "<Axes: >"
      ]
     },
     "execution_count": 125,
     "metadata": {},
     "output_type": "execute_result"
    },
    {
     "data": {
      "image/png": "[encoded data removed]",
      "text/plain": [
       "<Figure size 720x576 with 2 Axes>"
      ]
     },
     "metadata": {
      "needs_background": "light"
     },
     "output_type": "display_data"
    }
   ],
   "source": [
    "cm = confusion_matrix(Y_test, predictions)\n",
    "df_cm = pd.DataFrame(np.array(cm), columns=labels, index=labels)\n",
    "plt.figure(figsize=(10,8))\n",
    "sns.heatmap(df_cm, annot=True, fmt=\".0f\")"
   ]
  },
  {
   "cell_type": "markdown",
   "id": "294fd2a7",
   "metadata": {},
   "source": [
    "# <span style=\"color:purple\"> CONVERT TO ONNX </span>"
   ]
  },
  {
   "cell_type": "code",
   "execution_count": 129,
   "id": "b56c7868",
   "metadata": {},
   "outputs": [],
   "source": [
    "initial_type = [ \n",
    "    ( 'input_landmarks' , FloatTensorType( [None,63] ) ) \n",
    "]\n",
    "\n",
    "converted_model = convert_sklearn(model, initial_types=initial_type)\n",
    "\n",
    "with open( \"alphabet_model.onnx\", \"wb\" ) as f:\n",
    "        f.write( converted_model.SerializeToString() )"
   ]
  }
 ],
 "metadata": {
  "kernelspec": {
   "display_name": "libras",
   "language": "python",
   "name": "libras"
  },
  "language_info": {
   "codemirror_mode": {
    "name": "ipython",
    "version": 3
   },
   "file_extension": ".py",
   "mimetype": "text/x-python",
   "name": "python",
   "nbconvert_exporter": "python",
   "pygments_lexer": "ipython3",
   "version": "3.10.4"
  }
 },
 "nbformat": 4,
 "nbformat_minor": 5
}
