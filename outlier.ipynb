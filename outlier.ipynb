{
 "cells": [
  {
   "cell_type": "code",
   "execution_count": 1,
   "metadata": {},
   "outputs": [],
   "source": [
    "import pandas as pd\n",
    "from sklearn.neighbors import LocalOutlierFactor\n",
    "from sklearn import preprocessing\n",
    "import numpy as np"
   ]
  },
  {
   "cell_type": "code",
   "execution_count": 2,
   "metadata": {},
   "outputs": [
    {
     "data": {
      "text/html": [
       "<div>\n",
       "<style scoped>\n",
       "    .dataframe tbody tr th:only-of-type {\n",
       "        vertical-align: middle;\n",
       "    }\n",
       "\n",
       "    .dataframe tbody tr th {\n",
       "        vertical-align: top;\n",
       "    }\n",
       "\n",
       "    .dataframe thead th {\n",
       "        text-align: right;\n",
       "    }\n",
       "</style>\n",
       "<table border=\"1\" class=\"dataframe\">\n",
       "  <thead>\n",
       "    <tr style=\"text-align: right;\">\n",
       "      <th></th>\n",
       "      <th>0</th>\n",
       "      <th>1</th>\n",
       "      <th>2</th>\n",
       "      <th>3</th>\n",
       "      <th>4</th>\n",
       "      <th>5</th>\n",
       "      <th>6</th>\n",
       "      <th>7</th>\n",
       "      <th>8</th>\n",
       "      <th>9</th>\n",
       "      <th>...</th>\n",
       "      <th>55</th>\n",
       "      <th>56</th>\n",
       "      <th>57</th>\n",
       "      <th>58</th>\n",
       "      <th>59</th>\n",
       "      <th>60</th>\n",
       "      <th>61</th>\n",
       "      <th>62</th>\n",
       "      <th>classe</th>\n",
       "      <th>signer</th>\n",
       "    </tr>\n",
       "  </thead>\n",
       "  <tbody>\n",
       "    <tr>\n",
       "      <th>0</th>\n",
       "      <td>-0.017227</td>\n",
       "      <td>0.074167</td>\n",
       "      <td>0.028766</td>\n",
       "      <td>0.013955</td>\n",
       "      <td>0.058635</td>\n",
       "      <td>0.009331</td>\n",
       "      <td>0.039599</td>\n",
       "      <td>0.031790</td>\n",
       "      <td>0.008871</td>\n",
       "      <td>0.050059</td>\n",
       "      <td>...</td>\n",
       "      <td>-0.002371</td>\n",
       "      <td>-0.023715</td>\n",
       "      <td>-0.027515</td>\n",
       "      <td>0.010693</td>\n",
       "      <td>-0.039081</td>\n",
       "      <td>-0.027290</td>\n",
       "      <td>0.030310</td>\n",
       "      <td>-0.033299</td>\n",
       "      <td>a</td>\n",
       "      <td>1</td>\n",
       "    </tr>\n",
       "    <tr>\n",
       "      <th>1</th>\n",
       "      <td>-0.018473</td>\n",
       "      <td>0.077650</td>\n",
       "      <td>0.041800</td>\n",
       "      <td>0.014967</td>\n",
       "      <td>0.061603</td>\n",
       "      <td>0.021215</td>\n",
       "      <td>0.038178</td>\n",
       "      <td>0.035501</td>\n",
       "      <td>0.016030</td>\n",
       "      <td>0.050092</td>\n",
       "      <td>...</td>\n",
       "      <td>-0.003565</td>\n",
       "      <td>-0.024832</td>\n",
       "      <td>-0.028658</td>\n",
       "      <td>0.008516</td>\n",
       "      <td>-0.039817</td>\n",
       "      <td>-0.029420</td>\n",
       "      <td>0.025273</td>\n",
       "      <td>-0.032277</td>\n",
       "      <td>a</td>\n",
       "      <td>1</td>\n",
       "    </tr>\n",
       "    <tr>\n",
       "      <th>2</th>\n",
       "      <td>-0.017608</td>\n",
       "      <td>0.076486</td>\n",
       "      <td>0.024926</td>\n",
       "      <td>0.014930</td>\n",
       "      <td>0.061257</td>\n",
       "      <td>0.009007</td>\n",
       "      <td>0.040645</td>\n",
       "      <td>0.035219</td>\n",
       "      <td>0.006765</td>\n",
       "      <td>0.051121</td>\n",
       "      <td>...</td>\n",
       "      <td>-0.005195</td>\n",
       "      <td>-0.026848</td>\n",
       "      <td>-0.029004</td>\n",
       "      <td>0.009567</td>\n",
       "      <td>-0.043633</td>\n",
       "      <td>-0.029709</td>\n",
       "      <td>0.025901</td>\n",
       "      <td>-0.034032</td>\n",
       "      <td>a</td>\n",
       "      <td>1</td>\n",
       "    </tr>\n",
       "    <tr>\n",
       "      <th>3</th>\n",
       "      <td>-0.017949</td>\n",
       "      <td>0.074026</td>\n",
       "      <td>0.025973</td>\n",
       "      <td>0.014371</td>\n",
       "      <td>0.061371</td>\n",
       "      <td>0.008799</td>\n",
       "      <td>0.041199</td>\n",
       "      <td>0.034858</td>\n",
       "      <td>0.007288</td>\n",
       "      <td>0.053026</td>\n",
       "      <td>...</td>\n",
       "      <td>-0.006043</td>\n",
       "      <td>-0.025303</td>\n",
       "      <td>-0.028130</td>\n",
       "      <td>0.008016</td>\n",
       "      <td>-0.042826</td>\n",
       "      <td>-0.029535</td>\n",
       "      <td>0.025131</td>\n",
       "      <td>-0.035854</td>\n",
       "      <td>a</td>\n",
       "      <td>1</td>\n",
       "    </tr>\n",
       "    <tr>\n",
       "      <th>4</th>\n",
       "      <td>-0.019782</td>\n",
       "      <td>0.073851</td>\n",
       "      <td>0.022678</td>\n",
       "      <td>0.013184</td>\n",
       "      <td>0.060462</td>\n",
       "      <td>0.003672</td>\n",
       "      <td>0.040342</td>\n",
       "      <td>0.034172</td>\n",
       "      <td>0.004060</td>\n",
       "      <td>0.050691</td>\n",
       "      <td>...</td>\n",
       "      <td>-0.006673</td>\n",
       "      <td>-0.024682</td>\n",
       "      <td>-0.028794</td>\n",
       "      <td>0.006464</td>\n",
       "      <td>-0.041332</td>\n",
       "      <td>-0.029523</td>\n",
       "      <td>0.025261</td>\n",
       "      <td>-0.036269</td>\n",
       "      <td>a</td>\n",
       "      <td>1</td>\n",
       "    </tr>\n",
       "  </tbody>\n",
       "</table>\n",
       "<p>5 rows × 65 columns</p>\n",
       "</div>"
      ],
      "text/plain": [
       "          0         1         2         3         4         5         6  \\\n",
       "0 -0.017227  0.074167  0.028766  0.013955  0.058635  0.009331  0.039599   \n",
       "1 -0.018473  0.077650  0.041800  0.014967  0.061603  0.021215  0.038178   \n",
       "2 -0.017608  0.076486  0.024926  0.014930  0.061257  0.009007  0.040645   \n",
       "3 -0.017949  0.074026  0.025973  0.014371  0.061371  0.008799  0.041199   \n",
       "4 -0.019782  0.073851  0.022678  0.013184  0.060462  0.003672  0.040342   \n",
       "\n",
       "          7         8         9  ...        55        56        57        58  \\\n",
       "0  0.031790  0.008871  0.050059  ... -0.002371 -0.023715 -0.027515  0.010693   \n",
       "1  0.035501  0.016030  0.050092  ... -0.003565 -0.024832 -0.028658  0.008516   \n",
       "2  0.035219  0.006765  0.051121  ... -0.005195 -0.026848 -0.029004  0.009567   \n",
       "3  0.034858  0.007288  0.053026  ... -0.006043 -0.025303 -0.028130  0.008016   \n",
       "4  0.034172  0.004060  0.050691  ... -0.006673 -0.024682 -0.028794  0.006464   \n",
       "\n",
       "         59        60        61        62  classe  signer  \n",
       "0 -0.039081 -0.027290  0.030310 -0.033299       a       1  \n",
       "1 -0.039817 -0.029420  0.025273 -0.032277       a       1  \n",
       "2 -0.043633 -0.029709  0.025901 -0.034032       a       1  \n",
       "3 -0.042826 -0.029535  0.025131 -0.035854       a       1  \n",
       "4 -0.041332 -0.029523  0.025261 -0.036269       a       1  \n",
       "\n",
       "[5 rows x 65 columns]"
      ]
     },
     "execution_count": 2,
     "metadata": {},
     "output_type": "execute_result"
    }
   ],
   "source": [
    "columns = [i for i in range(0, 63)]\n",
    "columns.extend([\"classe\", \"signer\"])\n",
    "dataset = pd.read_csv('dataset_v2.csv')\n",
    "dataset.columns = columns\n",
    "dataset.head()"
   ]
  },
  {
   "cell_type": "code",
   "execution_count": 3,
   "metadata": {},
   "outputs": [
    {
     "data": {
      "text/plain": [
       "LabelEncoder()"
      ]
     },
     "execution_count": 3,
     "metadata": {},
     "output_type": "execute_result"
    }
   ],
   "source": [
    "classes = ['a', 'b', 'c', 'd', 'e', 'f', 'g', 'i', 'l', 'm', 'n', 'o', 'p',\n",
    "        'q', 'r', 's', 't', 'u', 'v', 'w', 'y']\n",
    "le = preprocessing.LabelEncoder()\n",
    "le.fit(classes)"
   ]
  },
  {
   "cell_type": "code",
   "execution_count": 4,
   "metadata": {},
   "outputs": [],
   "source": [
    "feats = [i for i in range(0, 63)]\n",
    "\n",
    "X_train = np.array(dataset[feats])\n",
    "Y_train = np.array(le.transform(dataset['classe']))"
   ]
  },
  {
   "cell_type": "code",
   "execution_count": 5,
   "metadata": {},
   "outputs": [],
   "source": [
    "outlier = pd.read_csv('outlier.csv')\n",
    "outlier.columns = [i for i in range(0, 63)]"
   ]
  },
  {
   "cell_type": "code",
   "execution_count": 6,
   "metadata": {},
   "outputs": [],
   "source": [
    "X_out = np.array(outlier[feats])"
   ]
  },
  {
   "cell_type": "code",
   "execution_count": 7,
   "metadata": {},
   "outputs": [
    {
     "data": {
      "text/plain": [
       "LocalOutlierFactor(contamination=0.2, n_neighbors=50, novelty=True)"
      ]
     },
     "execution_count": 7,
     "metadata": {},
     "output_type": "execute_result"
    }
   ],
   "source": [
    "lof = LocalOutlierFactor(n_neighbors=50, contamination=0.2, novelty=True)\n",
    "lof.fit(X_train)"
   ]
  },
  {
   "cell_type": "code",
   "execution_count": 8,
   "metadata": {},
   "outputs": [
    {
     "data": {
      "text/plain": [
       "array([ 1, -1,  1,  1,  1, -1, -1, -1, -1, -1, -1, -1, -1, -1, -1, -1, -1,\n",
       "       -1, -1, -1, -1, -1, -1, -1, -1, -1, -1, -1, -1, -1, -1, -1, -1, -1,\n",
       "       -1, -1])"
      ]
     },
     "execution_count": 8,
     "metadata": {},
     "output_type": "execute_result"
    }
   ],
   "source": [
    "lof.predict(X_out)"
   ]
  }
 ],
 "metadata": {
  "environment": {
   "kernel": "python3",
   "name": "tf2-gpu.2-8.m103",
   "type": "gcloud",
   "uri": "gcr.io/deeplearning-platform-release/tf2-gpu.2-8:m103"
  },
  "kernelspec": {
   "display_name": "Python 3 (ipykernel)",
   "language": "python",
   "name": "python3"
  },
  "language_info": {
   "codemirror_mode": {
    "name": "ipython",
    "version": 3
   },
   "file_extension": ".py",
   "mimetype": "text/x-python",
   "name": "python",
   "nbconvert_exporter": "python",
   "pygments_lexer": "ipython3",
   "version": "3.7.12"
  },
  "vscode": {
   "interpreter": {
    "hash": "916dbcbb3f70747c44a77c7bcd40155683ae19c65e1c03b4aa3499c5328201f1"
   }
  }
 },
 "nbformat": 4,
 "nbformat_minor": 4
}
